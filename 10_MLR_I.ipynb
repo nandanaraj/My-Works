{
  "cells": [
    {
      "cell_type": "markdown",
      "metadata": {
        "id": "view-in-github",
        "colab_type": "text"
      },
      "source": [
        "<a href=\"https://colab.research.google.com/github/nandanaraj/My-Works/blob/main/10_MLR_I.ipynb\" target=\"_parent\"><img src=\"https://colab.research.google.com/assets/colab-badge.svg\" alt=\"Open In Colab\"/></a>"
      ]
    },
    {
      "cell_type": "code",
      "execution_count": null,
      "metadata": {
        "id": "kLgdW6-HZQkH"
      },
      "outputs": [],
      "source": [
        "import numpy as np\n",
        "import pandas as pd\n",
        "import matplotlib.pyplot as plt\n",
        "import seaborn as sns\n",
        "import os\n",
        "%matplotlib inline"
      ]
    },
    {
      "cell_type": "code",
      "execution_count": null,
      "metadata": {
        "id": "2q67BV5ZZQkJ",
        "outputId": "cc510c17-beb3-4171-ff1b-7a2d2170eb7d"
      },
      "outputs": [
        {
          "data": {
            "text/plain": [
              "'C:\\\\Users\\\\T0SHIBA'"
            ]
          },
          "execution_count": 2,
          "metadata": {},
          "output_type": "execute_result"
        }
      ],
      "source": [
        "os.getcwd()"
      ]
    },
    {
      "cell_type": "code",
      "execution_count": null,
      "metadata": {
        "id": "z52V5D7vZQkK"
      },
      "outputs": [],
      "source": [
        "data = pd.read_csv(\"C:\\\\Users\\\\T0SHIBA\\\\Documents\\\\IMS Ankur Sir\\\\Data Sets\\\\MLR_House_Price.csv\")"
      ]
    },
    {
      "cell_type": "code",
      "execution_count": null,
      "metadata": {
        "id": "oRtA3TjsZQkK",
        "outputId": "fee9cd5f-a915-468a-feb5-39aec2c0007c"
      },
      "outputs": [
        {
          "data": {
            "text/html": [
              "<div>\n",
              "<style scoped>\n",
              "    .dataframe tbody tr th:only-of-type {\n",
              "        vertical-align: middle;\n",
              "    }\n",
              "\n",
              "    .dataframe tbody tr th {\n",
              "        vertical-align: top;\n",
              "    }\n",
              "\n",
              "    .dataframe thead th {\n",
              "        text-align: right;\n",
              "    }\n",
              "</style>\n",
              "<table border=\"1\" class=\"dataframe\">\n",
              "  <thead>\n",
              "    <tr style=\"text-align: right;\">\n",
              "      <th></th>\n",
              "      <th>price</th>\n",
              "      <th>rooms</th>\n",
              "      <th>income</th>\n",
              "      <th>taxrate</th>\n",
              "      <th>adexpense</th>\n",
              "    </tr>\n",
              "  </thead>\n",
              "  <tbody>\n",
              "    <tr>\n",
              "      <th>0</th>\n",
              "      <td>100646</td>\n",
              "      <td>4.4</td>\n",
              "      <td>47150</td>\n",
              "      <td>1.30</td>\n",
              "      <td>24.84</td>\n",
              "    </tr>\n",
              "    <tr>\n",
              "      <th>1</th>\n",
              "      <td>100838</td>\n",
              "      <td>4.4</td>\n",
              "      <td>47150</td>\n",
              "      <td>1.46</td>\n",
              "      <td>24.84</td>\n",
              "    </tr>\n",
              "    <tr>\n",
              "      <th>2</th>\n",
              "      <td>92959</td>\n",
              "      <td>4.0</td>\n",
              "      <td>47735</td>\n",
              "      <td>2.94</td>\n",
              "      <td>25.18</td>\n",
              "    </tr>\n",
              "    <tr>\n",
              "      <th>3</th>\n",
              "      <td>93431</td>\n",
              "      <td>4.0</td>\n",
              "      <td>47735</td>\n",
              "      <td>3.08</td>\n",
              "      <td>24.77</td>\n",
              "    </tr>\n",
              "    <tr>\n",
              "      <th>4</th>\n",
              "      <td>106811</td>\n",
              "      <td>4.4</td>\n",
              "      <td>50990</td>\n",
              "      <td>2.48</td>\n",
              "      <td>7.89</td>\n",
              "    </tr>\n",
              "  </tbody>\n",
              "</table>\n",
              "</div>"
            ],
            "text/plain": [
              "    price  rooms  income  taxrate  adexpense\n",
              "0  100646    4.4   47150     1.30      24.84\n",
              "1  100838    4.4   47150     1.46      24.84\n",
              "2   92959    4.0   47735     2.94      25.18\n",
              "3   93431    4.0   47735     3.08      24.77\n",
              "4  106811    4.4   50990     2.48       7.89"
            ]
          },
          "execution_count": 4,
          "metadata": {},
          "output_type": "execute_result"
        }
      ],
      "source": [
        "data.head()"
      ]
    },
    {
      "cell_type": "code",
      "execution_count": null,
      "metadata": {
        "id": "gMwfMIugZQkK",
        "outputId": "36f36536-ba4d-4ac8-85d2-d95d4b6f331b"
      },
      "outputs": [
        {
          "data": {
            "text/html": [
              "<div>\n",
              "<style scoped>\n",
              "    .dataframe tbody tr th:only-of-type {\n",
              "        vertical-align: middle;\n",
              "    }\n",
              "\n",
              "    .dataframe tbody tr th {\n",
              "        vertical-align: top;\n",
              "    }\n",
              "\n",
              "    .dataframe thead th {\n",
              "        text-align: right;\n",
              "    }\n",
              "</style>\n",
              "<table border=\"1\" class=\"dataframe\">\n",
              "  <thead>\n",
              "    <tr style=\"text-align: right;\">\n",
              "      <th></th>\n",
              "      <th>price</th>\n",
              "      <th>rooms</th>\n",
              "      <th>income</th>\n",
              "      <th>taxrate</th>\n",
              "      <th>adexpense</th>\n",
              "    </tr>\n",
              "  </thead>\n",
              "  <tbody>\n",
              "    <tr>\n",
              "      <th>count</th>\n",
              "      <td>90.000000</td>\n",
              "      <td>90.000000</td>\n",
              "      <td>90.000000</td>\n",
              "      <td>90.000000</td>\n",
              "      <td>90.000000</td>\n",
              "    </tr>\n",
              "    <tr>\n",
              "      <th>mean</th>\n",
              "      <td>107061.111111</td>\n",
              "      <td>4.477778</td>\n",
              "      <td>55414.000000</td>\n",
              "      <td>2.707000</td>\n",
              "      <td>16.211667</td>\n",
              "    </tr>\n",
              "    <tr>\n",
              "      <th>std</th>\n",
              "      <td>9913.361242</td>\n",
              "      <td>0.240682</td>\n",
              "      <td>4754.929979</td>\n",
              "      <td>0.916026</td>\n",
              "      <td>6.333899</td>\n",
              "    </tr>\n",
              "    <tr>\n",
              "      <th>min</th>\n",
              "      <td>91599.000000</td>\n",
              "      <td>4.000000</td>\n",
              "      <td>46085.000000</td>\n",
              "      <td>0.700000</td>\n",
              "      <td>2.800000</td>\n",
              "    </tr>\n",
              "    <tr>\n",
              "      <th>25%</th>\n",
              "      <td>100354.750000</td>\n",
              "      <td>4.300000</td>\n",
              "      <td>51785.000000</td>\n",
              "      <td>2.160000</td>\n",
              "      <td>11.480000</td>\n",
              "    </tr>\n",
              "    <tr>\n",
              "      <th>50%</th>\n",
              "      <td>105603.000000</td>\n",
              "      <td>4.400000</td>\n",
              "      <td>54245.000000</td>\n",
              "      <td>2.545000</td>\n",
              "      <td>15.930000</td>\n",
              "    </tr>\n",
              "    <tr>\n",
              "      <th>75%</th>\n",
              "      <td>112808.750000</td>\n",
              "      <td>4.600000</td>\n",
              "      <td>58760.000000</td>\n",
              "      <td>3.390000</td>\n",
              "      <td>20.702500</td>\n",
              "    </tr>\n",
              "    <tr>\n",
              "      <th>max</th>\n",
              "      <td>136952.000000</td>\n",
              "      <td>5.200000</td>\n",
              "      <td>67895.000000</td>\n",
              "      <td>5.340000</td>\n",
              "      <td>28.430000</td>\n",
              "    </tr>\n",
              "  </tbody>\n",
              "</table>\n",
              "</div>"
            ],
            "text/plain": [
              "               price      rooms        income    taxrate  adexpense\n",
              "count      90.000000  90.000000     90.000000  90.000000  90.000000\n",
              "mean   107061.111111   4.477778  55414.000000   2.707000  16.211667\n",
              "std      9913.361242   0.240682   4754.929979   0.916026   6.333899\n",
              "min     91599.000000   4.000000  46085.000000   0.700000   2.800000\n",
              "25%    100354.750000   4.300000  51785.000000   2.160000  11.480000\n",
              "50%    105603.000000   4.400000  54245.000000   2.545000  15.930000\n",
              "75%    112808.750000   4.600000  58760.000000   3.390000  20.702500\n",
              "max    136952.000000   5.200000  67895.000000   5.340000  28.430000"
            ]
          },
          "execution_count": 5,
          "metadata": {},
          "output_type": "execute_result"
        }
      ],
      "source": [
        "data.describe()"
      ]
    },
    {
      "cell_type": "code",
      "execution_count": null,
      "metadata": {
        "id": "1g7Sb1yTZQkK",
        "outputId": "fe456a24-5a43-498e-f97e-8409ebef8440"
      },
      "outputs": [
        {
          "name": "stdout",
          "output_type": "stream",
          "text": [
            "<class 'pandas.core.frame.DataFrame'>\n",
            "RangeIndex: 90 entries, 0 to 89\n",
            "Data columns (total 5 columns):\n",
            " #   Column     Non-Null Count  Dtype  \n",
            "---  ------     --------------  -----  \n",
            " 0   price      90 non-null     int64  \n",
            " 1   rooms      90 non-null     float64\n",
            " 2   income     90 non-null     int64  \n",
            " 3   taxrate    90 non-null     float64\n",
            " 4   adexpense  90 non-null     float64\n",
            "dtypes: float64(3), int64(2)\n",
            "memory usage: 3.6 KB\n"
          ]
        }
      ],
      "source": [
        "data.info()"
      ]
    },
    {
      "cell_type": "markdown",
      "metadata": {
        "id": "5mrNgr8NZQkL"
      },
      "source": [
        "## Price is the Dependent Variable  "
      ]
    },
    {
      "cell_type": "code",
      "execution_count": null,
      "metadata": {
        "id": "co7nFzdXZQkM",
        "outputId": "9b2a7b1a-5a24-490c-db56-bac27ca94549"
      },
      "outputs": [
        {
          "data": {
            "text/html": [
              "<div>\n",
              "<style scoped>\n",
              "    .dataframe tbody tr th:only-of-type {\n",
              "        vertical-align: middle;\n",
              "    }\n",
              "\n",
              "    .dataframe tbody tr th {\n",
              "        vertical-align: top;\n",
              "    }\n",
              "\n",
              "    .dataframe thead th {\n",
              "        text-align: right;\n",
              "    }\n",
              "</style>\n",
              "<table border=\"1\" class=\"dataframe\">\n",
              "  <thead>\n",
              "    <tr style=\"text-align: right;\">\n",
              "      <th></th>\n",
              "      <th>price</th>\n",
              "      <th>rooms</th>\n",
              "      <th>income</th>\n",
              "      <th>taxrate</th>\n",
              "      <th>adexpense</th>\n",
              "    </tr>\n",
              "  </thead>\n",
              "  <tbody>\n",
              "    <tr>\n",
              "      <th>price</th>\n",
              "      <td>1.000000</td>\n",
              "      <td>0.542322</td>\n",
              "      <td>0.425555</td>\n",
              "      <td>-0.383116</td>\n",
              "      <td>-0.335101</td>\n",
              "    </tr>\n",
              "    <tr>\n",
              "      <th>rooms</th>\n",
              "      <td>0.542322</td>\n",
              "      <td>1.000000</td>\n",
              "      <td>0.393221</td>\n",
              "      <td>-0.093263</td>\n",
              "      <td>-0.278123</td>\n",
              "    </tr>\n",
              "    <tr>\n",
              "      <th>income</th>\n",
              "      <td>0.425555</td>\n",
              "      <td>0.393221</td>\n",
              "      <td>1.000000</td>\n",
              "      <td>-0.042889</td>\n",
              "      <td>-0.197835</td>\n",
              "    </tr>\n",
              "    <tr>\n",
              "      <th>taxrate</th>\n",
              "      <td>-0.383116</td>\n",
              "      <td>-0.093263</td>\n",
              "      <td>-0.042889</td>\n",
              "      <td>1.000000</td>\n",
              "      <td>0.146984</td>\n",
              "    </tr>\n",
              "    <tr>\n",
              "      <th>adexpense</th>\n",
              "      <td>-0.335101</td>\n",
              "      <td>-0.278123</td>\n",
              "      <td>-0.197835</td>\n",
              "      <td>0.146984</td>\n",
              "      <td>1.000000</td>\n",
              "    </tr>\n",
              "  </tbody>\n",
              "</table>\n",
              "</div>"
            ],
            "text/plain": [
              "              price     rooms    income   taxrate  adexpense\n",
              "price      1.000000  0.542322  0.425555 -0.383116  -0.335101\n",
              "rooms      0.542322  1.000000  0.393221 -0.093263  -0.278123\n",
              "income     0.425555  0.393221  1.000000 -0.042889  -0.197835\n",
              "taxrate   -0.383116 -0.093263 -0.042889  1.000000   0.146984\n",
              "adexpense -0.335101 -0.278123 -0.197835  0.146984   1.000000"
            ]
          },
          "execution_count": 7,
          "metadata": {},
          "output_type": "execute_result"
        }
      ],
      "source": [
        "data.corr()"
      ]
    },
    {
      "cell_type": "code",
      "execution_count": null,
      "metadata": {
        "id": "UQ_MKz1WZQkM",
        "outputId": "fd64b11a-bc67-496b-b7a6-2caf8739d6a3"
      },
      "outputs": [
        {
          "data": {
            "text/plain": [
              "<seaborn.axisgrid.PairGrid at 0x9b80d10>"
            ]
          },
          "execution_count": 8,
          "metadata": {},
          "output_type": "execute_result"
        },
        {
          "data": {
            "image/png": "[encoded data removed]",
            "text/plain": [
              "<Figure size 720x180 with 4 Axes>"
            ]
          },
          "metadata": {
            "needs_background": "light"
          },
          "output_type": "display_data"
        }
      ],
      "source": [
        "sns.pairplot(data,x_vars=['rooms','income','taxrate','adexpense'],y_vars=['price'])"
      ]
    },
    {
      "cell_type": "code",
      "execution_count": null,
      "metadata": {
        "id": "EJ3hLMIHZQkN",
        "outputId": "1fcdcb0f-118d-4819-9469-c2a5eb60281e"
      },
      "outputs": [
        {
          "data": {
            "text/plain": [
              "<matplotlib.axes._subplots.AxesSubplot at 0xa33e9f0>"
            ]
          },
          "execution_count": 9,
          "metadata": {},
          "output_type": "execute_result"
        },
        {
          "data": {
            "image/png": "[encoded data removed]",
            "text/plain": [
              "<Figure size 432x288 with 1 Axes>"
            ]
          },
          "metadata": {
            "needs_background": "light"
          },
          "output_type": "display_data"
        }
      ],
      "source": [
        "sns.boxplot(data['rooms'],orient='v')"
      ]
    },
    {
      "cell_type": "code",
      "execution_count": null,
      "metadata": {
        "id": "IbrOn2uIZQkN",
        "outputId": "3bfcc41c-0b1f-42db-bec9-a595fafd3439"
      },
      "outputs": [
        {
          "data": {
            "text/plain": [
              "<matplotlib.axes._subplots.AxesSubplot at 0xa478950>"
            ]
          },
          "execution_count": 10,
          "metadata": {},
          "output_type": "execute_result"
        },
        {
          "data": {
            "image/png": "[encoded data removed]",
            "text/plain": [
              "<Figure size 432x288 with 1 Axes>"
            ]
          },
          "metadata": {
            "needs_background": "light"
          },
          "output_type": "display_data"
        }
      ],
      "source": [
        "data.boxplot('income')"
      ]
    },
    {
      "cell_type": "code",
      "execution_count": null,
      "metadata": {
        "id": "hTNHsPYRZQkO",
        "outputId": "fefba597-fde2-4e71-9f57-d7b762d89a00"
      },
      "outputs": [
        {
          "data": {
            "text/plain": [
              "<matplotlib.axes._subplots.AxesSubplot at 0xa4b66d0>"
            ]
          },
          "execution_count": 11,
          "metadata": {},
          "output_type": "execute_result"
        },
        {
          "data": {
            "image/png": "[encoded data removed]",
            "text/plain": [
              "<Figure size 432x288 with 1 Axes>"
            ]
          },
          "metadata": {
            "needs_background": "light"
          },
          "output_type": "display_data"
        }
      ],
      "source": [
        "sns.boxplot(data['taxrate'])"
      ]
    },
    {
      "cell_type": "code",
      "execution_count": null,
      "metadata": {
        "id": "1hJN4GepZQkO",
        "outputId": "ea4b6aa2-51d7-4866-b692-db8c6fe4e714"
      },
      "outputs": [
        {
          "data": {
            "text/plain": [
              "<matplotlib.axes._subplots.AxesSubplot at 0xa4f5cf0>"
            ]
          },
          "execution_count": 12,
          "metadata": {},
          "output_type": "execute_result"
        },
        {
          "data": {
            "image/png": "[encoded data removed]",
            "text/plain": [
              "<Figure size 432x288 with 1 Axes>"
            ]
          },
          "metadata": {
            "needs_background": "light"
          },
          "output_type": "display_data"
        }
      ],
      "source": [
        "sns.boxplot(data['adexpense'])"
      ]
    },
    {
      "cell_type": "code",
      "execution_count": null,
      "metadata": {
        "id": "6LcjIfIaZQkO",
        "outputId": "81c8de5e-6eed-44dc-bdbc-b665b2ee6491"
      },
      "outputs": [
        {
          "data": {
            "text/plain": [
              "<matplotlib.axes._subplots.AxesSubplot at 0xa5280b0>"
            ]
          },
          "execution_count": 13,
          "metadata": {},
          "output_type": "execute_result"
        },
        {
          "data": {
            "image/png": "[encoded data removed]",
            "text/plain": [
              "<Figure size 432x288 with 1 Axes>"
            ]
          },
          "metadata": {
            "needs_background": "light"
          },
          "output_type": "display_data"
        }
      ],
      "source": [
        "sns.scatterplot(data['rooms'],data['income'])"
      ]
    },
    {
      "cell_type": "code",
      "execution_count": null,
      "metadata": {
        "id": "l5HtCncrZQkP",
        "outputId": "b4831adf-b2d7-49c6-be09-17a030908276"
      },
      "outputs": [
        {
          "data": {
            "text/plain": [
              "<matplotlib.axes._subplots.AxesSubplot at 0xa566c10>"
            ]
          },
          "execution_count": 14,
          "metadata": {},
          "output_type": "execute_result"
        },
        {
          "data": {
            "image/png": "[encoded data removed]",
            "text/plain": [
              "<Figure size 432x288 with 1 Axes>"
            ]
          },
          "metadata": {
            "needs_background": "light"
          },
          "output_type": "display_data"
        }
      ],
      "source": [
        "sns.scatterplot(data['rooms'],data['taxrate'])"
      ]
    },
    {
      "cell_type": "code",
      "execution_count": null,
      "metadata": {
        "id": "Ur38F0JrZQkP",
        "outputId": "3ebf7055-743b-4771-9622-122e47a7336b"
      },
      "outputs": [
        {
          "data": {
            "text/plain": [
              "<matplotlib.axes._subplots.AxesSubplot at 0xa5a10f0>"
            ]
          },
          "execution_count": 15,
          "metadata": {},
          "output_type": "execute_result"
        },
        {
          "data": {
            "image/png": "[encoded data removed]",
            "text/plain": [
              "<Figure size 432x288 with 1 Axes>"
            ]
          },
          "metadata": {
            "needs_background": "light"
          },
          "output_type": "display_data"
        }
      ],
      "source": [
        "sns.scatterplot(data['rooms'],data['adexpense'])"
      ]
    },
    {
      "cell_type": "code",
      "execution_count": null,
      "metadata": {
        "id": "_NsXMhkKZQkP",
        "outputId": "8c3b7adf-e274-4b05-831e-8b6f4389cd2b"
      },
      "outputs": [
        {
          "data": {
            "text/plain": [
              "<matplotlib.axes._subplots.AxesSubplot at 0xa5dbb90>"
            ]
          },
          "execution_count": 16,
          "metadata": {},
          "output_type": "execute_result"
        },
        {
          "data": {
            "image/png": "[encoded data removed]",
            "text/plain": [
              "<Figure size 432x288 with 1 Axes>"
            ]
          },
          "metadata": {
            "needs_background": "light"
          },
          "output_type": "display_data"
        }
      ],
      "source": [
        "sns.scatterplot(data['income'],data['taxrate'])"
      ]
    },
    {
      "cell_type": "code",
      "execution_count": null,
      "metadata": {
        "id": "BLF4sQMlZQkQ",
        "outputId": "6469f424-b66a-4678-8bdc-67c4f4ac0a1c"
      },
      "outputs": [
        {
          "data": {
            "text/plain": [
              "<matplotlib.axes._subplots.AxesSubplot at 0xa617df0>"
            ]
          },
          "execution_count": 17,
          "metadata": {},
          "output_type": "execute_result"
        },
        {
          "data": {
            "image/png": "[encoded data removed]",
            "text/plain": [
              "<Figure size 432x288 with 1 Axes>"
            ]
          },
          "metadata": {
            "needs_background": "light"
          },
          "output_type": "display_data"
        }
      ],
      "source": [
        "sns.scatterplot(data['income'],data['adexpense'])"
      ]
    },
    {
      "cell_type": "code",
      "execution_count": null,
      "metadata": {
        "id": "0POGsY7MZQkQ",
        "outputId": "d25f80b2-32ce-48ca-a438-5b47fa1fe357"
      },
      "outputs": [
        {
          "data": {
            "text/plain": [
              "<matplotlib.axes._subplots.AxesSubplot at 0xa659550>"
            ]
          },
          "execution_count": 18,
          "metadata": {},
          "output_type": "execute_result"
        },
        {
          "data": {
            "image/png": "[encoded data removed]",
            "text/plain": [
              "<Figure size 432x288 with 1 Axes>"
            ]
          },
          "metadata": {
            "needs_background": "light"
          },
          "output_type": "display_data"
        }
      ],
      "source": [
        "sns.scatterplot(data['taxrate'],data['adexpense'])"
      ]
    },
    {
      "cell_type": "markdown",
      "metadata": {
        "id": "SDW0pWExZQkR"
      },
      "source": [
        "## All Independent Variables Must have a linear relationship with the Dependent  Variable"
      ]
    },
    {
      "cell_type": "markdown",
      "metadata": {
        "id": "cbNZnc1vZQkR"
      },
      "source": [
        "## There should be no Multicollinarity : The Independent variables should not have correlation among themseleves"
      ]
    },
    {
      "cell_type": "markdown",
      "metadata": {
        "id": "ccCulGB5ZQkR"
      },
      "source": [
        "# Model 1"
      ]
    },
    {
      "cell_type": "code",
      "execution_count": null,
      "metadata": {
        "id": "iCgEFbPnZQkS"
      },
      "outputs": [],
      "source": [
        "X = data[['rooms','income','taxrate','adexpense']]"
      ]
    },
    {
      "cell_type": "code",
      "execution_count": null,
      "metadata": {
        "id": "nXcMsnn5ZQkS",
        "outputId": "b57260e0-d621-4f85-877f-4b48cb6d3ef6"
      },
      "outputs": [
        {
          "data": {
            "text/html": [
              "<div>\n",
              "<style scoped>\n",
              "    .dataframe tbody tr th:only-of-type {\n",
              "        vertical-align: middle;\n",
              "    }\n",
              "\n",
              "    .dataframe tbody tr th {\n",
              "        vertical-align: top;\n",
              "    }\n",
              "\n",
              "    .dataframe thead th {\n",
              "        text-align: right;\n",
              "    }\n",
              "</style>\n",
              "<table border=\"1\" class=\"dataframe\">\n",
              "  <thead>\n",
              "    <tr style=\"text-align: right;\">\n",
              "      <th></th>\n",
              "      <th>rooms</th>\n",
              "      <th>income</th>\n",
              "      <th>taxrate</th>\n",
              "      <th>adexpense</th>\n",
              "    </tr>\n",
              "  </thead>\n",
              "  <tbody>\n",
              "    <tr>\n",
              "      <th>0</th>\n",
              "      <td>4.4</td>\n",
              "      <td>47150</td>\n",
              "      <td>1.30</td>\n",
              "      <td>24.84</td>\n",
              "    </tr>\n",
              "    <tr>\n",
              "      <th>1</th>\n",
              "      <td>4.4</td>\n",
              "      <td>47150</td>\n",
              "      <td>1.46</td>\n",
              "      <td>24.84</td>\n",
              "    </tr>\n",
              "    <tr>\n",
              "      <th>2</th>\n",
              "      <td>4.0</td>\n",
              "      <td>47735</td>\n",
              "      <td>2.94</td>\n",
              "      <td>25.18</td>\n",
              "    </tr>\n",
              "    <tr>\n",
              "      <th>3</th>\n",
              "      <td>4.0</td>\n",
              "      <td>47735</td>\n",
              "      <td>3.08</td>\n",
              "      <td>24.77</td>\n",
              "    </tr>\n",
              "    <tr>\n",
              "      <th>4</th>\n",
              "      <td>4.4</td>\n",
              "      <td>50990</td>\n",
              "      <td>2.48</td>\n",
              "      <td>7.89</td>\n",
              "    </tr>\n",
              "  </tbody>\n",
              "</table>\n",
              "</div>"
            ],
            "text/plain": [
              "   rooms  income  taxrate  adexpense\n",
              "0    4.4   47150     1.30      24.84\n",
              "1    4.4   47150     1.46      24.84\n",
              "2    4.0   47735     2.94      25.18\n",
              "3    4.0   47735     3.08      24.77\n",
              "4    4.4   50990     2.48       7.89"
            ]
          },
          "execution_count": 20,
          "metadata": {},
          "output_type": "execute_result"
        }
      ],
      "source": [
        "X.head() #2D"
      ]
    },
    {
      "cell_type": "code",
      "execution_count": null,
      "metadata": {
        "id": "OMnPIMwgZQkS"
      },
      "outputs": [],
      "source": [
        "y = data['price']"
      ]
    },
    {
      "cell_type": "code",
      "execution_count": null,
      "metadata": {
        "id": "gfMM1A7kZQkT",
        "outputId": "33770932-4241-4234-c7d2-70fe312e98a1"
      },
      "outputs": [
        {
          "data": {
            "text/plain": [
              "0    100646\n",
              "1    100838\n",
              "2     92959\n",
              "3     93431\n",
              "4    106811\n",
              "Name: price, dtype: int64"
            ]
          },
          "execution_count": 22,
          "metadata": {},
          "output_type": "execute_result"
        }
      ],
      "source": [
        "y.head() #1D"
      ]
    },
    {
      "cell_type": "code",
      "execution_count": null,
      "metadata": {
        "id": "HLvlC3vKZQkT"
      },
      "outputs": [],
      "source": [
        "from sklearn.model_selection import train_test_split"
      ]
    },
    {
      "cell_type": "code",
      "execution_count": null,
      "metadata": {
        "id": "u75hNnWpZQkT"
      },
      "outputs": [],
      "source": [
        "X_train,X_test,y_train,y_test = train_test_split(X,y,test_size=0.2)"
      ]
    },
    {
      "cell_type": "code",
      "execution_count": null,
      "metadata": {
        "id": "bGUZwg62ZQkT",
        "outputId": "2fd3a285-21d7-4cca-cf82-efa7b3261c7d"
      },
      "outputs": [
        {
          "data": {
            "text/html": [
              "<div>\n",
              "<style scoped>\n",
              "    .dataframe tbody tr th:only-of-type {\n",
              "        vertical-align: middle;\n",
              "    }\n",
              "\n",
              "    .dataframe tbody tr th {\n",
              "        vertical-align: top;\n",
              "    }\n",
              "\n",
              "    .dataframe thead th {\n",
              "        text-align: right;\n",
              "    }\n",
              "</style>\n",
              "<table border=\"1\" class=\"dataframe\">\n",
              "  <thead>\n",
              "    <tr style=\"text-align: right;\">\n",
              "      <th></th>\n",
              "      <th>rooms</th>\n",
              "      <th>income</th>\n",
              "      <th>taxrate</th>\n",
              "      <th>adexpense</th>\n",
              "    </tr>\n",
              "  </thead>\n",
              "  <tbody>\n",
              "    <tr>\n",
              "      <th>79</th>\n",
              "      <td>4.8</td>\n",
              "      <td>60305</td>\n",
              "      <td>3.50</td>\n",
              "      <td>11.45</td>\n",
              "    </tr>\n",
              "    <tr>\n",
              "      <th>5</th>\n",
              "      <td>4.4</td>\n",
              "      <td>50990</td>\n",
              "      <td>2.97</td>\n",
              "      <td>9.01</td>\n",
              "    </tr>\n",
              "    <tr>\n",
              "      <th>8</th>\n",
              "      <td>4.5</td>\n",
              "      <td>53915</td>\n",
              "      <td>2.21</td>\n",
              "      <td>13.00</td>\n",
              "    </tr>\n",
              "    <tr>\n",
              "      <th>2</th>\n",
              "      <td>4.0</td>\n",
              "      <td>47735</td>\n",
              "      <td>2.94</td>\n",
              "      <td>25.18</td>\n",
              "    </tr>\n",
              "    <tr>\n",
              "      <th>16</th>\n",
              "      <td>4.3</td>\n",
              "      <td>53270</td>\n",
              "      <td>1.03</td>\n",
              "      <td>21.30</td>\n",
              "    </tr>\n",
              "  </tbody>\n",
              "</table>\n",
              "</div>"
            ],
            "text/plain": [
              "    rooms  income  taxrate  adexpense\n",
              "79    4.8   60305     3.50      11.45\n",
              "5     4.4   50990     2.97       9.01\n",
              "8     4.5   53915     2.21      13.00\n",
              "2     4.0   47735     2.94      25.18\n",
              "16    4.3   53270     1.03      21.30"
            ]
          },
          "execution_count": 25,
          "metadata": {},
          "output_type": "execute_result"
        }
      ],
      "source": [
        "X_train.head()"
      ]
    },
    {
      "cell_type": "code",
      "execution_count": null,
      "metadata": {
        "id": "qPmDAUQ0ZQkU",
        "outputId": "77d0bf23-653a-434e-e7e5-7fb76cd2a48a"
      },
      "outputs": [
        {
          "data": {
            "text/html": [
              "<div>\n",
              "<style scoped>\n",
              "    .dataframe tbody tr th:only-of-type {\n",
              "        vertical-align: middle;\n",
              "    }\n",
              "\n",
              "    .dataframe tbody tr th {\n",
              "        vertical-align: top;\n",
              "    }\n",
              "\n",
              "    .dataframe thead th {\n",
              "        text-align: right;\n",
              "    }\n",
              "</style>\n",
              "<table border=\"1\" class=\"dataframe\">\n",
              "  <thead>\n",
              "    <tr style=\"text-align: right;\">\n",
              "      <th></th>\n",
              "      <th>rooms</th>\n",
              "      <th>income</th>\n",
              "      <th>taxrate</th>\n",
              "      <th>adexpense</th>\n",
              "    </tr>\n",
              "  </thead>\n",
              "  <tbody>\n",
              "    <tr>\n",
              "      <th>33</th>\n",
              "      <td>4.7</td>\n",
              "      <td>60140</td>\n",
              "      <td>2.20</td>\n",
              "      <td>13.39</td>\n",
              "    </tr>\n",
              "    <tr>\n",
              "      <th>24</th>\n",
              "      <td>4.3</td>\n",
              "      <td>52625</td>\n",
              "      <td>1.94</td>\n",
              "      <td>26.67</td>\n",
              "    </tr>\n",
              "    <tr>\n",
              "      <th>31</th>\n",
              "      <td>4.6</td>\n",
              "      <td>57455</td>\n",
              "      <td>2.22</td>\n",
              "      <td>24.51</td>\n",
              "    </tr>\n",
              "    <tr>\n",
              "      <th>28</th>\n",
              "      <td>4.1</td>\n",
              "      <td>64625</td>\n",
              "      <td>2.46</td>\n",
              "      <td>13.92</td>\n",
              "    </tr>\n",
              "    <tr>\n",
              "      <th>42</th>\n",
              "      <td>4.7</td>\n",
              "      <td>58205</td>\n",
              "      <td>2.89</td>\n",
              "      <td>8.38</td>\n",
              "    </tr>\n",
              "  </tbody>\n",
              "</table>\n",
              "</div>"
            ],
            "text/plain": [
              "    rooms  income  taxrate  adexpense\n",
              "33    4.7   60140     2.20      13.39\n",
              "24    4.3   52625     1.94      26.67\n",
              "31    4.6   57455     2.22      24.51\n",
              "28    4.1   64625     2.46      13.92\n",
              "42    4.7   58205     2.89       8.38"
            ]
          },
          "execution_count": 26,
          "metadata": {},
          "output_type": "execute_result"
        }
      ],
      "source": [
        "X_test.head()"
      ]
    },
    {
      "cell_type": "code",
      "execution_count": null,
      "metadata": {
        "id": "YyRMXF3fZQkU",
        "outputId": "e097f5d0-88b9-4fc6-ffce-f6e6f1e27b6e"
      },
      "outputs": [
        {
          "data": {
            "text/plain": [
              "79    108168\n",
              "5     108301\n",
              "8     109154\n",
              "2      92959\n",
              "16     95668\n",
              "Name: price, dtype: int64"
            ]
          },
          "execution_count": 27,
          "metadata": {},
          "output_type": "execute_result"
        }
      ],
      "source": [
        "y_train.head()"
      ]
    },
    {
      "cell_type": "code",
      "execution_count": null,
      "metadata": {
        "id": "R-lt3apsZQkU",
        "outputId": "1168436f-fab3-43a0-d39c-3f395fbf6d40"
      },
      "outputs": [
        {
          "data": {
            "text/plain": [
              "33    111602\n",
              "24    101860\n",
              "31    110117\n",
              "28     97996\n",
              "42    111332\n",
              "Name: price, dtype: int64"
            ]
          },
          "execution_count": 28,
          "metadata": {},
          "output_type": "execute_result"
        }
      ],
      "source": [
        "y_test.head()"
      ]
    },
    {
      "cell_type": "code",
      "execution_count": null,
      "metadata": {
        "id": "44UXnbFQZQkU",
        "outputId": "6a5ab8e1-668c-421d-d205-085a549fe6fa"
      },
      "outputs": [
        {
          "data": {
            "text/plain": [
              "(72, 4)"
            ]
          },
          "execution_count": 29,
          "metadata": {},
          "output_type": "execute_result"
        }
      ],
      "source": [
        "X_train.shape"
      ]
    },
    {
      "cell_type": "code",
      "execution_count": null,
      "metadata": {
        "id": "imGEBQPKZQkV",
        "outputId": "d7a2d2d8-e7b3-4c6d-de9b-00c67fb18d46"
      },
      "outputs": [
        {
          "data": {
            "text/plain": [
              "(18, 4)"
            ]
          },
          "execution_count": 30,
          "metadata": {},
          "output_type": "execute_result"
        }
      ],
      "source": [
        "X_test.shape"
      ]
    },
    {
      "cell_type": "code",
      "execution_count": null,
      "metadata": {
        "id": "QYlSloujZQkV",
        "outputId": "f2b299dd-4290-45de-e066-a57edd06329c"
      },
      "outputs": [
        {
          "data": {
            "text/plain": [
              "(72,)"
            ]
          },
          "execution_count": 31,
          "metadata": {},
          "output_type": "execute_result"
        }
      ],
      "source": [
        "y_train.shape"
      ]
    },
    {
      "cell_type": "code",
      "execution_count": null,
      "metadata": {
        "id": "iYOEXc9GZQkV",
        "outputId": "b15fabd2-c676-4a24-b51e-ecd7e62e3aaf"
      },
      "outputs": [
        {
          "data": {
            "text/plain": [
              "(18,)"
            ]
          },
          "execution_count": 32,
          "metadata": {},
          "output_type": "execute_result"
        }
      ],
      "source": [
        "y_test.shape"
      ]
    },
    {
      "cell_type": "code",
      "execution_count": null,
      "metadata": {
        "id": "4G9pV17rZQkW"
      },
      "outputs": [],
      "source": [
        "from sklearn.linear_model import LinearRegression"
      ]
    },
    {
      "cell_type": "code",
      "execution_count": null,
      "metadata": {
        "id": "fMvkBB7OZQkW"
      },
      "outputs": [],
      "source": [
        "lr = LinearRegression()"
      ]
    },
    {
      "cell_type": "code",
      "execution_count": null,
      "metadata": {
        "id": "snz6XPOPZQkW",
        "outputId": "78400b48-7009-40cd-ace8-226d779725aa"
      },
      "outputs": [
        {
          "data": {
            "text/plain": [
              "LinearRegression(copy_X=True, fit_intercept=True, n_jobs=None, normalize=False)"
            ]
          },
          "execution_count": 35,
          "metadata": {},
          "output_type": "execute_result"
        }
      ],
      "source": [
        "lr.fit(X_train,y_train)"
      ]
    },
    {
      "cell_type": "code",
      "execution_count": null,
      "metadata": {
        "id": "ykGONDtzZQkW"
      },
      "outputs": [],
      "source": [
        "y_predict = lr.predict(X_test)"
      ]
    },
    {
      "cell_type": "markdown",
      "metadata": {
        "id": "CdczNnMiZQkW"
      },
      "source": [
        "## Evaluate the Model"
      ]
    },
    {
      "cell_type": "code",
      "execution_count": null,
      "metadata": {
        "id": "QfSwHaGIZQkW",
        "outputId": "9b964168-b92e-4d1b-cb9f-b301fece54ac"
      },
      "outputs": [
        {
          "data": {
            "text/plain": [
              "16363.325559043355"
            ]
          },
          "execution_count": 37,
          "metadata": {},
          "output_type": "execute_result"
        }
      ],
      "source": [
        "lr.intercept_"
      ]
    },
    {
      "cell_type": "code",
      "execution_count": null,
      "metadata": {
        "id": "2eEAFJQuZQkX",
        "outputId": "893235b9-4a50-44d9-c863-395b725f4f04"
      },
      "outputs": [
        {
          "data": {
            "text/plain": [
              "array([ 1.48716860e+04,  6.14451337e-01, -3.00995432e+03, -1.10506217e+02])"
            ]
          },
          "execution_count": 38,
          "metadata": {},
          "output_type": "execute_result"
        }
      ],
      "source": [
        "lr.coef_"
      ]
    },
    {
      "cell_type": "code",
      "execution_count": null,
      "metadata": {
        "id": "eGab0YNWZQkX"
      },
      "outputs": [],
      "source": [
        "coeff_data = pd.DataFrame(lr.coef_,X_test.columns,columns=['Coefficient'])"
      ]
    },
    {
      "cell_type": "code",
      "execution_count": null,
      "metadata": {
        "id": "6zK0hMigZQkX",
        "outputId": "04cd021d-8781-4d60-95dd-136a26ef9400"
      },
      "outputs": [
        {
          "data": {
            "text/html": [
              "<div>\n",
              "<style scoped>\n",
              "    .dataframe tbody tr th:only-of-type {\n",
              "        vertical-align: middle;\n",
              "    }\n",
              "\n",
              "    .dataframe tbody tr th {\n",
              "        vertical-align: top;\n",
              "    }\n",
              "\n",
              "    .dataframe thead th {\n",
              "        text-align: right;\n",
              "    }\n",
              "</style>\n",
              "<table border=\"1\" class=\"dataframe\">\n",
              "  <thead>\n",
              "    <tr style=\"text-align: right;\">\n",
              "      <th></th>\n",
              "      <th>Coefficient</th>\n",
              "    </tr>\n",
              "  </thead>\n",
              "  <tbody>\n",
              "    <tr>\n",
              "      <th>rooms</th>\n",
              "      <td>14871.686023</td>\n",
              "    </tr>\n",
              "    <tr>\n",
              "      <th>income</th>\n",
              "      <td>0.614451</td>\n",
              "    </tr>\n",
              "    <tr>\n",
              "      <th>taxrate</th>\n",
              "      <td>-3009.954317</td>\n",
              "    </tr>\n",
              "    <tr>\n",
              "      <th>adexpense</th>\n",
              "      <td>-110.506217</td>\n",
              "    </tr>\n",
              "  </tbody>\n",
              "</table>\n",
              "</div>"
            ],
            "text/plain": [
              "            Coefficient\n",
              "rooms      14871.686023\n",
              "income         0.614451\n",
              "taxrate    -3009.954317\n",
              "adexpense   -110.506217"
            ]
          },
          "execution_count": 40,
          "metadata": {},
          "output_type": "execute_result"
        }
      ],
      "source": [
        "coeff_data"
      ]
    },
    {
      "cell_type": "markdown",
      "metadata": {
        "id": "1Ze7mjWMZQkX"
      },
      "source": [
        "### price = 18717.264+ 16332.359 x rooms + 0.528082 x income + -3865.722935 x taxrate + -190.46 x adexpense"
      ]
    },
    {
      "cell_type": "code",
      "execution_count": null,
      "metadata": {
        "id": "X4uR7_6cZQkY"
      },
      "outputs": [],
      "source": [
        "from sklearn import metrics"
      ]
    },
    {
      "cell_type": "code",
      "execution_count": null,
      "metadata": {
        "id": "n7NZDaQTZQkY"
      },
      "outputs": [],
      "source": [
        "r_squared = metrics.r2_score(y_test,y_predict)"
      ]
    },
    {
      "cell_type": "code",
      "execution_count": null,
      "metadata": {
        "id": "cbV1VZV2ZQkY",
        "outputId": "86f6c87a-59d1-4f18-b98b-83ebb8010460"
      },
      "outputs": [
        {
          "data": {
            "text/plain": [
              "0.5530575164457778"
            ]
          },
          "execution_count": 43,
          "metadata": {},
          "output_type": "execute_result"
        }
      ],
      "source": [
        "r_squared"
      ]
    },
    {
      "cell_type": "code",
      "execution_count": null,
      "metadata": {
        "id": "HEvVtmINZQkY"
      },
      "outputs": [],
      "source": [
        "mse = metrics.mean_squared_error(y_test,y_predict)"
      ]
    },
    {
      "cell_type": "code",
      "execution_count": null,
      "metadata": {
        "id": "k1TUpaEHZQkY",
        "outputId": "9f98c777-0f9d-4299-9ce5-25a280a78d64"
      },
      "outputs": [
        {
          "data": {
            "text/plain": [
              "44388588.413401835"
            ]
          },
          "execution_count": 45,
          "metadata": {},
          "output_type": "execute_result"
        }
      ],
      "source": [
        "mse"
      ]
    },
    {
      "cell_type": "code",
      "execution_count": null,
      "metadata": {
        "id": "ydGgiKrEZQkZ"
      },
      "outputs": [],
      "source": [
        "rmse = np.sqrt(mse)"
      ]
    },
    {
      "cell_type": "code",
      "execution_count": null,
      "metadata": {
        "id": "7VAu8EfqZQkZ",
        "outputId": "210c9454-78c3-4243-f94a-b390fc91f3a1"
      },
      "outputs": [
        {
          "data": {
            "text/plain": [
              "6662.476147304532"
            ]
          },
          "execution_count": 47,
          "metadata": {},
          "output_type": "execute_result"
        }
      ],
      "source": [
        "rmse"
      ]
    },
    {
      "cell_type": "markdown",
      "metadata": {
        "id": "npSXqw3TZQkZ"
      },
      "source": [
        "###  Adjusted R square = 1-(1-r_square)* (n-1)/(n-k-1)"
      ]
    },
    {
      "cell_type": "code",
      "execution_count": null,
      "metadata": {
        "id": "AXUiDztxZQkZ",
        "outputId": "51ffcdbc-64fa-4b5b-8628-3a43c02a3ad3"
      },
      "outputs": [
        {
          "data": {
            "text/plain": [
              "0.5320249289844027"
            ]
          },
          "execution_count": 48,
          "metadata": {},
          "output_type": "execute_result"
        }
      ],
      "source": [
        "1-((1-r_squared)*(90-1)/(90-4-1))"
      ]
    },
    {
      "cell_type": "code",
      "execution_count": null,
      "metadata": {
        "id": "4zxLOWoTZQkZ",
        "outputId": "786b3687-9c9f-4400-86c9-41a2a0952d73"
      },
      "outputs": [
        {
          "data": {
            "text/html": [
              "<div>\n",
              "<style scoped>\n",
              "    .dataframe tbody tr th:only-of-type {\n",
              "        vertical-align: middle;\n",
              "    }\n",
              "\n",
              "    .dataframe tbody tr th {\n",
              "        vertical-align: top;\n",
              "    }\n",
              "\n",
              "    .dataframe thead th {\n",
              "        text-align: right;\n",
              "    }\n",
              "</style>\n",
              "<table border=\"1\" class=\"dataframe\">\n",
              "  <thead>\n",
              "    <tr style=\"text-align: right;\">\n",
              "      <th></th>\n",
              "      <th>features</th>\n",
              "      <th>Vif Factor</th>\n",
              "    </tr>\n",
              "  </thead>\n",
              "  <tbody>\n",
              "    <tr>\n",
              "      <th>0</th>\n",
              "      <td>rooms</td>\n",
              "      <td>143.597434</td>\n",
              "    </tr>\n",
              "    <tr>\n",
              "      <th>1</th>\n",
              "      <td>income</td>\n",
              "      <td>133.928557</td>\n",
              "    </tr>\n",
              "    <tr>\n",
              "      <th>2</th>\n",
              "      <td>taxrate</td>\n",
              "      <td>8.294397</td>\n",
              "    </tr>\n",
              "    <tr>\n",
              "      <th>3</th>\n",
              "      <td>adexpense</td>\n",
              "      <td>6.024481</td>\n",
              "    </tr>\n",
              "  </tbody>\n",
              "</table>\n",
              "</div>"
            ],
            "text/plain": [
              "    features  Vif Factor\n",
              "0      rooms  143.597434\n",
              "1     income  133.928557\n",
              "2    taxrate    8.294397\n",
              "3  adexpense    6.024481"
            ]
          },
          "execution_count": 49,
          "metadata": {},
          "output_type": "execute_result"
        }
      ],
      "source": [
        "from statsmodels.stats.outliers_influence import variance_inflation_factor\n",
        "vif = pd.DataFrame()\n",
        "vif['features']=X_test.columns\n",
        "vif['Vif Factor']=[variance_inflation_factor(X_test.values,i) for i in range (X_test.shape[1])]\n",
        "vif"
      ]
    },
    {
      "cell_type": "markdown",
      "metadata": {
        "id": "iPjlKzI0ZQka"
      },
      "source": [
        "## Variation Inflation Factor is an indication of Multicolinieraity; We have to remove the variables with VIF above 10"
      ]
    },
    {
      "cell_type": "code",
      "execution_count": null,
      "metadata": {
        "id": "yqu8lCiAZQka",
        "outputId": "60f63c56-c220-4bab-ecc6-9f9b61229081"
      },
      "outputs": [
        {
          "data": {
            "text/html": [
              "<div>\n",
              "<style scoped>\n",
              "    .dataframe tbody tr th:only-of-type {\n",
              "        vertical-align: middle;\n",
              "    }\n",
              "\n",
              "    .dataframe tbody tr th {\n",
              "        vertical-align: top;\n",
              "    }\n",
              "\n",
              "    .dataframe thead th {\n",
              "        text-align: right;\n",
              "    }\n",
              "</style>\n",
              "<table border=\"1\" class=\"dataframe\">\n",
              "  <thead>\n",
              "    <tr style=\"text-align: right;\">\n",
              "      <th></th>\n",
              "      <th>Original y_test</th>\n",
              "    </tr>\n",
              "  </thead>\n",
              "  <tbody>\n",
              "    <tr>\n",
              "      <th>0</th>\n",
              "      <td>111602</td>\n",
              "    </tr>\n",
              "    <tr>\n",
              "      <th>1</th>\n",
              "      <td>101860</td>\n",
              "    </tr>\n",
              "    <tr>\n",
              "      <th>2</th>\n",
              "      <td>110117</td>\n",
              "    </tr>\n",
              "    <tr>\n",
              "      <th>3</th>\n",
              "      <td>97996</td>\n",
              "    </tr>\n",
              "    <tr>\n",
              "      <th>4</th>\n",
              "      <td>111332</td>\n",
              "    </tr>\n",
              "  </tbody>\n",
              "</table>\n",
              "</div>"
            ],
            "text/plain": [
              "   Original y_test\n",
              "0           111602\n",
              "1           101860\n",
              "2           110117\n",
              "3            97996\n",
              "4           111332"
            ]
          },
          "execution_count": 50,
          "metadata": {},
          "output_type": "execute_result"
        }
      ],
      "source": [
        "df = pd.DataFrame(y_test.values,columns=['Original y_test'])\n",
        "df.head()"
      ]
    },
    {
      "cell_type": "code",
      "execution_count": null,
      "metadata": {
        "id": "KvF5iL6YZQka",
        "outputId": "681f103a-2640-4dcb-aab3-290da4126233"
      },
      "outputs": [
        {
          "data": {
            "text/html": [
              "<div>\n",
              "<style scoped>\n",
              "    .dataframe tbody tr th:only-of-type {\n",
              "        vertical-align: middle;\n",
              "    }\n",
              "\n",
              "    .dataframe tbody tr th {\n",
              "        vertical-align: top;\n",
              "    }\n",
              "\n",
              "    .dataframe thead th {\n",
              "        text-align: right;\n",
              "    }\n",
              "</style>\n",
              "<table border=\"1\" class=\"dataframe\">\n",
              "  <thead>\n",
              "    <tr style=\"text-align: right;\">\n",
              "      <th></th>\n",
              "      <th>Original y_test</th>\n",
              "      <th>Predicted y_test</th>\n",
              "      <th>Residuals</th>\n",
              "    </tr>\n",
              "  </thead>\n",
              "  <tbody>\n",
              "    <tr>\n",
              "      <th>0</th>\n",
              "      <td>111602</td>\n",
              "      <td>115111.775544</td>\n",
              "      <td>-3509.775544</td>\n",
              "    </tr>\n",
              "    <tr>\n",
              "      <th>1</th>\n",
              "      <td>101860</td>\n",
              "      <td>103860.564893</td>\n",
              "      <td>-2000.564893</td>\n",
              "    </tr>\n",
              "    <tr>\n",
              "      <th>2</th>\n",
              "      <td>110117</td>\n",
              "      <td>110685.776880</td>\n",
              "      <td>-568.776880</td>\n",
              "    </tr>\n",
              "    <tr>\n",
              "      <th>3</th>\n",
              "      <td>97996</td>\n",
              "      <td>108103.421761</td>\n",
              "      <td>-10107.421761</td>\n",
              "    </tr>\n",
              "    <tr>\n",
              "      <th>4</th>\n",
              "      <td>111332</td>\n",
              "      <td>112399.579876</td>\n",
              "      <td>-1067.579876</td>\n",
              "    </tr>\n",
              "  </tbody>\n",
              "</table>\n",
              "</div>"
            ],
            "text/plain": [
              "   Original y_test  Predicted y_test     Residuals\n",
              "0           111602     115111.775544  -3509.775544\n",
              "1           101860     103860.564893  -2000.564893\n",
              "2           110117     110685.776880   -568.776880\n",
              "3            97996     108103.421761 -10107.421761\n",
              "4           111332     112399.579876  -1067.579876"
            ]
          },
          "execution_count": 51,
          "metadata": {},
          "output_type": "execute_result"
        }
      ],
      "source": [
        "df['Predicted y_test']= pd.Series(y_predict)\n",
        "df['Residuals']=df['Original y_test']-df['Predicted y_test']\n",
        "df.head()\n"
      ]
    },
    {
      "cell_type": "markdown",
      "metadata": {
        "id": "jnyPUVFTZQkb"
      },
      "source": [
        "## Assumption 3: NO CORRELATION BETWEEN THE RESIDUALS"
      ]
    },
    {
      "cell_type": "markdown",
      "metadata": {
        "id": "PjlpFcpxZQkb"
      },
      "source": [
        "One way to determine if this assumption is met is to perform a Durbin-watson Test, which is used to detect the presence of auttocorrelation in the residuals of a regression\n",
        "\n",
        "\n",
        "H0 Null Hypothesis : There is no Correlation among the residuals\n",
        "\n",
        "HA Alternative Hypothesis : The residuals are correlated\n",
        "\n",
        "\n",
        "The test statistic is approximately equal to 2^(1-r) where r is the sample autocorrelation of the residuals.Thus thr test statistic will always be between 0 and 4 with the following interpretation:\n",
        "A test statistic of 2 indicates no serial correlation\n",
        "\n",
        "            The closer the test statistic is to 0, the more evidence of positive serial correlation\n",
        "\n",
        "            The closer the test statistic is to 4, the more evidence of negative serial correlation\n",
        "\n",
        "            As a rule of thumb, test statistics between 1.5 and 2.5 are cosidered as normal\n",
        "\n"
      ]
    },
    {
      "cell_type": "code",
      "execution_count": null,
      "metadata": {
        "id": "n6fg3oMtZQkb"
      },
      "outputs": [],
      "source": [
        "from statsmodels.stats.stattools import durbin_watson"
      ]
    },
    {
      "cell_type": "code",
      "execution_count": null,
      "metadata": {
        "id": "pLUES2weZQkc",
        "outputId": "0013ea15-ae9c-4962-c313-0ba0472e5f09"
      },
      "outputs": [
        {
          "data": {
            "text/plain": [
              "1.9604049378157558"
            ]
          },
          "execution_count": 53,
          "metadata": {},
          "output_type": "execute_result"
        }
      ],
      "source": [
        "durbin_watson(df['Residuals'])"
      ]
    },
    {
      "cell_type": "code",
      "execution_count": null,
      "metadata": {
        "id": "3jkEuAPhZQkc",
        "outputId": "9f72fa2a-2d8c-479a-9b27-2607f0110ba8"
      },
      "outputs": [
        {
          "data": {
            "text/plain": [
              "array([24712.17719097])"
            ]
          },
          "execution_count": 54,
          "metadata": {},
          "output_type": "execute_result"
        }
      ],
      "source": [
        "lr.predict([[2.2,30000,14,6]])"
      ]
    },
    {
      "cell_type": "markdown",
      "metadata": {
        "id": "qWQr9GddZQkc"
      },
      "source": [
        "## Categorical Variable"
      ]
    },
    {
      "cell_type": "code",
      "execution_count": null,
      "metadata": {
        "id": "veFXGNuqZQkd"
      },
      "outputs": [],
      "source": [
        "d = pd.read_csv(\"C:\\\\Users\\\\T0SHIBA\\\\Documents\\\\IMS Ankur Sir\\\\Data Sets\\\\MLR_House_Price_Cat.csv\")"
      ]
    },
    {
      "cell_type": "code",
      "execution_count": null,
      "metadata": {
        "id": "s8idJ6V7ZQkd",
        "outputId": "4e3068ab-0bcd-4816-826f-07aa0bc05f04"
      },
      "outputs": [
        {
          "data": {
            "text/html": [
              "<div>\n",
              "<style scoped>\n",
              "    .dataframe tbody tr th:only-of-type {\n",
              "        vertical-align: middle;\n",
              "    }\n",
              "\n",
              "    .dataframe tbody tr th {\n",
              "        vertical-align: top;\n",
              "    }\n",
              "\n",
              "    .dataframe thead th {\n",
              "        text-align: right;\n",
              "    }\n",
              "</style>\n",
              "<table border=\"1\" class=\"dataframe\">\n",
              "  <thead>\n",
              "    <tr style=\"text-align: right;\">\n",
              "      <th></th>\n",
              "      <th>price</th>\n",
              "      <th>rooms</th>\n",
              "      <th>income</th>\n",
              "      <th>taxrate</th>\n",
              "      <th>adexpense</th>\n",
              "      <th>area</th>\n",
              "      <th>garden</th>\n",
              "    </tr>\n",
              "  </thead>\n",
              "  <tbody>\n",
              "    <tr>\n",
              "      <th>0</th>\n",
              "      <td>100646</td>\n",
              "      <td>4.4</td>\n",
              "      <td>47150</td>\n",
              "      <td>1.30</td>\n",
              "      <td>24.84</td>\n",
              "      <td>rural</td>\n",
              "      <td>y</td>\n",
              "    </tr>\n",
              "    <tr>\n",
              "      <th>1</th>\n",
              "      <td>100838</td>\n",
              "      <td>4.4</td>\n",
              "      <td>47150</td>\n",
              "      <td>1.46</td>\n",
              "      <td>24.84</td>\n",
              "      <td>urban</td>\n",
              "      <td>n</td>\n",
              "    </tr>\n",
              "    <tr>\n",
              "      <th>2</th>\n",
              "      <td>92959</td>\n",
              "      <td>4.0</td>\n",
              "      <td>47735</td>\n",
              "      <td>2.94</td>\n",
              "      <td>25.18</td>\n",
              "      <td>urban</td>\n",
              "      <td>n</td>\n",
              "    </tr>\n",
              "    <tr>\n",
              "      <th>3</th>\n",
              "      <td>93431</td>\n",
              "      <td>4.0</td>\n",
              "      <td>47735</td>\n",
              "      <td>3.08</td>\n",
              "      <td>24.77</td>\n",
              "      <td>rural</td>\n",
              "      <td>y</td>\n",
              "    </tr>\n",
              "    <tr>\n",
              "      <th>4</th>\n",
              "      <td>106811</td>\n",
              "      <td>4.4</td>\n",
              "      <td>50990</td>\n",
              "      <td>2.48</td>\n",
              "      <td>7.89</td>\n",
              "      <td>urban</td>\n",
              "      <td>y</td>\n",
              "    </tr>\n",
              "  </tbody>\n",
              "</table>\n",
              "</div>"
            ],
            "text/plain": [
              "    price  rooms  income  taxrate  adexpense   area garden\n",
              "0  100646    4.4   47150     1.30      24.84  rural      y\n",
              "1  100838    4.4   47150     1.46      24.84  urban      n\n",
              "2   92959    4.0   47735     2.94      25.18  urban      n\n",
              "3   93431    4.0   47735     3.08      24.77  rural      y\n",
              "4  106811    4.4   50990     2.48       7.89  urban      y"
            ]
          },
          "execution_count": 57,
          "metadata": {},
          "output_type": "execute_result"
        }
      ],
      "source": [
        "d.head()"
      ]
    },
    {
      "cell_type": "code",
      "execution_count": null,
      "metadata": {
        "id": "HHelp1QJZQkd"
      },
      "outputs": [],
      "source": [
        "d_dummies = pd.get_dummies(d,drop_first=True)"
      ]
    },
    {
      "cell_type": "code",
      "execution_count": null,
      "metadata": {
        "id": "xjxHWtubZQkd",
        "outputId": "adf5841c-604c-4c6e-8f90-d2f50deaf39b"
      },
      "outputs": [
        {
          "data": {
            "text/html": [
              "<div>\n",
              "<style scoped>\n",
              "    .dataframe tbody tr th:only-of-type {\n",
              "        vertical-align: middle;\n",
              "    }\n",
              "\n",
              "    .dataframe tbody tr th {\n",
              "        vertical-align: top;\n",
              "    }\n",
              "\n",
              "    .dataframe thead th {\n",
              "        text-align: right;\n",
              "    }\n",
              "</style>\n",
              "<table border=\"1\" class=\"dataframe\">\n",
              "  <thead>\n",
              "    <tr style=\"text-align: right;\">\n",
              "      <th></th>\n",
              "      <th>price</th>\n",
              "      <th>rooms</th>\n",
              "      <th>income</th>\n",
              "      <th>taxrate</th>\n",
              "      <th>adexpense</th>\n",
              "      <th>area_urban</th>\n",
              "      <th>garden_y</th>\n",
              "    </tr>\n",
              "  </thead>\n",
              "  <tbody>\n",
              "    <tr>\n",
              "      <th>0</th>\n",
              "      <td>100646</td>\n",
              "      <td>4.4</td>\n",
              "      <td>47150</td>\n",
              "      <td>1.30</td>\n",
              "      <td>24.84</td>\n",
              "      <td>0</td>\n",
              "      <td>1</td>\n",
              "    </tr>\n",
              "    <tr>\n",
              "      <th>1</th>\n",
              "      <td>100838</td>\n",
              "      <td>4.4</td>\n",
              "      <td>47150</td>\n",
              "      <td>1.46</td>\n",
              "      <td>24.84</td>\n",
              "      <td>1</td>\n",
              "      <td>0</td>\n",
              "    </tr>\n",
              "    <tr>\n",
              "      <th>2</th>\n",
              "      <td>92959</td>\n",
              "      <td>4.0</td>\n",
              "      <td>47735</td>\n",
              "      <td>2.94</td>\n",
              "      <td>25.18</td>\n",
              "      <td>1</td>\n",
              "      <td>0</td>\n",
              "    </tr>\n",
              "    <tr>\n",
              "      <th>3</th>\n",
              "      <td>93431</td>\n",
              "      <td>4.0</td>\n",
              "      <td>47735</td>\n",
              "      <td>3.08</td>\n",
              "      <td>24.77</td>\n",
              "      <td>0</td>\n",
              "      <td>1</td>\n",
              "    </tr>\n",
              "    <tr>\n",
              "      <th>4</th>\n",
              "      <td>106811</td>\n",
              "      <td>4.4</td>\n",
              "      <td>50990</td>\n",
              "      <td>2.48</td>\n",
              "      <td>7.89</td>\n",
              "      <td>1</td>\n",
              "      <td>1</td>\n",
              "    </tr>\n",
              "  </tbody>\n",
              "</table>\n",
              "</div>"
            ],
            "text/plain": [
              "    price  rooms  income  taxrate  adexpense  area_urban  garden_y\n",
              "0  100646    4.4   47150     1.30      24.84           0         1\n",
              "1  100838    4.4   47150     1.46      24.84           1         0\n",
              "2   92959    4.0   47735     2.94      25.18           1         0\n",
              "3   93431    4.0   47735     3.08      24.77           0         1\n",
              "4  106811    4.4   50990     2.48       7.89           1         1"
            ]
          },
          "execution_count": 60,
          "metadata": {},
          "output_type": "execute_result"
        }
      ],
      "source": [
        "d_dummies.head()"
      ]
    },
    {
      "cell_type": "code",
      "execution_count": null,
      "metadata": {
        "id": "aVL_JgrwZQke"
      },
      "outputs": [],
      "source": [
        "X = d_dummies[['rooms','income','taxrate','adexpense','area_urban','garden_y']]"
      ]
    },
    {
      "cell_type": "code",
      "execution_count": null,
      "metadata": {
        "id": "RiNPpFR3ZQke"
      },
      "outputs": [],
      "source": [
        "y=d_dummies['price']"
      ]
    },
    {
      "cell_type": "code",
      "execution_count": null,
      "metadata": {
        "id": "ebSYY7H8ZQke",
        "outputId": "7e9ce010-8273-4f15-8637-721d3b39dc54"
      },
      "outputs": [
        {
          "data": {
            "text/html": [
              "<div>\n",
              "<style scoped>\n",
              "    .dataframe tbody tr th:only-of-type {\n",
              "        vertical-align: middle;\n",
              "    }\n",
              "\n",
              "    .dataframe tbody tr th {\n",
              "        vertical-align: top;\n",
              "    }\n",
              "\n",
              "    .dataframe thead th {\n",
              "        text-align: right;\n",
              "    }\n",
              "</style>\n",
              "<table border=\"1\" class=\"dataframe\">\n",
              "  <thead>\n",
              "    <tr style=\"text-align: right;\">\n",
              "      <th></th>\n",
              "      <th>rooms</th>\n",
              "      <th>income</th>\n",
              "      <th>taxrate</th>\n",
              "      <th>adexpense</th>\n",
              "      <th>area_urban</th>\n",
              "      <th>garden_y</th>\n",
              "    </tr>\n",
              "  </thead>\n",
              "  <tbody>\n",
              "    <tr>\n",
              "      <th>0</th>\n",
              "      <td>4.4</td>\n",
              "      <td>47150</td>\n",
              "      <td>1.30</td>\n",
              "      <td>24.84</td>\n",
              "      <td>0</td>\n",
              "      <td>1</td>\n",
              "    </tr>\n",
              "    <tr>\n",
              "      <th>1</th>\n",
              "      <td>4.4</td>\n",
              "      <td>47150</td>\n",
              "      <td>1.46</td>\n",
              "      <td>24.84</td>\n",
              "      <td>1</td>\n",
              "      <td>0</td>\n",
              "    </tr>\n",
              "    <tr>\n",
              "      <th>2</th>\n",
              "      <td>4.0</td>\n",
              "      <td>47735</td>\n",
              "      <td>2.94</td>\n",
              "      <td>25.18</td>\n",
              "      <td>1</td>\n",
              "      <td>0</td>\n",
              "    </tr>\n",
              "    <tr>\n",
              "      <th>3</th>\n",
              "      <td>4.0</td>\n",
              "      <td>47735</td>\n",
              "      <td>3.08</td>\n",
              "      <td>24.77</td>\n",
              "      <td>0</td>\n",
              "      <td>1</td>\n",
              "    </tr>\n",
              "    <tr>\n",
              "      <th>4</th>\n",
              "      <td>4.4</td>\n",
              "      <td>50990</td>\n",
              "      <td>2.48</td>\n",
              "      <td>7.89</td>\n",
              "      <td>1</td>\n",
              "      <td>1</td>\n",
              "    </tr>\n",
              "  </tbody>\n",
              "</table>\n",
              "</div>"
            ],
            "text/plain": [
              "   rooms  income  taxrate  adexpense  area_urban  garden_y\n",
              "0    4.4   47150     1.30      24.84           0         1\n",
              "1    4.4   47150     1.46      24.84           1         0\n",
              "2    4.0   47735     2.94      25.18           1         0\n",
              "3    4.0   47735     3.08      24.77           0         1\n",
              "4    4.4   50990     2.48       7.89           1         1"
            ]
          },
          "execution_count": 64,
          "metadata": {},
          "output_type": "execute_result"
        }
      ],
      "source": [
        "X.head()"
      ]
    },
    {
      "cell_type": "code",
      "execution_count": null,
      "metadata": {
        "id": "KSThg7h_ZQke",
        "outputId": "aed6ecfb-d835-40c7-f041-91f0aa826bdf"
      },
      "outputs": [
        {
          "data": {
            "text/plain": [
              "0    100646\n",
              "1    100838\n",
              "2     92959\n",
              "3     93431\n",
              "4    106811\n",
              "Name: price, dtype: int64"
            ]
          },
          "execution_count": 65,
          "metadata": {},
          "output_type": "execute_result"
        }
      ],
      "source": [
        "y.head()"
      ]
    },
    {
      "cell_type": "code",
      "execution_count": null,
      "metadata": {
        "id": "B9NXqFRGZQke"
      },
      "outputs": [],
      "source": [
        "X_train,X_test,y_train,y_test=train_test_split(X,y,test_size=0.2)"
      ]
    },
    {
      "cell_type": "code",
      "execution_count": null,
      "metadata": {
        "id": "nPnSm4VBZQkf"
      },
      "outputs": [],
      "source": [
        "mlr=LinearRegression()"
      ]
    },
    {
      "cell_type": "code",
      "execution_count": null,
      "metadata": {
        "id": "HDeuP6ylZQkf",
        "outputId": "b7ff2856-5ea3-42e0-af82-c9edc019b859"
      },
      "outputs": [
        {
          "data": {
            "text/plain": [
              "LinearRegression(copy_X=True, fit_intercept=True, n_jobs=None, normalize=False)"
            ]
          },
          "execution_count": 68,
          "metadata": {},
          "output_type": "execute_result"
        }
      ],
      "source": [
        "mlr.fit(X_train,y_train)"
      ]
    },
    {
      "cell_type": "code",
      "execution_count": null,
      "metadata": {
        "id": "B-Z8NGHNZQkf"
      },
      "outputs": [],
      "source": [
        "y_predict =mlr.predict(X_test)"
      ]
    },
    {
      "cell_type": "code",
      "execution_count": null,
      "metadata": {
        "id": "N72Dlm1GZQkf",
        "outputId": "f8c1a2ed-9ba4-4b36-c152-168ac39ab408"
      },
      "outputs": [
        {
          "data": {
            "text/plain": [
              "array([ 1.67647664e+04,  4.50461843e-01, -3.53522275e+03, -2.37586897e+02,\n",
              "       -2.51622232e+03, -4.18439200e+02])"
            ]
          },
          "execution_count": 70,
          "metadata": {},
          "output_type": "execute_result"
        }
      ],
      "source": [
        "mlr.coef_"
      ]
    },
    {
      "cell_type": "code",
      "execution_count": null,
      "metadata": {
        "id": "JMT3y449ZQkg",
        "outputId": "2d6d925f-35f1-4ba4-d880-67f79c436dd6"
      },
      "outputs": [
        {
          "data": {
            "text/plain": [
              "22283.7105834018"
            ]
          },
          "execution_count": 71,
          "metadata": {},
          "output_type": "execute_result"
        }
      ],
      "source": [
        "mlr.intercept_"
      ]
    },
    {
      "cell_type": "code",
      "execution_count": null,
      "metadata": {
        "id": "J1_0xJH-ZQkg"
      },
      "outputs": [],
      "source": [
        "coefs = pd.DataFrame(mlr.coef_,X_test.columns,columns=['Coefficients'])"
      ]
    },
    {
      "cell_type": "code",
      "execution_count": null,
      "metadata": {
        "id": "K0S_9B-7ZQkg",
        "outputId": "22aec595-4123-401e-c9bd-de29c9042b8b"
      },
      "outputs": [
        {
          "data": {
            "text/html": [
              "<div>\n",
              "<style scoped>\n",
              "    .dataframe tbody tr th:only-of-type {\n",
              "        vertical-align: middle;\n",
              "    }\n",
              "\n",
              "    .dataframe tbody tr th {\n",
              "        vertical-align: top;\n",
              "    }\n",
              "\n",
              "    .dataframe thead th {\n",
              "        text-align: right;\n",
              "    }\n",
              "</style>\n",
              "<table border=\"1\" class=\"dataframe\">\n",
              "  <thead>\n",
              "    <tr style=\"text-align: right;\">\n",
              "      <th></th>\n",
              "      <th>Coefficients</th>\n",
              "    </tr>\n",
              "  </thead>\n",
              "  <tbody>\n",
              "    <tr>\n",
              "      <th>rooms</th>\n",
              "      <td>16764.766447</td>\n",
              "    </tr>\n",
              "    <tr>\n",
              "      <th>income</th>\n",
              "      <td>0.450462</td>\n",
              "    </tr>\n",
              "    <tr>\n",
              "      <th>taxrate</th>\n",
              "      <td>-3535.222745</td>\n",
              "    </tr>\n",
              "    <tr>\n",
              "      <th>adexpense</th>\n",
              "      <td>-237.586897</td>\n",
              "    </tr>\n",
              "    <tr>\n",
              "      <th>area_urban</th>\n",
              "      <td>-2516.222321</td>\n",
              "    </tr>\n",
              "    <tr>\n",
              "      <th>garden_y</th>\n",
              "      <td>-418.439200</td>\n",
              "    </tr>\n",
              "  </tbody>\n",
              "</table>\n",
              "</div>"
            ],
            "text/plain": [
              "            Coefficients\n",
              "rooms       16764.766447\n",
              "income          0.450462\n",
              "taxrate     -3535.222745\n",
              "adexpense    -237.586897\n",
              "area_urban  -2516.222321\n",
              "garden_y     -418.439200"
            ]
          },
          "execution_count": 73,
          "metadata": {},
          "output_type": "execute_result"
        }
      ],
      "source": [
        "coefs"
      ]
    },
    {
      "cell_type": "code",
      "execution_count": null,
      "metadata": {
        "id": "nEI_JGTHZQkg"
      },
      "outputs": [],
      "source": [
        "r2score = metrics.r2_score(y_test,y_predict)"
      ]
    },
    {
      "cell_type": "code",
      "execution_count": null,
      "metadata": {
        "id": "tkxvFcnlZQkg",
        "outputId": "1733c633-d5dd-48d6-9d99-f4d733c59c95"
      },
      "outputs": [
        {
          "data": {
            "text/plain": [
              "0.49348566209858535"
            ]
          },
          "execution_count": 75,
          "metadata": {},
          "output_type": "execute_result"
        }
      ],
      "source": [
        "r2score"
      ]
    },
    {
      "cell_type": "code",
      "execution_count": null,
      "metadata": {
        "id": "J3SWl-8tZQkg",
        "outputId": "00578669-068e-45f0-88d7-428b64fbe237"
      },
      "outputs": [
        {
          "data": {
            "text/plain": [
              "34687050.60617992"
            ]
          },
          "execution_count": 76,
          "metadata": {},
          "output_type": "execute_result"
        }
      ],
      "source": [
        "mse = metrics.mean_squared_error(y_test,y_predict)\n",
        "mse"
      ]
    },
    {
      "cell_type": "code",
      "execution_count": null,
      "metadata": {
        "id": "LyliSGquZQkg",
        "outputId": "04575e7e-e1e8-4435-dd9e-9c9727644f79"
      },
      "outputs": [
        {
          "data": {
            "text/plain": [
              "5889.571343160716"
            ]
          },
          "execution_count": 77,
          "metadata": {},
          "output_type": "execute_result"
        }
      ],
      "source": [
        "rmse =np.sqrt(mse)\n",
        "rmse"
      ]
    },
    {
      "cell_type": "code",
      "execution_count": null,
      "metadata": {
        "id": "cXyNCXDzZQkh",
        "outputId": "2cfc699c-8883-4b8b-e4a9-70d340f53117"
      },
      "outputs": [
        {
          "data": {
            "text/plain": [
              "0.45687016779245904"
            ]
          },
          "execution_count": 78,
          "metadata": {},
          "output_type": "execute_result"
        }
      ],
      "source": [
        "adjr2=1-((1-r2score)*(90-1)/(90-6-1))\n",
        "adjr2"
      ]
    },
    {
      "cell_type": "code",
      "execution_count": null,
      "metadata": {
        "id": "80WirZllZQkh",
        "outputId": "aed7cb0d-d16d-47eb-ef15-b6fdb6143157"
      },
      "outputs": [
        {
          "data": {
            "text/html": [
              "<div>\n",
              "<style scoped>\n",
              "    .dataframe tbody tr th:only-of-type {\n",
              "        vertical-align: middle;\n",
              "    }\n",
              "\n",
              "    .dataframe tbody tr th {\n",
              "        vertical-align: top;\n",
              "    }\n",
              "\n",
              "    .dataframe thead th {\n",
              "        text-align: right;\n",
              "    }\n",
              "</style>\n",
              "<table border=\"1\" class=\"dataframe\">\n",
              "  <thead>\n",
              "    <tr style=\"text-align: right;\">\n",
              "      <th></th>\n",
              "      <th>features</th>\n",
              "      <th>Vif Factor</th>\n",
              "    </tr>\n",
              "  </thead>\n",
              "  <tbody>\n",
              "    <tr>\n",
              "      <th>0</th>\n",
              "      <td>rooms</td>\n",
              "      <td>156.148556</td>\n",
              "    </tr>\n",
              "    <tr>\n",
              "      <th>1</th>\n",
              "      <td>income</td>\n",
              "      <td>153.601185</td>\n",
              "    </tr>\n",
              "    <tr>\n",
              "      <th>2</th>\n",
              "      <td>taxrate</td>\n",
              "      <td>8.511350</td>\n",
              "    </tr>\n",
              "    <tr>\n",
              "      <th>3</th>\n",
              "      <td>adexpense</td>\n",
              "      <td>8.563008</td>\n",
              "    </tr>\n",
              "    <tr>\n",
              "      <th>4</th>\n",
              "      <td>area_urban</td>\n",
              "      <td>2.551093</td>\n",
              "    </tr>\n",
              "    <tr>\n",
              "      <th>5</th>\n",
              "      <td>garden_y</td>\n",
              "      <td>4.958622</td>\n",
              "    </tr>\n",
              "  </tbody>\n",
              "</table>\n",
              "</div>"
            ],
            "text/plain": [
              "     features  Vif Factor\n",
              "0       rooms  156.148556\n",
              "1      income  153.601185\n",
              "2     taxrate    8.511350\n",
              "3   adexpense    8.563008\n",
              "4  area_urban    2.551093\n",
              "5    garden_y    4.958622"
            ]
          },
          "execution_count": 79,
          "metadata": {},
          "output_type": "execute_result"
        }
      ],
      "source": [
        "vif = pd.DataFrame()\n",
        "vif['features']=X_test.columns\n",
        "vif['Vif Factor']=[variance_inflation_factor(X_test.values,i) for i in range (X_test.shape[1])]\n",
        "vif"
      ]
    },
    {
      "cell_type": "markdown",
      "metadata": {
        "id": "TCnfZ5-oZQkh"
      },
      "source": [
        "we have to remove rooms and income since the value is greater than 10"
      ]
    },
    {
      "cell_type": "code",
      "execution_count": null,
      "metadata": {
        "id": "Rl1cCdGvZQkh",
        "outputId": "1ff0145c-7349-488b-c4f8-77e105986dd1"
      },
      "outputs": [
        {
          "data": {
            "text/html": [
              "<div>\n",
              "<style scoped>\n",
              "    .dataframe tbody tr th:only-of-type {\n",
              "        vertical-align: middle;\n",
              "    }\n",
              "\n",
              "    .dataframe tbody tr th {\n",
              "        vertical-align: top;\n",
              "    }\n",
              "\n",
              "    .dataframe thead th {\n",
              "        text-align: right;\n",
              "    }\n",
              "</style>\n",
              "<table border=\"1\" class=\"dataframe\">\n",
              "  <thead>\n",
              "    <tr style=\"text-align: right;\">\n",
              "      <th></th>\n",
              "      <th>Original y_test</th>\n",
              "    </tr>\n",
              "  </thead>\n",
              "  <tbody>\n",
              "    <tr>\n",
              "      <th>0</th>\n",
              "      <td>110679</td>\n",
              "    </tr>\n",
              "    <tr>\n",
              "      <th>1</th>\n",
              "      <td>92652</td>\n",
              "    </tr>\n",
              "    <tr>\n",
              "      <th>2</th>\n",
              "      <td>100838</td>\n",
              "    </tr>\n",
              "    <tr>\n",
              "      <th>3</th>\n",
              "      <td>101021</td>\n",
              "    </tr>\n",
              "    <tr>\n",
              "      <th>4</th>\n",
              "      <td>113501</td>\n",
              "    </tr>\n",
              "  </tbody>\n",
              "</table>\n",
              "</div>"
            ],
            "text/plain": [
              "   Original y_test\n",
              "0           110679\n",
              "1            92652\n",
              "2           100838\n",
              "3           101021\n",
              "4           113501"
            ]
          },
          "execution_count": 80,
          "metadata": {},
          "output_type": "execute_result"
        }
      ],
      "source": [
        "df = pd.DataFrame(y_test.values,columns=['Original y_test'])\n",
        "df.head()"
      ]
    },
    {
      "cell_type": "code",
      "execution_count": null,
      "metadata": {
        "id": "2mfrFFNqZQkh",
        "outputId": "5d761c5a-f2c6-4733-bdc0-da05ee4a8f0a"
      },
      "outputs": [
        {
          "data": {
            "text/html": [
              "<div>\n",
              "<style scoped>\n",
              "    .dataframe tbody tr th:only-of-type {\n",
              "        vertical-align: middle;\n",
              "    }\n",
              "\n",
              "    .dataframe tbody tr th {\n",
              "        vertical-align: top;\n",
              "    }\n",
              "\n",
              "    .dataframe thead th {\n",
              "        text-align: right;\n",
              "    }\n",
              "</style>\n",
              "<table border=\"1\" class=\"dataframe\">\n",
              "  <thead>\n",
              "    <tr style=\"text-align: right;\">\n",
              "      <th></th>\n",
              "      <th>Original y_test</th>\n",
              "      <th>Predicted y_test</th>\n",
              "      <th>Residuals</th>\n",
              "    </tr>\n",
              "  </thead>\n",
              "  <tbody>\n",
              "    <tr>\n",
              "      <th>0</th>\n",
              "      <td>110679</td>\n",
              "      <td>110940.022677</td>\n",
              "      <td>-261.022677</td>\n",
              "    </tr>\n",
              "    <tr>\n",
              "      <th>1</th>\n",
              "      <td>92652</td>\n",
              "      <td>105376.433690</td>\n",
              "      <td>-12724.433690</td>\n",
              "    </tr>\n",
              "    <tr>\n",
              "      <th>2</th>\n",
              "      <td>100838</td>\n",
              "      <td>103708.652791</td>\n",
              "      <td>-2870.652791</td>\n",
              "    </tr>\n",
              "    <tr>\n",
              "      <th>3</th>\n",
              "      <td>101021</td>\n",
              "      <td>103981.529166</td>\n",
              "      <td>-2960.529166</td>\n",
              "    </tr>\n",
              "    <tr>\n",
              "      <th>4</th>\n",
              "      <td>113501</td>\n",
              "      <td>112219.048872</td>\n",
              "      <td>1281.951128</td>\n",
              "    </tr>\n",
              "  </tbody>\n",
              "</table>\n",
              "</div>"
            ],
            "text/plain": [
              "   Original y_test  Predicted y_test     Residuals\n",
              "0           110679     110940.022677   -261.022677\n",
              "1            92652     105376.433690 -12724.433690\n",
              "2           100838     103708.652791  -2870.652791\n",
              "3           101021     103981.529166  -2960.529166\n",
              "4           113501     112219.048872   1281.951128"
            ]
          },
          "execution_count": 81,
          "metadata": {},
          "output_type": "execute_result"
        }
      ],
      "source": [
        "df['Predicted y_test']= pd.Series(y_predict)\n",
        "df['Residuals']=df['Original y_test']-df['Predicted y_test']\n",
        "df.head()\n"
      ]
    },
    {
      "cell_type": "code",
      "execution_count": null,
      "metadata": {
        "id": "kmrHzRdyZQkh",
        "outputId": "ca7ca71a-5513-46a4-edb3-ecc244bfed83"
      },
      "outputs": [
        {
          "data": {
            "text/plain": [
              "2.0162924348105076"
            ]
          },
          "execution_count": 82,
          "metadata": {},
          "output_type": "execute_result"
        }
      ],
      "source": [
        "durbin_watson(df['Residuals'])"
      ]
    },
    {
      "cell_type": "markdown",
      "metadata": {
        "id": "JNrIVdhRZQki"
      },
      "source": [
        "# Assumption 4 : The Residuals Should Be Normally Distributed"
      ]
    },
    {
      "cell_type": "code",
      "execution_count": null,
      "metadata": {
        "id": "GLJ5tvaeZQki",
        "outputId": "b8df2d46-c9cf-4cf3-fda9-f35ec6d73322"
      },
      "outputs": [
        {
          "data": {
            "text/plain": [
              "<matplotlib.axes._subplots.AxesSubplot at 0xdc46390>"
            ]
          },
          "execution_count": 83,
          "metadata": {},
          "output_type": "execute_result"
        },
        {
          "data": {
            "image/png": "[encoded data removed]",
            "text/plain": [
              "<Figure size 432x288 with 1 Axes>"
            ]
          },
          "metadata": {
            "needs_background": "light"
          },
          "output_type": "display_data"
        }
      ],
      "source": [
        "sns.distplot(df['Residuals'])"
      ]
    },
    {
      "cell_type": "code",
      "execution_count": null,
      "metadata": {
        "id": "TM-pm71kZQki"
      },
      "outputs": [],
      "source": [
        ""
      ]
    }
  ],
  "metadata": {
    "kernelspec": {
      "display_name": "Python 3",
      "language": "python",
      "name": "python3"
    },
    "language_info": {
      "codemirror_mode": {
        "name": "ipython",
        "version": 3
      },
      "file_extension": ".py",
      "mimetype": "text/x-python",
      "name": "python",
      "nbconvert_exporter": "python",
      "pygments_lexer": "ipython3",
      "version": "3.8.5"
    },
    "colab": {
      "name": "10 MLR I.ipynb",
      "provenance": [],
      "include_colab_link": true
    }
  },
  "nbformat": 4,
  "nbformat_minor": 0
}