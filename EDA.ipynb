{
  "cells": [
    {
      "cell_type": "markdown",
      "metadata": {
        "id": "view-in-github",
        "colab_type": "text"
      },
      "source": [
        "<a href=\"https://colab.research.google.com/github/nandanaraj/My-Works/blob/main/EDA.ipynb\" target=\"_parent\"><img src=\"https://colab.research.google.com/assets/colab-badge.svg\" alt=\"Open In Colab\"/></a>"
      ]
    },
    {
      "cell_type": "markdown",
      "metadata": {
        "id": "lvwgm6H9Z6-t"
      },
      "source": [
        "# EDA"
      ]
    },
    {
      "cell_type": "code",
      "execution_count": null,
      "metadata": {
        "id": "QwgJJjBeZ6-v"
      },
      "outputs": [],
      "source": [
        "import numpy as np\n",
        "import pandas as pd\n",
        "import matplotlib.pyplot as plt\n",
        "%matplotlib inline\n",
        "import seaborn as sns"
      ]
    },
    {
      "cell_type": "code",
      "execution_count": null,
      "metadata": {
        "id": "QXbpxgxyZ6-w"
      },
      "outputs": [],
      "source": [
        "eda=pd.read_excel(\"EDA_DataSet.xlsx\")"
      ]
    },
    {
      "cell_type": "code",
      "execution_count": null,
      "metadata": {
        "id": "PpTJIHo3Z6-w",
        "outputId": "b08612a0-c59a-4982-e652-df4f9c9b752b"
      },
      "outputs": [
        {
          "data": {
            "text/html": [
              "<div>\n",
              "<style scoped>\n",
              "    .dataframe tbody tr th:only-of-type {\n",
              "        vertical-align: middle;\n",
              "    }\n",
              "\n",
              "    .dataframe tbody tr th {\n",
              "        vertical-align: top;\n",
              "    }\n",
              "\n",
              "    .dataframe thead th {\n",
              "        text-align: right;\n",
              "    }\n",
              "</style>\n",
              "<table border=\"1\" class=\"dataframe\">\n",
              "  <thead>\n",
              "    <tr style=\"text-align: right;\">\n",
              "      <th></th>\n",
              "      <th>Name</th>\n",
              "      <th>Age</th>\n",
              "      <th>Gender</th>\n",
              "      <th>Education</th>\n",
              "      <th>Salary</th>\n",
              "      <th>AppraisedValue</th>\n",
              "      <th>Location</th>\n",
              "      <th>Landacres</th>\n",
              "      <th>HouseSizesqrft</th>\n",
              "      <th>Rooms</th>\n",
              "      <th>Baths</th>\n",
              "      <th>Garage</th>\n",
              "    </tr>\n",
              "  </thead>\n",
              "  <tbody>\n",
              "    <tr>\n",
              "      <th>0</th>\n",
              "      <td>Tony</td>\n",
              "      <td>25</td>\n",
              "      <td>M</td>\n",
              "      <td>Grad</td>\n",
              "      <td>50</td>\n",
              "      <td>700.0</td>\n",
              "      <td>GlenCove</td>\n",
              "      <td>0.2297</td>\n",
              "      <td>2448</td>\n",
              "      <td>8.0</td>\n",
              "      <td>3.5</td>\n",
              "      <td>2</td>\n",
              "    </tr>\n",
              "    <tr>\n",
              "      <th>1</th>\n",
              "      <td>Harret</td>\n",
              "      <td>52</td>\n",
              "      <td>F</td>\n",
              "      <td>PostGrad</td>\n",
              "      <td>95</td>\n",
              "      <td>364.0</td>\n",
              "      <td>GlenCove</td>\n",
              "      <td>0.2192</td>\n",
              "      <td>1942</td>\n",
              "      <td>7.0</td>\n",
              "      <td>2.5</td>\n",
              "      <td>1</td>\n",
              "    </tr>\n",
              "    <tr>\n",
              "      <th>2</th>\n",
              "      <td>Jane</td>\n",
              "      <td>26</td>\n",
              "      <td>F</td>\n",
              "      <td>PostGrad</td>\n",
              "      <td>65</td>\n",
              "      <td>600.0</td>\n",
              "      <td>GlenCove</td>\n",
              "      <td>0.1630</td>\n",
              "      <td>2073</td>\n",
              "      <td>7.0</td>\n",
              "      <td>3.0</td>\n",
              "      <td>2</td>\n",
              "    </tr>\n",
              "  </tbody>\n",
              "</table>\n",
              "</div>"
            ],
            "text/plain": [
              "     Name  Age Gender Education  Salary  AppraisedValue  Location  Landacres  \\\n",
              "0    Tony   25      M      Grad      50           700.0  GlenCove     0.2297   \n",
              "1  Harret   52      F  PostGrad      95           364.0  GlenCove     0.2192   \n",
              "2    Jane   26      F  PostGrad      65           600.0  GlenCove     0.1630   \n",
              "\n",
              "   HouseSizesqrft  Rooms  Baths  Garage  \n",
              "0            2448    8.0    3.5       2  \n",
              "1            1942    7.0    2.5       1  \n",
              "2            2073    7.0    3.0       2  "
            ]
          },
          "execution_count": 3,
          "metadata": {},
          "output_type": "execute_result"
        }
      ],
      "source": [
        "eda.head(3)"
      ]
    },
    {
      "cell_type": "markdown",
      "metadata": {
        "id": "NQciYwUsZ6-x"
      },
      "source": [
        "1. Variable Identification\n",
        "2. Univariate Analysis\n",
        "3. Bivariate Analysis\n",
        "4. Missing Value Treatment\n",
        "5. Outlier Treatment\n",
        "6. Variable Creation / Creation of Dummy Variables\n",
        "7. Variable Transformation"
      ]
    },
    {
      "cell_type": "markdown",
      "metadata": {
        "id": "rnXXoZdXZ6-y"
      },
      "source": [
        "##  STEP1 : VARIABLE IDENTIFICATION"
      ]
    },
    {
      "cell_type": "markdown",
      "metadata": {
        "id": "0rUwJoIlZ6-y"
      },
      "source": [
        "### 3 STEPS\n",
        "1. Dep and Indep\n",
        "2. Data type\n",
        "3. Py Data Type"
      ]
    },
    {
      "cell_type": "markdown",
      "metadata": {
        "id": "UYwNrmcSZ6-y"
      },
      "source": [
        "I.   dependent : appraised value\n",
        "     independent: rest of them\n",
        "     \n",
        "II.  categorical: name,edu,gen,loc\n",
        "     numeric: rest of them\n",
        "     \n",
        "II.  py datatype"
      ]
    },
    {
      "cell_type": "code",
      "execution_count": null,
      "metadata": {
        "scrolled": true,
        "id": "_5i0G7PpZ6-z",
        "outputId": "1dbe584c-e1e2-481e-9034-9168d12e5263"
      },
      "outputs": [
        {
          "name": "stdout",
          "output_type": "stream",
          "text": [
            "<class 'pandas.core.frame.DataFrame'>\n",
            "RangeIndex: 15 entries, 0 to 14\n",
            "Data columns (total 12 columns):\n",
            " #   Column          Non-Null Count  Dtype  \n",
            "---  ------          --------------  -----  \n",
            " 0   Name            15 non-null     object \n",
            " 1   Age             15 non-null     int64  \n",
            " 2   Gender          15 non-null     object \n",
            " 3   Education       15 non-null     object \n",
            " 4   Salary          15 non-null     int64  \n",
            " 5   AppraisedValue  15 non-null     float64\n",
            " 6   Location        15 non-null     object \n",
            " 7   Landacres       15 non-null     float64\n",
            " 8   HouseSizesqrft  15 non-null     int64  \n",
            " 9   Rooms           12 non-null     float64\n",
            " 10  Baths           15 non-null     float64\n",
            " 11  Garage          15 non-null     int64  \n",
            "dtypes: float64(4), int64(4), object(4)\n",
            "memory usage: 1.2+ KB\n"
          ]
        }
      ],
      "source": [
        "eda.info()"
      ]
    },
    {
      "cell_type": "code",
      "execution_count": null,
      "metadata": {
        "id": "DYeFi2qsZ6-z",
        "outputId": "1af34f76-ce32-49f3-a2ec-975e519db6d1"
      },
      "outputs": [
        {
          "data": {
            "text/html": [
              "<div>\n",
              "<style scoped>\n",
              "    .dataframe tbody tr th:only-of-type {\n",
              "        vertical-align: middle;\n",
              "    }\n",
              "\n",
              "    .dataframe tbody tr th {\n",
              "        vertical-align: top;\n",
              "    }\n",
              "\n",
              "    .dataframe thead th {\n",
              "        text-align: right;\n",
              "    }\n",
              "</style>\n",
              "<table border=\"1\" class=\"dataframe\">\n",
              "  <thead>\n",
              "    <tr style=\"text-align: right;\">\n",
              "      <th></th>\n",
              "      <th>Age</th>\n",
              "      <th>Salary</th>\n",
              "      <th>AppraisedValue</th>\n",
              "      <th>Landacres</th>\n",
              "      <th>HouseSizesqrft</th>\n",
              "      <th>Rooms</th>\n",
              "      <th>Baths</th>\n",
              "      <th>Garage</th>\n",
              "    </tr>\n",
              "  </thead>\n",
              "  <tbody>\n",
              "    <tr>\n",
              "      <th>count</th>\n",
              "      <td>15.000000</td>\n",
              "      <td>15.000000</td>\n",
              "      <td>15.000000</td>\n",
              "      <td>15.000000</td>\n",
              "      <td>15.000000</td>\n",
              "      <td>12.000000</td>\n",
              "      <td>15.000000</td>\n",
              "      <td>15.000000</td>\n",
              "    </tr>\n",
              "    <tr>\n",
              "      <th>mean</th>\n",
              "      <td>40.333333</td>\n",
              "      <td>88.466667</td>\n",
              "      <td>547.240000</td>\n",
              "      <td>0.242487</td>\n",
              "      <td>2140.800000</td>\n",
              "      <td>7.166667</td>\n",
              "      <td>2.333333</td>\n",
              "      <td>0.800000</td>\n",
              "    </tr>\n",
              "    <tr>\n",
              "      <th>std</th>\n",
              "      <td>11.842217</td>\n",
              "      <td>22.752917</td>\n",
              "      <td>217.331829</td>\n",
              "      <td>0.093602</td>\n",
              "      <td>754.829517</td>\n",
              "      <td>1.114641</td>\n",
              "      <td>0.794325</td>\n",
              "      <td>0.676123</td>\n",
              "    </tr>\n",
              "    <tr>\n",
              "      <th>min</th>\n",
              "      <td>24.000000</td>\n",
              "      <td>50.000000</td>\n",
              "      <td>299.000000</td>\n",
              "      <td>0.137700</td>\n",
              "      <td>1120.000000</td>\n",
              "      <td>5.000000</td>\n",
              "      <td>1.000000</td>\n",
              "      <td>0.000000</td>\n",
              "    </tr>\n",
              "    <tr>\n",
              "      <th>25%</th>\n",
              "      <td>29.000000</td>\n",
              "      <td>72.500000</td>\n",
              "      <td>390.350000</td>\n",
              "      <td>0.173200</td>\n",
              "      <td>1707.000000</td>\n",
              "      <td>6.750000</td>\n",
              "      <td>2.000000</td>\n",
              "      <td>0.000000</td>\n",
              "    </tr>\n",
              "    <tr>\n",
              "      <th>50%</th>\n",
              "      <td>42.000000</td>\n",
              "      <td>90.000000</td>\n",
              "      <td>517.700000</td>\n",
              "      <td>0.229000</td>\n",
              "      <td>2042.000000</td>\n",
              "      <td>7.000000</td>\n",
              "      <td>2.000000</td>\n",
              "      <td>1.000000</td>\n",
              "    </tr>\n",
              "    <tr>\n",
              "      <th>75%</th>\n",
              "      <td>50.000000</td>\n",
              "      <td>104.500000</td>\n",
              "      <td>600.000000</td>\n",
              "      <td>0.252300</td>\n",
              "      <td>2472.000000</td>\n",
              "      <td>8.000000</td>\n",
              "      <td>2.750000</td>\n",
              "      <td>1.000000</td>\n",
              "    </tr>\n",
              "    <tr>\n",
              "      <th>max</th>\n",
              "      <td>62.000000</td>\n",
              "      <td>122.000000</td>\n",
              "      <td>1200.000000</td>\n",
              "      <td>0.460800</td>\n",
              "      <td>4067.000000</td>\n",
              "      <td>9.000000</td>\n",
              "      <td>4.000000</td>\n",
              "      <td>2.000000</td>\n",
              "    </tr>\n",
              "  </tbody>\n",
              "</table>\n",
              "</div>"
            ],
            "text/plain": [
              "             Age      Salary  AppraisedValue  Landacres  HouseSizesqrft  \\\n",
              "count  15.000000   15.000000       15.000000  15.000000       15.000000   \n",
              "mean   40.333333   88.466667      547.240000   0.242487     2140.800000   \n",
              "std    11.842217   22.752917      217.331829   0.093602      754.829517   \n",
              "min    24.000000   50.000000      299.000000   0.137700     1120.000000   \n",
              "25%    29.000000   72.500000      390.350000   0.173200     1707.000000   \n",
              "50%    42.000000   90.000000      517.700000   0.229000     2042.000000   \n",
              "75%    50.000000  104.500000      600.000000   0.252300     2472.000000   \n",
              "max    62.000000  122.000000     1200.000000   0.460800     4067.000000   \n",
              "\n",
              "           Rooms      Baths     Garage  \n",
              "count  12.000000  15.000000  15.000000  \n",
              "mean    7.166667   2.333333   0.800000  \n",
              "std     1.114641   0.794325   0.676123  \n",
              "min     5.000000   1.000000   0.000000  \n",
              "25%     6.750000   2.000000   0.000000  \n",
              "50%     7.000000   2.000000   1.000000  \n",
              "75%     8.000000   2.750000   1.000000  \n",
              "max     9.000000   4.000000   2.000000  "
            ]
          },
          "execution_count": 5,
          "metadata": {},
          "output_type": "execute_result"
        }
      ],
      "source": [
        "eda.describe()"
      ]
    },
    {
      "cell_type": "markdown",
      "metadata": {
        "id": "mmIBxVpXZ6-z"
      },
      "source": [
        "## STEP 2: UNIVARIATE ANALYSIS"
      ]
    },
    {
      "cell_type": "markdown",
      "metadata": {
        "id": "5I6l7T1LZ6-0"
      },
      "source": [
        "##### Pick out each variable and study it\n",
        "HISTOGRAM , BOXPLOT, VIOLIN PLOT"
      ]
    },
    {
      "cell_type": "code",
      "execution_count": null,
      "metadata": {
        "id": "hTqzf6YDZ6-0",
        "outputId": "ca5475d9-8980-4604-dce1-343ccca191f8"
      },
      "outputs": [
        {
          "data": {
            "text/plain": [
              "<matplotlib.axes._subplots.AxesSubplot at 0x9624290>"
            ]
          },
          "execution_count": 6,
          "metadata": {},
          "output_type": "execute_result"
        },
        {
          "data": {
            "image/png": "[encoded data removed]",
            "text/plain": [
              "<Figure size 432x288 with 1 Axes>"
            ]
          },
          "metadata": {
            "needs_background": "light"
          },
          "output_type": "display_data"
        }
      ],
      "source": [
        "eda.boxplot('Age')"
      ]
    },
    {
      "cell_type": "markdown",
      "metadata": {
        "id": "7PdH4ZbVZ6-0"
      },
      "source": [
        "### Observation: There are no OUTLIERS in the variable 'Age'"
      ]
    },
    {
      "cell_type": "code",
      "execution_count": null,
      "metadata": {
        "id": "lUNR2LvvZ6-0",
        "outputId": "bcfa1d3f-e18d-4159-ddc1-1e917d316ef4"
      },
      "outputs": [
        {
          "data": {
            "text/plain": [
              "array([[<matplotlib.axes._subplots.AxesSubplot object at 0x09D8CFD0>]],\n",
              "      dtype=object)"
            ]
          },
          "execution_count": 7,
          "metadata": {},
          "output_type": "execute_result"
        },
        {
          "data": {
            "image/png": "[encoded data removed]",
            "text/plain": [
              "<Figure size 432x288 with 1 Axes>"
            ]
          },
          "metadata": {
            "needs_background": "light"
          },
          "output_type": "display_data"
        }
      ],
      "source": [
        "eda.hist('Age',bins=[20,30,40,50,60,70])\n",
        "# Most people of age 40-50"
      ]
    },
    {
      "cell_type": "code",
      "execution_count": null,
      "metadata": {
        "id": "Uz3rE1shZ6-1",
        "outputId": "f1cfc8f3-2f20-45db-c35c-f17c5b34a33f"
      },
      "outputs": [
        {
          "data": {
            "text/plain": [
              "<matplotlib.axes._subplots.AxesSubplot at 0x9defd50>"
            ]
          },
          "execution_count": 8,
          "metadata": {},
          "output_type": "execute_result"
        },
        {
          "data": {
            "image/png": "[encoded data removed]",
            "text/plain": [
              "<Figure size 432x288 with 1 Axes>"
            ]
          },
          "metadata": {
            "needs_background": "light"
          },
          "output_type": "display_data"
        }
      ],
      "source": [
        "sns.distplot(eda['Age'])\n",
        "## approx normal dist"
      ]
    },
    {
      "cell_type": "code",
      "execution_count": null,
      "metadata": {
        "id": "OdEVptQpZ6-1",
        "outputId": "31527d7d-96ea-47a5-aaee-2a1238f62ab5"
      },
      "outputs": [
        {
          "data": {
            "text/plain": [
              "<matplotlib.axes._subplots.AxesSubplot at 0x9e51490>"
            ]
          },
          "execution_count": 9,
          "metadata": {},
          "output_type": "execute_result"
        },
        {
          "data": {
            "image/png": "[encoded data removed]",
            "text/plain": [
              "<Figure size 432x288 with 1 Axes>"
            ]
          },
          "metadata": {
            "needs_background": "light"
          },
          "output_type": "display_data"
        }
      ],
      "source": [
        "eda.boxplot(\"Salary\")\n",
        "# no outliers"
      ]
    },
    {
      "cell_type": "code",
      "execution_count": null,
      "metadata": {
        "id": "JoNT-fzHZ6-2",
        "outputId": "d854b016-32f5-4718-97df-e41522093d91"
      },
      "outputs": [
        {
          "data": {
            "text/plain": [
              "array([[<matplotlib.axes._subplots.AxesSubplot object at 0x09E88D10>]],\n",
              "      dtype=object)"
            ]
          },
          "execution_count": 10,
          "metadata": {},
          "output_type": "execute_result"
        },
        {
          "data": {
            "image/png": "[encoded data removed]",
            "text/plain": [
              "<Figure size 432x288 with 1 Axes>"
            ]
          },
          "metadata": {
            "needs_background": "light"
          },
          "output_type": "display_data"
        }
      ],
      "source": [
        "eda.hist('Salary',bins=[20,60,80,100,120,140])\n",
        "# 80-100\n"
      ]
    },
    {
      "cell_type": "code",
      "execution_count": null,
      "metadata": {
        "id": "eRZxk5z_Z6-2",
        "outputId": "a41f78cc-cb6c-4170-bf9b-f89d3a4ca612"
      },
      "outputs": [
        {
          "data": {
            "text/plain": [
              "<matplotlib.axes._subplots.AxesSubplot at 0x9ee4370>"
            ]
          },
          "execution_count": 11,
          "metadata": {},
          "output_type": "execute_result"
        },
        {
          "data": {
            "image/png": "[encoded data removed]",
            "text/plain": [
              "<Figure size 432x288 with 1 Axes>"
            ]
          },
          "metadata": {
            "needs_background": "light"
          },
          "output_type": "display_data"
        }
      ],
      "source": [
        "sns.distplot(eda['Salary'])"
      ]
    },
    {
      "cell_type": "code",
      "execution_count": null,
      "metadata": {
        "id": "5c7KTQA2Z6-2",
        "outputId": "349572d9-affe-4d34-b9ec-b53304a22c63"
      },
      "outputs": [
        {
          "data": {
            "text/plain": [
              "<matplotlib.axes._subplots.AxesSubplot at 0x9f19090>"
            ]
          },
          "execution_count": 12,
          "metadata": {},
          "output_type": "execute_result"
        },
        {
          "data": {
            "image/png": "[encoded data removed]",
            "text/plain": [
              "<Figure size 432x288 with 1 Axes>"
            ]
          },
          "metadata": {
            "needs_background": "light"
          },
          "output_type": "display_data"
        }
      ],
      "source": [
        "eda.boxplot(\"AppraisedValue\")\n",
        "# an outlier present at 1200"
      ]
    },
    {
      "cell_type": "code",
      "execution_count": null,
      "metadata": {
        "id": "arCBm80GZ6-3",
        "outputId": "23f413ae-ac1a-450e-984f-affdad0fe699"
      },
      "outputs": [
        {
          "data": {
            "text/plain": [
              "array([[<matplotlib.axes._subplots.AxesSubplot object at 0x09F5A970>]],\n",
              "      dtype=object)"
            ]
          },
          "execution_count": 13,
          "metadata": {},
          "output_type": "execute_result"
        },
        {
          "data": {
            "image/png": "[encoded data removed]",
            "text/plain": [
              "<Figure size 432x288 with 1 Axes>"
            ]
          },
          "metadata": {
            "needs_background": "light"
          },
          "output_type": "display_data"
        }
      ],
      "source": [
        "eda.hist(\"AppraisedValue\",bins=[200,400,600,800,1000,1200,1400])"
      ]
    },
    {
      "cell_type": "code",
      "execution_count": null,
      "metadata": {
        "id": "6iYzuQdtZ6-3",
        "outputId": "54b6cf26-fabc-4324-ffde-eb68c5a328c6"
      },
      "outputs": [
        {
          "data": {
            "text/plain": [
              "<matplotlib.axes._subplots.AxesSubplot at 0x9f9f690>"
            ]
          },
          "execution_count": 14,
          "metadata": {},
          "output_type": "execute_result"
        },
        {
          "data": {
            "image/png": "[encoded data removed]",
            "text/plain": [
              "<Figure size 432x288 with 1 Axes>"
            ]
          },
          "metadata": {
            "needs_background": "light"
          },
          "output_type": "display_data"
        }
      ],
      "source": [
        "sns.distplot(eda['AppraisedValue'])"
      ]
    },
    {
      "cell_type": "code",
      "execution_count": null,
      "metadata": {
        "id": "0YgLvv4DZ6-3",
        "outputId": "3835eccb-2813-4bb7-c39c-21cb4df04b21"
      },
      "outputs": [
        {
          "data": {
            "text/plain": [
              "<matplotlib.axes._subplots.AxesSubplot at 0x9ff2750>"
            ]
          },
          "execution_count": 15,
          "metadata": {},
          "output_type": "execute_result"
        },
        {
          "data": {
            "image/png": "[encoded data removed]",
            "text/plain": [
              "<Figure size 432x288 with 1 Axes>"
            ]
          },
          "metadata": {
            "needs_background": "light"
          },
          "output_type": "display_data"
        }
      ],
      "source": [
        "eda.boxplot('Landacres')\n",
        "# two outliers"
      ]
    },
    {
      "cell_type": "code",
      "execution_count": null,
      "metadata": {
        "id": "lucIaHRXZ6-3",
        "outputId": "799936c9-f839-4602-eabb-9581bab632e8"
      },
      "outputs": [
        {
          "data": {
            "text/plain": [
              "array([[<matplotlib.axes._subplots.AxesSubplot object at 0x0A011490>]],\n",
              "      dtype=object)"
            ]
          },
          "execution_count": 16,
          "metadata": {},
          "output_type": "execute_result"
        },
        {
          "data": {
            "image/png": "[encoded data removed]",
            "text/plain": [
              "<Figure size 432x288 with 1 Axes>"
            ]
          },
          "metadata": {
            "needs_background": "light"
          },
          "output_type": "display_data"
        }
      ],
      "source": [
        "eda.hist(\"Landacres\",bins=[0.1,0.15,0.2,0.25,0.3])\n",
        "#.2 and 0.25"
      ]
    },
    {
      "cell_type": "code",
      "execution_count": null,
      "metadata": {
        "id": "p6IWWaaZZ6-3",
        "outputId": "35822fec-9887-46d8-9c28-0830f007b874"
      },
      "outputs": [
        {
          "data": {
            "text/plain": [
              "<matplotlib.axes._subplots.AxesSubplot at 0xa077f90>"
            ]
          },
          "execution_count": 17,
          "metadata": {},
          "output_type": "execute_result"
        },
        {
          "data": {
            "image/png": "[encoded data removed]",
            "text/plain": [
              "<Figure size 432x288 with 1 Axes>"
            ]
          },
          "metadata": {
            "needs_background": "light"
          },
          "output_type": "display_data"
        }
      ],
      "source": [
        "sns.distplot(eda['Landacres'])"
      ]
    },
    {
      "cell_type": "code",
      "execution_count": null,
      "metadata": {
        "id": "IpfKnfVZZ6-4",
        "outputId": "e0434bfc-1694-4d6c-9128-2f13213eb5b2"
      },
      "outputs": [
        {
          "data": {
            "text/plain": [
              "<matplotlib.axes._subplots.AxesSubplot at 0xa0c1ad0>"
            ]
          },
          "execution_count": 18,
          "metadata": {},
          "output_type": "execute_result"
        },
        {
          "data": {
            "image/png": "[encoded data removed]",
            "text/plain": [
              "<Figure size 432x288 with 1 Axes>"
            ]
          },
          "metadata": {
            "needs_background": "light"
          },
          "output_type": "display_data"
        }
      ],
      "source": [
        "eda.boxplot(\"HouseSizesqrft\")\n",
        "#outlier"
      ]
    },
    {
      "cell_type": "code",
      "execution_count": null,
      "metadata": {
        "id": "n4F8FASoZ6-4",
        "outputId": "7acc4a2c-a5a1-4db7-9641-cf10a1906bb5"
      },
      "outputs": [
        {
          "data": {
            "text/plain": [
              "array([[<matplotlib.axes._subplots.AxesSubplot object at 0x0A1006B0>]],\n",
              "      dtype=object)"
            ]
          },
          "execution_count": 19,
          "metadata": {},
          "output_type": "execute_result"
        },
        {
          "data": {
            "image/png": "[encoded data removed]",
            "text/plain": [
              "<Figure size 432x288 with 1 Axes>"
            ]
          },
          "metadata": {
            "needs_background": "light"
          },
          "output_type": "display_data"
        }
      ],
      "source": [
        "eda.hist(\"HouseSizesqrft\")\n",
        "         # 1750-2250"
      ]
    },
    {
      "cell_type": "code",
      "execution_count": null,
      "metadata": {
        "id": "fM0TxCW2Z6-4",
        "outputId": "64620baa-7cc8-4a87-991c-f2a2a5caead5"
      },
      "outputs": [
        {
          "data": {
            "text/plain": [
              "<matplotlib.axes._subplots.AxesSubplot at 0xa149ad0>"
            ]
          },
          "execution_count": 20,
          "metadata": {},
          "output_type": "execute_result"
        },
        {
          "data": {
            "image/png": "[encoded data removed]",
            "text/plain": [
              "<Figure size 432x288 with 1 Axes>"
            ]
          },
          "metadata": {
            "needs_background": "light"
          },
          "output_type": "display_data"
        }
      ],
      "source": [
        "sns.distplot(eda[\"HouseSizesqrft\"])"
      ]
    },
    {
      "cell_type": "code",
      "execution_count": null,
      "metadata": {
        "id": "2IFemxaUZ6-4",
        "outputId": "b87d5b01-95cd-4699-f1c2-3e16ac8883d0"
      },
      "outputs": [
        {
          "data": {
            "text/plain": [
              "<matplotlib.axes._subplots.AxesSubplot at 0xa19b290>"
            ]
          },
          "execution_count": 21,
          "metadata": {},
          "output_type": "execute_result"
        },
        {
          "data": {
            "image/png": "[encoded data removed]",
            "text/plain": [
              "<Figure size 432x288 with 1 Axes>"
            ]
          },
          "metadata": {
            "needs_background": "light"
          },
          "output_type": "display_data"
        }
      ],
      "source": [
        "eda.boxplot('Rooms')"
      ]
    },
    {
      "cell_type": "code",
      "execution_count": null,
      "metadata": {
        "id": "qtnX2prJZ6-4",
        "outputId": "34d97666-decf-449d-cd74-66105e75f8a4"
      },
      "outputs": [
        {
          "data": {
            "text/plain": [
              "array([[<matplotlib.axes._subplots.AxesSubplot object at 0x0A1D8F50>]],\n",
              "      dtype=object)"
            ]
          },
          "execution_count": 22,
          "metadata": {},
          "output_type": "execute_result"
        },
        {
          "data": {
            "image/png": "[encoded data removed]",
            "text/plain": [
              "<Figure size 432x288 with 1 Axes>"
            ]
          },
          "metadata": {
            "needs_background": "light"
          },
          "output_type": "display_data"
        }
      ],
      "source": [
        "eda.hist(\"Rooms\",bins=[5,6,7,8,9])"
      ]
    },
    {
      "cell_type": "code",
      "execution_count": null,
      "metadata": {
        "id": "G5KYdURsZ6-5",
        "outputId": "c29a1cad-8f21-458e-e9e1-5355c6922ece"
      },
      "outputs": [
        {
          "data": {
            "text/plain": [
              "<matplotlib.axes._subplots.AxesSubplot at 0x532b2f0>"
            ]
          },
          "execution_count": 23,
          "metadata": {},
          "output_type": "execute_result"
        },
        {
          "data": {
            "image/png": "[encoded data removed]",
            "text/plain": [
              "<Figure size 432x288 with 1 Axes>"
            ]
          },
          "metadata": {
            "needs_background": "light"
          },
          "output_type": "display_data"
        }
      ],
      "source": [
        "sns.distplot(eda[\"Rooms\"])"
      ]
    },
    {
      "cell_type": "code",
      "execution_count": null,
      "metadata": {
        "id": "7fGHaFUBZ6-5",
        "outputId": "b06f5ead-237e-4032-bead-f320dcd2c3a5"
      },
      "outputs": [
        {
          "data": {
            "text/plain": [
              "<matplotlib.axes._subplots.AxesSubplot at 0xb2588b0>"
            ]
          },
          "execution_count": 24,
          "metadata": {},
          "output_type": "execute_result"
        },
        {
          "data": {
            "image/png": "[encoded data removed]",
            "text/plain": [
              "<Figure size 432x288 with 1 Axes>"
            ]
          },
          "metadata": {
            "needs_background": "light"
          },
          "output_type": "display_data"
        }
      ],
      "source": [
        "eda.boxplot('Baths')"
      ]
    },
    {
      "cell_type": "code",
      "execution_count": null,
      "metadata": {
        "id": "N6k4FvM8Z6-5",
        "outputId": "a5ac04df-bdd1-4207-ec0a-92a65839e9e9"
      },
      "outputs": [
        {
          "data": {
            "text/plain": [
              "array([[<matplotlib.axes._subplots.AxesSubplot object at 0x0B27A5B0>]],\n",
              "      dtype=object)"
            ]
          },
          "execution_count": 25,
          "metadata": {},
          "output_type": "execute_result"
        },
        {
          "data": {
            "image/png": "[encoded data removed]",
            "text/plain": [
              "<Figure size 432x288 with 1 Axes>"
            ]
          },
          "metadata": {
            "needs_background": "light"
          },
          "output_type": "display_data"
        }
      ],
      "source": [
        "eda.hist('Baths',bins=[1,2,3,4,5])"
      ]
    },
    {
      "cell_type": "code",
      "execution_count": null,
      "metadata": {
        "id": "3IqyHUQlZ6-5",
        "outputId": "7c33c6fd-8909-4d4d-a2fc-27fd9b19765d"
      },
      "outputs": [
        {
          "data": {
            "text/plain": [
              "<matplotlib.axes._subplots.AxesSubplot at 0xb2d2390>"
            ]
          },
          "execution_count": 26,
          "metadata": {},
          "output_type": "execute_result"
        },
        {
          "data": {
            "image/png": "[encoded data removed]",
            "text/plain": [
              "<Figure size 432x288 with 1 Axes>"
            ]
          },
          "metadata": {
            "needs_background": "light"
          },
          "output_type": "display_data"
        }
      ],
      "source": [
        "sns.distplot(eda[\"Baths\"])"
      ]
    },
    {
      "cell_type": "code",
      "execution_count": null,
      "metadata": {
        "id": "edF7GywpZ6-5",
        "outputId": "13200e19-5c4d-4f12-a7ad-ae58b6c33666"
      },
      "outputs": [
        {
          "data": {
            "text/plain": [
              "<matplotlib.axes._subplots.AxesSubplot at 0xb311370>"
            ]
          },
          "execution_count": 27,
          "metadata": {},
          "output_type": "execute_result"
        },
        {
          "data": {
            "image/png": "[encoded data removed]",
            "text/plain": [
              "<Figure size 432x288 with 1 Axes>"
            ]
          },
          "metadata": {
            "needs_background": "light"
          },
          "output_type": "display_data"
        }
      ],
      "source": [
        "eda.boxplot('Garage')"
      ]
    },
    {
      "cell_type": "code",
      "execution_count": null,
      "metadata": {
        "id": "vSzb80CtZ6-6",
        "outputId": "d9ea11cd-c8a6-47f6-8cf3-7d21c9371d24"
      },
      "outputs": [
        {
          "data": {
            "text/plain": [
              "array([[<matplotlib.axes._subplots.AxesSubplot object at 0x0B350EF0>]],\n",
              "      dtype=object)"
            ]
          },
          "execution_count": 28,
          "metadata": {},
          "output_type": "execute_result"
        },
        {
          "data": {
            "image/png": "[encoded data removed]",
            "text/plain": [
              "<Figure size 432x288 with 1 Axes>"
            ]
          },
          "metadata": {
            "needs_background": "light"
          },
          "output_type": "display_data"
        }
      ],
      "source": [
        "eda.hist(\"Garage\",bins=[0.5,1,1.5,2,2.5])"
      ]
    },
    {
      "cell_type": "code",
      "execution_count": null,
      "metadata": {
        "id": "TW6edoUqZ6-6",
        "outputId": "17e1b6e4-c1bb-4602-f10f-d9178f925e9b"
      },
      "outputs": [
        {
          "data": {
            "text/plain": [
              "<matplotlib.axes._subplots.AxesSubplot at 0xb3a3710>"
            ]
          },
          "execution_count": 29,
          "metadata": {},
          "output_type": "execute_result"
        },
        {
          "data": {
            "image/png": "[encoded data removed]",
            "text/plain": [
              "<Figure size 432x288 with 1 Axes>"
            ]
          },
          "metadata": {
            "needs_background": "light"
          },
          "output_type": "display_data"
        }
      ],
      "source": [
        "sns.distplot(eda[\"Garage\"])"
      ]
    },
    {
      "cell_type": "code",
      "execution_count": null,
      "metadata": {
        "id": "SUF-ivchZ6-6"
      },
      "outputs": [],
      "source": [
        ""
      ]
    },
    {
      "cell_type": "markdown",
      "metadata": {
        "id": "BLFGdE-SZ6-6"
      },
      "source": [
        "COUNTPLOTS FOR CATAGORICAL VARIABLE\n",
        "BIVARIATE ANALYSIS :\n",
        "    I. CON x CON\n",
        "    II. CAT x CON\n",
        "    III. CAT X CAT\n",
        " DEAL WITH NULL VALUES\n",
        "    "
      ]
    },
    {
      "cell_type": "markdown",
      "metadata": {
        "id": "4LsWyISEZ6-6"
      },
      "source": [
        "## TREATMENT OF MISSING VALUES"
      ]
    },
    {
      "cell_type": "code",
      "execution_count": null,
      "metadata": {
        "id": "kIEogEn9Z6-7",
        "outputId": "3e65639c-d78b-4b74-85dc-ab477c1184d9"
      },
      "outputs": [
        {
          "data": {
            "text/html": [
              "<div>\n",
              "<style scoped>\n",
              "    .dataframe tbody tr th:only-of-type {\n",
              "        vertical-align: middle;\n",
              "    }\n",
              "\n",
              "    .dataframe tbody tr th {\n",
              "        vertical-align: top;\n",
              "    }\n",
              "\n",
              "    .dataframe thead th {\n",
              "        text-align: right;\n",
              "    }\n",
              "</style>\n",
              "<table border=\"1\" class=\"dataframe\">\n",
              "  <thead>\n",
              "    <tr style=\"text-align: right;\">\n",
              "      <th></th>\n",
              "      <th>Name</th>\n",
              "      <th>Age</th>\n",
              "      <th>Gender</th>\n",
              "      <th>Education</th>\n",
              "      <th>Salary</th>\n",
              "      <th>AppraisedValue</th>\n",
              "      <th>Location</th>\n",
              "      <th>Landacres</th>\n",
              "      <th>HouseSizesqrft</th>\n",
              "      <th>Rooms</th>\n",
              "      <th>Baths</th>\n",
              "      <th>Garage</th>\n",
              "    </tr>\n",
              "  </thead>\n",
              "  <tbody>\n",
              "    <tr>\n",
              "      <th>0</th>\n",
              "      <td>False</td>\n",
              "      <td>False</td>\n",
              "      <td>False</td>\n",
              "      <td>False</td>\n",
              "      <td>False</td>\n",
              "      <td>False</td>\n",
              "      <td>False</td>\n",
              "      <td>False</td>\n",
              "      <td>False</td>\n",
              "      <td>False</td>\n",
              "      <td>False</td>\n",
              "      <td>False</td>\n",
              "    </tr>\n",
              "    <tr>\n",
              "      <th>1</th>\n",
              "      <td>False</td>\n",
              "      <td>False</td>\n",
              "      <td>False</td>\n",
              "      <td>False</td>\n",
              "      <td>False</td>\n",
              "      <td>False</td>\n",
              "      <td>False</td>\n",
              "      <td>False</td>\n",
              "      <td>False</td>\n",
              "      <td>False</td>\n",
              "      <td>False</td>\n",
              "      <td>False</td>\n",
              "    </tr>\n",
              "    <tr>\n",
              "      <th>2</th>\n",
              "      <td>False</td>\n",
              "      <td>False</td>\n",
              "      <td>False</td>\n",
              "      <td>False</td>\n",
              "      <td>False</td>\n",
              "      <td>False</td>\n",
              "      <td>False</td>\n",
              "      <td>False</td>\n",
              "      <td>False</td>\n",
              "      <td>False</td>\n",
              "      <td>False</td>\n",
              "      <td>False</td>\n",
              "    </tr>\n",
              "    <tr>\n",
              "      <th>3</th>\n",
              "      <td>False</td>\n",
              "      <td>False</td>\n",
              "      <td>False</td>\n",
              "      <td>False</td>\n",
              "      <td>False</td>\n",
              "      <td>False</td>\n",
              "      <td>False</td>\n",
              "      <td>False</td>\n",
              "      <td>False</td>\n",
              "      <td>False</td>\n",
              "      <td>False</td>\n",
              "      <td>False</td>\n",
              "    </tr>\n",
              "    <tr>\n",
              "      <th>4</th>\n",
              "      <td>False</td>\n",
              "      <td>False</td>\n",
              "      <td>False</td>\n",
              "      <td>False</td>\n",
              "      <td>False</td>\n",
              "      <td>False</td>\n",
              "      <td>False</td>\n",
              "      <td>False</td>\n",
              "      <td>False</td>\n",
              "      <td>True</td>\n",
              "      <td>False</td>\n",
              "      <td>False</td>\n",
              "    </tr>\n",
              "    <tr>\n",
              "      <th>5</th>\n",
              "      <td>False</td>\n",
              "      <td>False</td>\n",
              "      <td>False</td>\n",
              "      <td>False</td>\n",
              "      <td>False</td>\n",
              "      <td>False</td>\n",
              "      <td>False</td>\n",
              "      <td>False</td>\n",
              "      <td>False</td>\n",
              "      <td>False</td>\n",
              "      <td>False</td>\n",
              "      <td>False</td>\n",
              "    </tr>\n",
              "    <tr>\n",
              "      <th>6</th>\n",
              "      <td>False</td>\n",
              "      <td>False</td>\n",
              "      <td>False</td>\n",
              "      <td>False</td>\n",
              "      <td>False</td>\n",
              "      <td>False</td>\n",
              "      <td>False</td>\n",
              "      <td>False</td>\n",
              "      <td>False</td>\n",
              "      <td>False</td>\n",
              "      <td>False</td>\n",
              "      <td>False</td>\n",
              "    </tr>\n",
              "    <tr>\n",
              "      <th>7</th>\n",
              "      <td>False</td>\n",
              "      <td>False</td>\n",
              "      <td>False</td>\n",
              "      <td>False</td>\n",
              "      <td>False</td>\n",
              "      <td>False</td>\n",
              "      <td>False</td>\n",
              "      <td>False</td>\n",
              "      <td>False</td>\n",
              "      <td>False</td>\n",
              "      <td>False</td>\n",
              "      <td>False</td>\n",
              "    </tr>\n",
              "    <tr>\n",
              "      <th>8</th>\n",
              "      <td>False</td>\n",
              "      <td>False</td>\n",
              "      <td>False</td>\n",
              "      <td>False</td>\n",
              "      <td>False</td>\n",
              "      <td>False</td>\n",
              "      <td>False</td>\n",
              "      <td>False</td>\n",
              "      <td>False</td>\n",
              "      <td>False</td>\n",
              "      <td>False</td>\n",
              "      <td>False</td>\n",
              "    </tr>\n",
              "    <tr>\n",
              "      <th>9</th>\n",
              "      <td>False</td>\n",
              "      <td>False</td>\n",
              "      <td>False</td>\n",
              "      <td>False</td>\n",
              "      <td>False</td>\n",
              "      <td>False</td>\n",
              "      <td>False</td>\n",
              "      <td>False</td>\n",
              "      <td>False</td>\n",
              "      <td>True</td>\n",
              "      <td>False</td>\n",
              "      <td>False</td>\n",
              "    </tr>\n",
              "    <tr>\n",
              "      <th>10</th>\n",
              "      <td>False</td>\n",
              "      <td>False</td>\n",
              "      <td>False</td>\n",
              "      <td>False</td>\n",
              "      <td>False</td>\n",
              "      <td>False</td>\n",
              "      <td>False</td>\n",
              "      <td>False</td>\n",
              "      <td>False</td>\n",
              "      <td>False</td>\n",
              "      <td>False</td>\n",
              "      <td>False</td>\n",
              "    </tr>\n",
              "    <tr>\n",
              "      <th>11</th>\n",
              "      <td>False</td>\n",
              "      <td>False</td>\n",
              "      <td>False</td>\n",
              "      <td>False</td>\n",
              "      <td>False</td>\n",
              "      <td>False</td>\n",
              "      <td>False</td>\n",
              "      <td>False</td>\n",
              "      <td>False</td>\n",
              "      <td>False</td>\n",
              "      <td>False</td>\n",
              "      <td>False</td>\n",
              "    </tr>\n",
              "    <tr>\n",
              "      <th>12</th>\n",
              "      <td>False</td>\n",
              "      <td>False</td>\n",
              "      <td>False</td>\n",
              "      <td>False</td>\n",
              "      <td>False</td>\n",
              "      <td>False</td>\n",
              "      <td>False</td>\n",
              "      <td>False</td>\n",
              "      <td>False</td>\n",
              "      <td>False</td>\n",
              "      <td>False</td>\n",
              "      <td>False</td>\n",
              "    </tr>\n",
              "    <tr>\n",
              "      <th>13</th>\n",
              "      <td>False</td>\n",
              "      <td>False</td>\n",
              "      <td>False</td>\n",
              "      <td>False</td>\n",
              "      <td>False</td>\n",
              "      <td>False</td>\n",
              "      <td>False</td>\n",
              "      <td>False</td>\n",
              "      <td>False</td>\n",
              "      <td>True</td>\n",
              "      <td>False</td>\n",
              "      <td>False</td>\n",
              "    </tr>\n",
              "    <tr>\n",
              "      <th>14</th>\n",
              "      <td>False</td>\n",
              "      <td>False</td>\n",
              "      <td>False</td>\n",
              "      <td>False</td>\n",
              "      <td>False</td>\n",
              "      <td>False</td>\n",
              "      <td>False</td>\n",
              "      <td>False</td>\n",
              "      <td>False</td>\n",
              "      <td>False</td>\n",
              "      <td>False</td>\n",
              "      <td>False</td>\n",
              "    </tr>\n",
              "  </tbody>\n",
              "</table>\n",
              "</div>"
            ],
            "text/plain": [
              "     Name    Age  Gender  Education  Salary  AppraisedValue  Location  \\\n",
              "0   False  False   False      False   False           False     False   \n",
              "1   False  False   False      False   False           False     False   \n",
              "2   False  False   False      False   False           False     False   \n",
              "3   False  False   False      False   False           False     False   \n",
              "4   False  False   False      False   False           False     False   \n",
              "5   False  False   False      False   False           False     False   \n",
              "6   False  False   False      False   False           False     False   \n",
              "7   False  False   False      False   False           False     False   \n",
              "8   False  False   False      False   False           False     False   \n",
              "9   False  False   False      False   False           False     False   \n",
              "10  False  False   False      False   False           False     False   \n",
              "11  False  False   False      False   False           False     False   \n",
              "12  False  False   False      False   False           False     False   \n",
              "13  False  False   False      False   False           False     False   \n",
              "14  False  False   False      False   False           False     False   \n",
              "\n",
              "    Landacres  HouseSizesqrft  Rooms  Baths  Garage  \n",
              "0       False           False  False  False   False  \n",
              "1       False           False  False  False   False  \n",
              "2       False           False  False  False   False  \n",
              "3       False           False  False  False   False  \n",
              "4       False           False   True  False   False  \n",
              "5       False           False  False  False   False  \n",
              "6       False           False  False  False   False  \n",
              "7       False           False  False  False   False  \n",
              "8       False           False  False  False   False  \n",
              "9       False           False   True  False   False  \n",
              "10      False           False  False  False   False  \n",
              "11      False           False  False  False   False  \n",
              "12      False           False  False  False   False  \n",
              "13      False           False   True  False   False  \n",
              "14      False           False  False  False   False  "
            ]
          },
          "execution_count": 30,
          "metadata": {},
          "output_type": "execute_result"
        }
      ],
      "source": [
        "eda.isnull()"
      ]
    },
    {
      "cell_type": "code",
      "execution_count": null,
      "metadata": {
        "id": "YM_YGuWFZ6-7",
        "outputId": "1d1c03df-0c15-4b49-a20c-ee6f89b31db8"
      },
      "outputs": [
        {
          "data": {
            "text/plain": [
              "Name              0\n",
              "Age               0\n",
              "Gender            0\n",
              "Education         0\n",
              "Salary            0\n",
              "AppraisedValue    0\n",
              "Location          0\n",
              "Landacres         0\n",
              "HouseSizesqrft    0\n",
              "Rooms             3\n",
              "Baths             0\n",
              "Garage            0\n",
              "dtype: int64"
            ]
          },
          "execution_count": 31,
          "metadata": {},
          "output_type": "execute_result"
        }
      ],
      "source": [
        "eda.isnull().sum()"
      ]
    },
    {
      "cell_type": "markdown",
      "metadata": {
        "id": "QSLvrCWIZ6-7"
      },
      "source": [
        "### DELETING OBSERVATIONS WITH NULL VALUE (If null values are less than 5%)"
      ]
    },
    {
      "cell_type": "code",
      "execution_count": null,
      "metadata": {
        "id": "AFWBGkFcZ6-7",
        "outputId": "39430b1d-74eb-4da4-a231-12c8b6ea48c9"
      },
      "outputs": [
        {
          "data": {
            "text/html": [
              "<div>\n",
              "<style scoped>\n",
              "    .dataframe tbody tr th:only-of-type {\n",
              "        vertical-align: middle;\n",
              "    }\n",
              "\n",
              "    .dataframe tbody tr th {\n",
              "        vertical-align: top;\n",
              "    }\n",
              "\n",
              "    .dataframe thead th {\n",
              "        text-align: right;\n",
              "    }\n",
              "</style>\n",
              "<table border=\"1\" class=\"dataframe\">\n",
              "  <thead>\n",
              "    <tr style=\"text-align: right;\">\n",
              "      <th></th>\n",
              "      <th>Name</th>\n",
              "      <th>Age</th>\n",
              "      <th>Gender</th>\n",
              "      <th>Education</th>\n",
              "      <th>Salary</th>\n",
              "      <th>AppraisedValue</th>\n",
              "      <th>Location</th>\n",
              "      <th>Landacres</th>\n",
              "      <th>HouseSizesqrft</th>\n",
              "      <th>Rooms</th>\n",
              "      <th>Baths</th>\n",
              "      <th>Garage</th>\n",
              "    </tr>\n",
              "  </thead>\n",
              "  <tbody>\n",
              "    <tr>\n",
              "      <th>0</th>\n",
              "      <td>Tony</td>\n",
              "      <td>25</td>\n",
              "      <td>M</td>\n",
              "      <td>Grad</td>\n",
              "      <td>50</td>\n",
              "      <td>700.0</td>\n",
              "      <td>GlenCove</td>\n",
              "      <td>0.2297</td>\n",
              "      <td>2448</td>\n",
              "      <td>8.0</td>\n",
              "      <td>3.5</td>\n",
              "      <td>2</td>\n",
              "    </tr>\n",
              "    <tr>\n",
              "      <th>1</th>\n",
              "      <td>Harret</td>\n",
              "      <td>52</td>\n",
              "      <td>F</td>\n",
              "      <td>PostGrad</td>\n",
              "      <td>95</td>\n",
              "      <td>364.0</td>\n",
              "      <td>GlenCove</td>\n",
              "      <td>0.2192</td>\n",
              "      <td>1942</td>\n",
              "      <td>7.0</td>\n",
              "      <td>2.5</td>\n",
              "      <td>1</td>\n",
              "    </tr>\n",
              "    <tr>\n",
              "      <th>2</th>\n",
              "      <td>Jane</td>\n",
              "      <td>26</td>\n",
              "      <td>F</td>\n",
              "      <td>PostGrad</td>\n",
              "      <td>65</td>\n",
              "      <td>600.0</td>\n",
              "      <td>GlenCove</td>\n",
              "      <td>0.1630</td>\n",
              "      <td>2073</td>\n",
              "      <td>7.0</td>\n",
              "      <td>3.0</td>\n",
              "      <td>2</td>\n",
              "    </tr>\n",
              "    <tr>\n",
              "      <th>3</th>\n",
              "      <td>Rose</td>\n",
              "      <td>45</td>\n",
              "      <td>F</td>\n",
              "      <td>Grad</td>\n",
              "      <td>99</td>\n",
              "      <td>548.4</td>\n",
              "      <td>LongBeach</td>\n",
              "      <td>0.4608</td>\n",
              "      <td>2707</td>\n",
              "      <td>8.0</td>\n",
              "      <td>2.5</td>\n",
              "      <td>1</td>\n",
              "    </tr>\n",
              "    <tr>\n",
              "      <th>5</th>\n",
              "      <td>Mark</td>\n",
              "      <td>62</td>\n",
              "      <td>M</td>\n",
              "      <td>PostGrad</td>\n",
              "      <td>118</td>\n",
              "      <td>374.1</td>\n",
              "      <td>GlenCove</td>\n",
              "      <td>0.2290</td>\n",
              "      <td>2089</td>\n",
              "      <td>7.0</td>\n",
              "      <td>2.0</td>\n",
              "      <td>0</td>\n",
              "    </tr>\n",
              "    <tr>\n",
              "      <th>6</th>\n",
              "      <td>Bruce</td>\n",
              "      <td>51</td>\n",
              "      <td>M</td>\n",
              "      <td>Grad</td>\n",
              "      <td>101</td>\n",
              "      <td>600.0</td>\n",
              "      <td>GlenCove</td>\n",
              "      <td>0.1714</td>\n",
              "      <td>1344</td>\n",
              "      <td>8.0</td>\n",
              "      <td>1.0</td>\n",
              "      <td>0</td>\n",
              "    </tr>\n",
              "    <tr>\n",
              "      <th>7</th>\n",
              "      <td>Steve</td>\n",
              "      <td>43</td>\n",
              "      <td>M</td>\n",
              "      <td>Grad</td>\n",
              "      <td>108</td>\n",
              "      <td>299.0</td>\n",
              "      <td>Roslyn</td>\n",
              "      <td>0.1750</td>\n",
              "      <td>1120</td>\n",
              "      <td>5.0</td>\n",
              "      <td>1.5</td>\n",
              "      <td>0</td>\n",
              "    </tr>\n",
              "    <tr>\n",
              "      <th>8</th>\n",
              "      <td>Carol</td>\n",
              "      <td>24</td>\n",
              "      <td>F</td>\n",
              "      <td>PostGrad</td>\n",
              "      <td>51</td>\n",
              "      <td>471.0</td>\n",
              "      <td>Roslyn</td>\n",
              "      <td>0.2130</td>\n",
              "      <td>1817</td>\n",
              "      <td>6.0</td>\n",
              "      <td>2.0</td>\n",
              "      <td>0</td>\n",
              "    </tr>\n",
              "    <tr>\n",
              "      <th>10</th>\n",
              "      <td>Donald</td>\n",
              "      <td>41</td>\n",
              "      <td>M</td>\n",
              "      <td>Grad</td>\n",
              "      <td>86</td>\n",
              "      <td>517.7</td>\n",
              "      <td>LongBeach</td>\n",
              "      <td>0.2497</td>\n",
              "      <td>1615</td>\n",
              "      <td>7.0</td>\n",
              "      <td>2.0</td>\n",
              "      <td>1</td>\n",
              "    </tr>\n",
              "    <tr>\n",
              "      <th>11</th>\n",
              "      <td>Maria</td>\n",
              "      <td>51</td>\n",
              "      <td>F</td>\n",
              "      <td>Grad</td>\n",
              "      <td>122</td>\n",
              "      <td>1200.0</td>\n",
              "      <td>LongBeach</td>\n",
              "      <td>0.4116</td>\n",
              "      <td>4067</td>\n",
              "      <td>9.0</td>\n",
              "      <td>4.0</td>\n",
              "      <td>1</td>\n",
              "    </tr>\n",
              "    <tr>\n",
              "      <th>12</th>\n",
              "      <td>Janet</td>\n",
              "      <td>49</td>\n",
              "      <td>F</td>\n",
              "      <td>PostGrad</td>\n",
              "      <td>112</td>\n",
              "      <td>700.0</td>\n",
              "      <td>Roslyn</td>\n",
              "      <td>0.3372</td>\n",
              "      <td>3130</td>\n",
              "      <td>8.0</td>\n",
              "      <td>3.0</td>\n",
              "      <td>1</td>\n",
              "    </tr>\n",
              "    <tr>\n",
              "      <th>14</th>\n",
              "      <td>Jeffery</td>\n",
              "      <td>37</td>\n",
              "      <td>M</td>\n",
              "      <td>Grad</td>\n",
              "      <td>90</td>\n",
              "      <td>543.0</td>\n",
              "      <td>LongBeach</td>\n",
              "      <td>0.2348</td>\n",
              "      <td>1799</td>\n",
              "      <td>6.0</td>\n",
              "      <td>2.5</td>\n",
              "      <td>1</td>\n",
              "    </tr>\n",
              "  </tbody>\n",
              "</table>\n",
              "</div>"
            ],
            "text/plain": [
              "       Name  Age Gender Education  Salary  AppraisedValue   Location  \\\n",
              "0      Tony   25      M      Grad      50           700.0   GlenCove   \n",
              "1    Harret   52      F  PostGrad      95           364.0   GlenCove   \n",
              "2      Jane   26      F  PostGrad      65           600.0   GlenCove   \n",
              "3      Rose   45      F      Grad      99           548.4  LongBeach   \n",
              "5      Mark   62      M  PostGrad     118           374.1   GlenCove   \n",
              "6     Bruce   51      M      Grad     101           600.0   GlenCove   \n",
              "7     Steve   43      M      Grad     108           299.0     Roslyn   \n",
              "8     Carol   24      F  PostGrad      51           471.0     Roslyn   \n",
              "10   Donald   41      M      Grad      86           517.7  LongBeach   \n",
              "11    Maria   51      F      Grad     122          1200.0  LongBeach   \n",
              "12    Janet   49      F  PostGrad     112           700.0     Roslyn   \n",
              "14  Jeffery   37      M      Grad      90           543.0  LongBeach   \n",
              "\n",
              "    Landacres  HouseSizesqrft  Rooms  Baths  Garage  \n",
              "0      0.2297            2448    8.0    3.5       2  \n",
              "1      0.2192            1942    7.0    2.5       1  \n",
              "2      0.1630            2073    7.0    3.0       2  \n",
              "3      0.4608            2707    8.0    2.5       1  \n",
              "5      0.2290            2089    7.0    2.0       0  \n",
              "6      0.1714            1344    8.0    1.0       0  \n",
              "7      0.1750            1120    5.0    1.5       0  \n",
              "8      0.2130            1817    6.0    2.0       0  \n",
              "10     0.2497            1615    7.0    2.0       1  \n",
              "11     0.4116            4067    9.0    4.0       1  \n",
              "12     0.3372            3130    8.0    3.0       1  \n",
              "14     0.2348            1799    6.0    2.5       1  "
            ]
          },
          "execution_count": 32,
          "metadata": {},
          "output_type": "execute_result"
        }
      ],
      "source": [
        "eda.dropna()"
      ]
    },
    {
      "cell_type": "markdown",
      "metadata": {
        "id": "6DfxfHncZ6-7"
      },
      "source": [
        "# Normal Dist = Mean\n",
        "# Categorical  = Mode\n",
        "# Outliers        = Median"
      ]
    },
    {
      "cell_type": "code",
      "execution_count": null,
      "metadata": {
        "id": "DqMO7BMeZ6-7",
        "outputId": "b3bf6e40-436d-4e6c-f981-f8f79ac23535"
      },
      "outputs": [
        {
          "data": {
            "text/plain": [
              "<matplotlib.axes._subplots.AxesSubplot at 0xb3ebd10>"
            ]
          },
          "execution_count": 33,
          "metadata": {},
          "output_type": "execute_result"
        },
        {
          "data": {
            "image/png": "[encoded data removed]",
            "text/plain": [
              "<Figure size 432x288 with 1 Axes>"
            ]
          },
          "metadata": {
            "needs_background": "light"
          },
          "output_type": "display_data"
        }
      ],
      "source": [
        "sns.distplot(eda['Rooms'])"
      ]
    },
    {
      "cell_type": "code",
      "execution_count": null,
      "metadata": {
        "id": "Zw9bI-2VZ6-7",
        "outputId": "f1ab7725-9d4e-445f-8249-35a8c81c021a"
      },
      "outputs": [
        {
          "data": {
            "text/plain": [
              "<matplotlib.axes._subplots.AxesSubplot at 0xb43fbb0>"
            ]
          },
          "execution_count": 34,
          "metadata": {},
          "output_type": "execute_result"
        },
        {
          "data": {
            "image/png": "[encoded data removed]",
            "text/plain": [
              "<Figure size 432x288 with 1 Axes>"
            ]
          },
          "metadata": {
            "needs_background": "light"
          },
          "output_type": "display_data"
        }
      ],
      "source": [
        "sns.boxplot(eda['Rooms'])"
      ]
    },
    {
      "cell_type": "markdown",
      "metadata": {
        "id": "OirEYormZ6-8"
      },
      "source": [
        "#### So MEAN"
      ]
    },
    {
      "cell_type": "code",
      "execution_count": null,
      "metadata": {
        "id": "NuuxLQjIZ6-8"
      },
      "outputs": [],
      "source": [
        "eda['Rooms']=eda['Rooms'].fillna(eda['Rooms'].mean())"
      ]
    },
    {
      "cell_type": "code",
      "execution_count": null,
      "metadata": {
        "id": "8fEneu4lZ6-8",
        "outputId": "54fa5038-e2d6-4c38-e8ce-e4983375169f"
      },
      "outputs": [
        {
          "data": {
            "text/plain": [
              "Name              0\n",
              "Age               0\n",
              "Gender            0\n",
              "Education         0\n",
              "Salary            0\n",
              "AppraisedValue    0\n",
              "Location          0\n",
              "Landacres         0\n",
              "HouseSizesqrft    0\n",
              "Rooms             0\n",
              "Baths             0\n",
              "Garage            0\n",
              "dtype: int64"
            ]
          },
          "execution_count": 36,
          "metadata": {},
          "output_type": "execute_result"
        }
      ],
      "source": [
        "eda.isnull().sum()"
      ]
    },
    {
      "cell_type": "code",
      "execution_count": null,
      "metadata": {
        "id": "DYCWvHUMZ6-8"
      },
      "outputs": [],
      "source": [
        "#eda[eda['Rooms'].isnull()].index"
      ]
    },
    {
      "cell_type": "code",
      "execution_count": null,
      "metadata": {
        "id": "52fO8xf2Z6-8"
      },
      "outputs": [],
      "source": [
        "#eda.columns[eda.isnull().any()]"
      ]
    },
    {
      "cell_type": "markdown",
      "metadata": {
        "id": "ZD_TfEQUZ6-8"
      },
      "source": [
        "## OUTLIER TREATMENT"
      ]
    },
    {
      "cell_type": "code",
      "execution_count": null,
      "metadata": {
        "id": "TQq2h-PpZ6-8",
        "outputId": "f5b915f1-7cb3-422b-950f-385cde4206c3"
      },
      "outputs": [
        {
          "data": {
            "text/plain": [
              "<matplotlib.axes._subplots.AxesSubplot at 0xb47ba50>"
            ]
          },
          "execution_count": 39,
          "metadata": {},
          "output_type": "execute_result"
        },
        {
          "data": {
            "image/png": "[encoded data removed]",
            "text/plain": [
              "<Figure size 432x288 with 1 Axes>"
            ]
          },
          "metadata": {
            "needs_background": "light"
          },
          "output_type": "display_data"
        }
      ],
      "source": [
        "sns.boxplot(eda['AppraisedValue'],orient='v')"
      ]
    },
    {
      "cell_type": "markdown",
      "metadata": {
        "id": "RHucWvs8Z6-8"
      },
      "source": [
        "### Q3 + 1.5 IQR anything above this is an Outlier\n",
        "### Q1 - 1.5 IQR anything below this is an Outlier"
      ]
    },
    {
      "cell_type": "code",
      "execution_count": null,
      "metadata": {
        "id": "ZZMxbeGUZ6-9",
        "outputId": "6ec405a7-2465-47e3-ddb9-99bd6abb5029"
      },
      "outputs": [
        {
          "data": {
            "text/plain": [
              "count      15.000000\n",
              "mean      547.240000\n",
              "std       217.331829\n",
              "min       299.000000\n",
              "25%       390.350000\n",
              "50%       517.700000\n",
              "75%       600.000000\n",
              "max      1200.000000\n",
              "Name: AppraisedValue, dtype: float64"
            ]
          },
          "execution_count": 40,
          "metadata": {},
          "output_type": "execute_result"
        }
      ],
      "source": [
        "eda['AppraisedValue'].describe()"
      ]
    },
    {
      "cell_type": "code",
      "execution_count": null,
      "metadata": {
        "id": "EM8yOnUxZ6-9"
      },
      "outputs": [],
      "source": [
        " iqr_apval = eda['AppraisedValue'].quantile(0.75)-eda['AppraisedValue'].quantile(0.25)"
      ]
    },
    {
      "cell_type": "code",
      "execution_count": null,
      "metadata": {
        "id": "9e1epkPkZ6-9",
        "outputId": "c1689bfa-18e6-4606-c887-7129e69fba21"
      },
      "outputs": [
        {
          "data": {
            "text/plain": [
              "209.64999999999998"
            ]
          },
          "execution_count": 42,
          "metadata": {},
          "output_type": "execute_result"
        }
      ],
      "source": [
        "iqr_apval"
      ]
    },
    {
      "cell_type": "code",
      "execution_count": null,
      "metadata": {
        "id": "yxccGttrZ6-9"
      },
      "outputs": [],
      "source": [
        "upper_limit = eda['AppraisedValue'].quantile(0.75)+1.5*iqr_apval"
      ]
    },
    {
      "cell_type": "code",
      "execution_count": null,
      "metadata": {
        "id": "pS-uQ4hKZ6-9",
        "outputId": "e07cdc88-0884-4476-fe9a-48c5ccd49498"
      },
      "outputs": [
        {
          "data": {
            "text/plain": [
              "914.4749999999999"
            ]
          },
          "execution_count": 44,
          "metadata": {},
          "output_type": "execute_result"
        }
      ],
      "source": [
        "upper_limit"
      ]
    },
    {
      "cell_type": "code",
      "execution_count": null,
      "metadata": {
        "id": "8HyidjJpZ6-9"
      },
      "outputs": [],
      "source": [
        "lower_limit= eda['AppraisedValue'].quantile(0.25)-1.5*iqr_apval"
      ]
    },
    {
      "cell_type": "code",
      "execution_count": null,
      "metadata": {
        "id": "grkCKJnKZ6-9",
        "outputId": "9f2614f7-d018-4cc2-93e5-a7eddc1b1ce4"
      },
      "outputs": [
        {
          "data": {
            "text/plain": [
              "75.87500000000006"
            ]
          },
          "execution_count": 46,
          "metadata": {},
          "output_type": "execute_result"
        }
      ],
      "source": [
        "lower_limit"
      ]
    },
    {
      "cell_type": "code",
      "execution_count": null,
      "metadata": {
        "id": "jlj2XJd_Z6-9",
        "outputId": "be18c3a3-f938-427a-f70e-01b3968adc4b"
      },
      "outputs": [
        {
          "data": {
            "text/html": [
              "<div>\n",
              "<style scoped>\n",
              "    .dataframe tbody tr th:only-of-type {\n",
              "        vertical-align: middle;\n",
              "    }\n",
              "\n",
              "    .dataframe tbody tr th {\n",
              "        vertical-align: top;\n",
              "    }\n",
              "\n",
              "    .dataframe thead th {\n",
              "        text-align: right;\n",
              "    }\n",
              "</style>\n",
              "<table border=\"1\" class=\"dataframe\">\n",
              "  <thead>\n",
              "    <tr style=\"text-align: right;\">\n",
              "      <th></th>\n",
              "      <th>Name</th>\n",
              "      <th>Age</th>\n",
              "      <th>Gender</th>\n",
              "      <th>Education</th>\n",
              "      <th>Salary</th>\n",
              "      <th>AppraisedValue</th>\n",
              "      <th>Location</th>\n",
              "      <th>Landacres</th>\n",
              "      <th>HouseSizesqrft</th>\n",
              "      <th>Rooms</th>\n",
              "      <th>Baths</th>\n",
              "      <th>Garage</th>\n",
              "    </tr>\n",
              "  </thead>\n",
              "  <tbody>\n",
              "    <tr>\n",
              "      <th>11</th>\n",
              "      <td>Maria</td>\n",
              "      <td>51</td>\n",
              "      <td>F</td>\n",
              "      <td>Grad</td>\n",
              "      <td>122</td>\n",
              "      <td>1200.0</td>\n",
              "      <td>LongBeach</td>\n",
              "      <td>0.4116</td>\n",
              "      <td>4067</td>\n",
              "      <td>9.0</td>\n",
              "      <td>4.0</td>\n",
              "      <td>1</td>\n",
              "    </tr>\n",
              "  </tbody>\n",
              "</table>\n",
              "</div>"
            ],
            "text/plain": [
              "     Name  Age Gender Education  Salary  AppraisedValue   Location  Landacres  \\\n",
              "11  Maria   51      F      Grad     122          1200.0  LongBeach     0.4116   \n",
              "\n",
              "    HouseSizesqrft  Rooms  Baths  Garage  \n",
              "11            4067    9.0    4.0       1  "
            ]
          },
          "execution_count": 47,
          "metadata": {},
          "output_type": "execute_result"
        }
      ],
      "source": [
        "eda[(eda['AppraisedValue']>upper_limit) | (eda['AppraisedValue']<lower_limit)]"
      ]
    },
    {
      "cell_type": "code",
      "execution_count": null,
      "metadata": {
        "id": "MEJGPXAQZ6--",
        "outputId": "3244a4c7-2b62-4a07-9378-1977e68be2fe"
      },
      "outputs": [
        {
          "data": {
            "text/plain": [
              "0.00     299.000\n",
              "0.02     317.200\n",
              "0.04     335.400\n",
              "0.06     353.600\n",
              "0.08     365.212\n",
              "0.10     368.040\n",
              "0.12     370.868\n",
              "0.14     373.696\n",
              "0.16     374.268\n",
              "0.18     374.464\n",
              "0.20     374.660\n",
              "0.22     377.288\n",
              "0.24     385.996\n",
              "0.26     394.704\n",
              "0.28     403.412\n",
              "0.30     418.920\n",
              "0.32     437.148\n",
              "0.34     455.376\n",
              "0.36     472.588\n",
              "0.38     483.704\n",
              "0.40     494.820\n",
              "0.42     505.936\n",
              "0.44     511.820\n",
              "0.46     513.780\n",
              "0.48     515.740\n",
              "0.50     517.700\n",
              "0.52     524.784\n",
              "0.54     531.868\n",
              "0.56     538.952\n",
              "0.58     543.648\n",
              "0.60     545.160\n",
              "0.62     546.672\n",
              "0.64     548.184\n",
              "0.66     560.784\n",
              "0.68     575.232\n",
              "0.70     589.680\n",
              "0.72     600.000\n",
              "0.74     600.000\n",
              "0.76     600.000\n",
              "0.78     600.000\n",
              "0.80     620.000\n",
              "0.82     648.000\n",
              "0.84     676.000\n",
              "0.86     700.000\n",
              "0.88     700.000\n",
              "0.90     700.000\n",
              "0.92     700.000\n",
              "0.94     780.000\n",
              "0.96     920.000\n",
              "0.98    1060.000\n",
              "Name: AppraisedValue, dtype: float64"
            ]
          },
          "execution_count": 48,
          "metadata": {},
          "output_type": "execute_result"
        }
      ],
      "source": [
        "eda['AppraisedValue'].quantile(np.arange(0,1,0.02))"
      ]
    },
    {
      "cell_type": "code",
      "execution_count": null,
      "metadata": {
        "id": "nSaj6AO7Z6--",
        "outputId": "17636f1b-97a2-40c8-c239-48deb404233d"
      },
      "outputs": [
        {
          "data": {
            "text/plain": [
              "849.9999999999995"
            ]
          },
          "execution_count": 49,
          "metadata": {},
          "output_type": "execute_result"
        }
      ],
      "source": [
        "eda['AppraisedValue'].quantile(0.95)"
      ]
    },
    {
      "cell_type": "code",
      "execution_count": null,
      "metadata": {
        "id": "pov47kekZ6--",
        "outputId": "fcba086b-2a1f-46ea-f827-9a532bb7e301"
      },
      "outputs": [
        {
          "name": "stderr",
          "output_type": "stream",
          "text": [
            "C:\\Users\\T0SHIBA\\anaconda3\\lib\\site-packages\\ipykernel_launcher.py:1: SettingWithCopyWarning: \n",
            "A value is trying to be set on a copy of a slice from a DataFrame\n",
            "\n",
            "See the caveats in the documentation: https://pandas.pydata.org/pandas-docs/stable/user_guide/indexing.html#returning-a-view-versus-a-copy\n",
            "  \"\"\"Entry point for launching an IPython kernel.\n"
          ]
        }
      ],
      "source": [
        "eda['AppraisedValue'][11]=eda['AppraisedValue'].quantile(0.95)"
      ]
    },
    {
      "cell_type": "code",
      "execution_count": null,
      "metadata": {
        "id": "lxqYAt26Z6--"
      },
      "outputs": [],
      "source": [
        ""
      ]
    },
    {
      "cell_type": "code",
      "execution_count": null,
      "metadata": {
        "id": "wQv2qmB0Z6--",
        "outputId": "7bcc1075-617c-4113-8d66-fabec1ae728b"
      },
      "outputs": [
        {
          "data": {
            "text/plain": [
              "<matplotlib.axes._subplots.AxesSubplot at 0xb4d80b0>"
            ]
          },
          "execution_count": 51,
          "metadata": {},
          "output_type": "execute_result"
        },
        {
          "data": {
            "image/png": "[encoded data removed]",
            "text/plain": [
              "<Figure size 432x288 with 1 Axes>"
            ]
          },
          "metadata": {
            "needs_background": "light"
          },
          "output_type": "display_data"
        }
      ],
      "source": [
        "sns.boxplot(eda['AppraisedValue'],orient='v')"
      ]
    },
    {
      "cell_type": "code",
      "execution_count": null,
      "metadata": {
        "id": "SarsFjJOZ6--"
      },
      "outputs": [],
      "source": [
        "IQR_la = eda['Landacres'].quantile(0.75)-eda['Landacres'].quantile(0.25)"
      ]
    },
    {
      "cell_type": "code",
      "execution_count": null,
      "metadata": {
        "id": "Wq6BZYraZ6--"
      },
      "outputs": [],
      "source": [
        "upper_la = eda['Landacres'].quantile(0.75)+1.5*IQR_la\n",
        "lower_la = eda['Landacres'].quantile(0.25)-1.5*IQR_la"
      ]
    },
    {
      "cell_type": "code",
      "execution_count": null,
      "metadata": {
        "id": "ieK9j6CCZ6-_",
        "outputId": "3f1431b4-461e-424a-ed17-65b4cb0b191e"
      },
      "outputs": [
        {
          "data": {
            "text/plain": [
              "0.37095000000000006"
            ]
          },
          "execution_count": 54,
          "metadata": {},
          "output_type": "execute_result"
        }
      ],
      "source": [
        "upper_la"
      ]
    },
    {
      "cell_type": "code",
      "execution_count": null,
      "metadata": {
        "id": "YMMi6_wAZ6-_",
        "outputId": "efc1fb25-f8e8-4b3c-e64d-9565afe5f8a3"
      },
      "outputs": [
        {
          "data": {
            "text/plain": [
              "0.054549999999999946"
            ]
          },
          "execution_count": 55,
          "metadata": {},
          "output_type": "execute_result"
        }
      ],
      "source": [
        "lower_la"
      ]
    },
    {
      "cell_type": "code",
      "execution_count": null,
      "metadata": {
        "id": "FkPbmQOJZ6-_",
        "outputId": "eab3d91d-aac2-45c8-ca25-69eb28cae7e3"
      },
      "outputs": [
        {
          "data": {
            "text/plain": [
              "0.00    0.137700\n",
              "0.02    0.141228\n",
              "0.04    0.144756\n",
              "0.06    0.148284\n",
              "0.08    0.151824\n",
              "0.10    0.155380\n",
              "0.12    0.158936\n",
              "0.14    0.162492\n",
              "0.16    0.165016\n",
              "0.18    0.167368\n",
              "0.20    0.169720\n",
              "0.22    0.171688\n",
              "0.24    0.172696\n",
              "0.26    0.173704\n",
              "0.28    0.174712\n",
              "0.30    0.182600\n",
              "0.32    0.193240\n",
              "0.34    0.203880\n",
              "0.36    0.213248\n",
              "0.38    0.214984\n",
              "0.40    0.216720\n",
              "0.42    0.218456\n",
              "0.44    0.220768\n",
              "0.46    0.223512\n",
              "0.48    0.226256\n",
              "0.50    0.229000\n",
              "0.52    0.229196\n",
              "0.54    0.229392\n",
              "0.56    0.229588\n",
              "0.58    0.230312\n",
              "0.60    0.231740\n",
              "0.62    0.233168\n",
              "0.64    0.234596\n",
              "0.66    0.238376\n",
              "0.68    0.242548\n",
              "0.70    0.246720\n",
              "0.72    0.250116\n",
              "0.74    0.251572\n",
              "0.76    0.253028\n",
              "0.78    0.254484\n",
              "0.80    0.271360\n",
              "0.82    0.294404\n",
              "0.84    0.317448\n",
              "0.86    0.340176\n",
              "0.88    0.361008\n",
              "0.90    0.381840\n",
              "0.92    0.402672\n",
              "0.94    0.419472\n",
              "0.96    0.433248\n",
              "0.98    0.447024\n",
              "Name: Landacres, dtype: float64"
            ]
          },
          "execution_count": 56,
          "metadata": {},
          "output_type": "execute_result"
        }
      ],
      "source": [
        "eda['Landacres'].quantile(np.arange(0,1,0.02))"
      ]
    },
    {
      "cell_type": "code",
      "execution_count": null,
      "metadata": {
        "id": "jD_57yXlZ6-_",
        "outputId": "3fbb911b-1973-4e4e-8d5f-9ff5cc18946f"
      },
      "outputs": [
        {
          "data": {
            "text/html": [
              "<div>\n",
              "<style scoped>\n",
              "    .dataframe tbody tr th:only-of-type {\n",
              "        vertical-align: middle;\n",
              "    }\n",
              "\n",
              "    .dataframe tbody tr th {\n",
              "        vertical-align: top;\n",
              "    }\n",
              "\n",
              "    .dataframe thead th {\n",
              "        text-align: right;\n",
              "    }\n",
              "</style>\n",
              "<table border=\"1\" class=\"dataframe\">\n",
              "  <thead>\n",
              "    <tr style=\"text-align: right;\">\n",
              "      <th></th>\n",
              "      <th>Name</th>\n",
              "      <th>Age</th>\n",
              "      <th>Gender</th>\n",
              "      <th>Education</th>\n",
              "      <th>Salary</th>\n",
              "      <th>AppraisedValue</th>\n",
              "      <th>Location</th>\n",
              "      <th>Landacres</th>\n",
              "      <th>HouseSizesqrft</th>\n",
              "      <th>Rooms</th>\n",
              "      <th>Baths</th>\n",
              "      <th>Garage</th>\n",
              "    </tr>\n",
              "  </thead>\n",
              "  <tbody>\n",
              "    <tr>\n",
              "      <th>3</th>\n",
              "      <td>Rose</td>\n",
              "      <td>45</td>\n",
              "      <td>F</td>\n",
              "      <td>Grad</td>\n",
              "      <td>99</td>\n",
              "      <td>548.4</td>\n",
              "      <td>LongBeach</td>\n",
              "      <td>0.4608</td>\n",
              "      <td>2707</td>\n",
              "      <td>8.0</td>\n",
              "      <td>2.5</td>\n",
              "      <td>1</td>\n",
              "    </tr>\n",
              "    <tr>\n",
              "      <th>11</th>\n",
              "      <td>Maria</td>\n",
              "      <td>51</td>\n",
              "      <td>F</td>\n",
              "      <td>Grad</td>\n",
              "      <td>122</td>\n",
              "      <td>850.0</td>\n",
              "      <td>LongBeach</td>\n",
              "      <td>0.4116</td>\n",
              "      <td>4067</td>\n",
              "      <td>9.0</td>\n",
              "      <td>4.0</td>\n",
              "      <td>1</td>\n",
              "    </tr>\n",
              "  </tbody>\n",
              "</table>\n",
              "</div>"
            ],
            "text/plain": [
              "     Name  Age Gender Education  Salary  AppraisedValue   Location  Landacres  \\\n",
              "3    Rose   45      F      Grad      99           548.4  LongBeach     0.4608   \n",
              "11  Maria   51      F      Grad     122           850.0  LongBeach     0.4116   \n",
              "\n",
              "    HouseSizesqrft  Rooms  Baths  Garage  \n",
              "3             2707    8.0    2.5       1  \n",
              "11            4067    9.0    4.0       1  "
            ]
          },
          "execution_count": 57,
          "metadata": {},
          "output_type": "execute_result"
        }
      ],
      "source": [
        "eda[eda['Landacres']>upper_la]"
      ]
    },
    {
      "cell_type": "code",
      "execution_count": null,
      "metadata": {
        "id": "3eKvJ0SQZ6-_",
        "outputId": "239dfddf-1655-4b9b-bbb2-e9fdc4844801"
      },
      "outputs": [
        {
          "data": {
            "text/plain": [
              "0.3714240000000001"
            ]
          },
          "execution_count": 58,
          "metadata": {},
          "output_type": "execute_result"
        }
      ],
      "source": [
        "eda['Landacres'].quantile(0.89) #above upper limit"
      ]
    },
    {
      "cell_type": "code",
      "execution_count": null,
      "metadata": {
        "id": "5y9C3IHJZ6_A",
        "outputId": "e7a63b7d-5abc-46eb-c822-cd2cffa439f4"
      },
      "outputs": [
        {
          "name": "stderr",
          "output_type": "stream",
          "text": [
            "C:\\Users\\T0SHIBA\\anaconda3\\lib\\site-packages\\ipykernel_launcher.py:3: SettingWithCopyWarning: \n",
            "A value is trying to be set on a copy of a slice from a DataFrame\n",
            "\n",
            "See the caveats in the documentation: https://pandas.pydata.org/pandas-docs/stable/user_guide/indexing.html#returning-a-view-versus-a-copy\n",
            "  This is separate from the ipykernel package so we can avoid doing imports until\n"
          ]
        }
      ],
      "source": [
        "for i in eda['Landacres'].index:\n",
        "    if eda['Landacres'][i]>upper_la:\n",
        "        eda['Landacres'][i]=eda['Landacres'].quantile(0.88)"
      ]
    },
    {
      "cell_type": "code",
      "execution_count": null,
      "metadata": {
        "id": "R_7e2kwhZ6_A",
        "outputId": "f2ceee65-efc1-4984-b1df-85494a359acf"
      },
      "outputs": [
        {
          "data": {
            "text/plain": [
              "<matplotlib.axes._subplots.AxesSubplot at 0xb510430>"
            ]
          },
          "execution_count": 60,
          "metadata": {},
          "output_type": "execute_result"
        },
        {
          "data": {
            "image/png": "[encoded data removed]",
            "text/plain": [
              "<Figure size 432x288 with 1 Axes>"
            ]
          },
          "metadata": {
            "needs_background": "light"
          },
          "output_type": "display_data"
        }
      ],
      "source": [
        "eda.boxplot('Landacres')"
      ]
    },
    {
      "cell_type": "code",
      "execution_count": null,
      "metadata": {
        "id": "SEKhlTlzZ6_A",
        "outputId": "f223169f-7b9a-41f0-904c-0b446ac606fa"
      },
      "outputs": [
        {
          "data": {
            "text/plain": [
              "<matplotlib.axes._subplots.AxesSubplot at 0xb5480f0>"
            ]
          },
          "execution_count": 61,
          "metadata": {},
          "output_type": "execute_result"
        },
        {
          "data": {
            "image/png": "[encoded data removed]",
            "text/plain": [
              "<Figure size 432x288 with 1 Axes>"
            ]
          },
          "metadata": {
            "needs_background": "light"
          },
          "output_type": "display_data"
        }
      ],
      "source": [
        "eda.boxplot()"
      ]
    },
    {
      "cell_type": "markdown",
      "metadata": {
        "id": "hupShpHxZ6_A"
      },
      "source": [
        "## CREATION OF VARIABLES OR DUMMY VARIABLES"
      ]
    },
    {
      "cell_type": "code",
      "execution_count": null,
      "metadata": {
        "id": "fU6Mo5lfZ6_A",
        "outputId": "4f811d2b-7be9-42e5-f075-c624f57717af"
      },
      "outputs": [
        {
          "data": {
            "text/html": [
              "<div>\n",
              "<style scoped>\n",
              "    .dataframe tbody tr th:only-of-type {\n",
              "        vertical-align: middle;\n",
              "    }\n",
              "\n",
              "    .dataframe tbody tr th {\n",
              "        vertical-align: top;\n",
              "    }\n",
              "\n",
              "    .dataframe thead th {\n",
              "        text-align: right;\n",
              "    }\n",
              "</style>\n",
              "<table border=\"1\" class=\"dataframe\">\n",
              "  <thead>\n",
              "    <tr style=\"text-align: right;\">\n",
              "      <th></th>\n",
              "      <th>Name</th>\n",
              "      <th>Age</th>\n",
              "      <th>Gender</th>\n",
              "      <th>Education</th>\n",
              "      <th>Salary</th>\n",
              "      <th>AppraisedValue</th>\n",
              "      <th>Location</th>\n",
              "      <th>Landacres</th>\n",
              "      <th>HouseSizesqrft</th>\n",
              "      <th>Rooms</th>\n",
              "      <th>Baths</th>\n",
              "      <th>Garage</th>\n",
              "    </tr>\n",
              "  </thead>\n",
              "  <tbody>\n",
              "    <tr>\n",
              "      <th>0</th>\n",
              "      <td>Tony</td>\n",
              "      <td>25</td>\n",
              "      <td>M</td>\n",
              "      <td>Grad</td>\n",
              "      <td>50</td>\n",
              "      <td>700.0</td>\n",
              "      <td>GlenCove</td>\n",
              "      <td>0.229700</td>\n",
              "      <td>2448</td>\n",
              "      <td>8.000000</td>\n",
              "      <td>3.5</td>\n",
              "      <td>2</td>\n",
              "    </tr>\n",
              "    <tr>\n",
              "      <th>1</th>\n",
              "      <td>Harret</td>\n",
              "      <td>52</td>\n",
              "      <td>F</td>\n",
              "      <td>PostGrad</td>\n",
              "      <td>95</td>\n",
              "      <td>364.0</td>\n",
              "      <td>GlenCove</td>\n",
              "      <td>0.219200</td>\n",
              "      <td>1942</td>\n",
              "      <td>7.000000</td>\n",
              "      <td>2.5</td>\n",
              "      <td>1</td>\n",
              "    </tr>\n",
              "    <tr>\n",
              "      <th>2</th>\n",
              "      <td>Jane</td>\n",
              "      <td>26</td>\n",
              "      <td>F</td>\n",
              "      <td>PostGrad</td>\n",
              "      <td>65</td>\n",
              "      <td>600.0</td>\n",
              "      <td>GlenCove</td>\n",
              "      <td>0.163000</td>\n",
              "      <td>2073</td>\n",
              "      <td>7.000000</td>\n",
              "      <td>3.0</td>\n",
              "      <td>2</td>\n",
              "    </tr>\n",
              "    <tr>\n",
              "      <th>3</th>\n",
              "      <td>Rose</td>\n",
              "      <td>45</td>\n",
              "      <td>F</td>\n",
              "      <td>Grad</td>\n",
              "      <td>99</td>\n",
              "      <td>548.4</td>\n",
              "      <td>LongBeach</td>\n",
              "      <td>0.361008</td>\n",
              "      <td>2707</td>\n",
              "      <td>8.000000</td>\n",
              "      <td>2.5</td>\n",
              "      <td>1</td>\n",
              "    </tr>\n",
              "    <tr>\n",
              "      <th>4</th>\n",
              "      <td>John</td>\n",
              "      <td>42</td>\n",
              "      <td>M</td>\n",
              "      <td>Grad</td>\n",
              "      <td>77</td>\n",
              "      <td>405.9</td>\n",
              "      <td>LongBeach</td>\n",
              "      <td>0.254900</td>\n",
              "      <td>2042</td>\n",
              "      <td>7.166667</td>\n",
              "      <td>1.5</td>\n",
              "      <td>1</td>\n",
              "    </tr>\n",
              "  </tbody>\n",
              "</table>\n",
              "</div>"
            ],
            "text/plain": [
              "     Name  Age Gender Education  Salary  AppraisedValue   Location  Landacres  \\\n",
              "0    Tony   25      M      Grad      50           700.0   GlenCove   0.229700   \n",
              "1  Harret   52      F  PostGrad      95           364.0   GlenCove   0.219200   \n",
              "2    Jane   26      F  PostGrad      65           600.0   GlenCove   0.163000   \n",
              "3    Rose   45      F      Grad      99           548.4  LongBeach   0.361008   \n",
              "4    John   42      M      Grad      77           405.9  LongBeach   0.254900   \n",
              "\n",
              "   HouseSizesqrft     Rooms  Baths  Garage  \n",
              "0            2448  8.000000    3.5       2  \n",
              "1            1942  7.000000    2.5       1  \n",
              "2            2073  7.000000    3.0       2  \n",
              "3            2707  8.000000    2.5       1  \n",
              "4            2042  7.166667    1.5       1  "
            ]
          },
          "execution_count": 62,
          "metadata": {},
          "output_type": "execute_result"
        }
      ],
      "source": [
        "eda.head()"
      ]
    },
    {
      "cell_type": "code",
      "execution_count": null,
      "metadata": {
        "id": "A_w1YrK9Z6_B"
      },
      "outputs": [],
      "source": [
        "eda.drop('Name',axis=1,inplace=True)"
      ]
    },
    {
      "cell_type": "code",
      "execution_count": null,
      "metadata": {
        "id": "e6o6vv8aZ6_B",
        "outputId": "c4fc24ca-7346-420d-e566-7e8ad1345ccc"
      },
      "outputs": [
        {
          "data": {
            "text/html": [
              "<div>\n",
              "<style scoped>\n",
              "    .dataframe tbody tr th:only-of-type {\n",
              "        vertical-align: middle;\n",
              "    }\n",
              "\n",
              "    .dataframe tbody tr th {\n",
              "        vertical-align: top;\n",
              "    }\n",
              "\n",
              "    .dataframe thead th {\n",
              "        text-align: right;\n",
              "    }\n",
              "</style>\n",
              "<table border=\"1\" class=\"dataframe\">\n",
              "  <thead>\n",
              "    <tr style=\"text-align: right;\">\n",
              "      <th></th>\n",
              "      <th>Age</th>\n",
              "      <th>Gender</th>\n",
              "      <th>Education</th>\n",
              "      <th>Salary</th>\n",
              "      <th>AppraisedValue</th>\n",
              "      <th>Location</th>\n",
              "      <th>Landacres</th>\n",
              "      <th>HouseSizesqrft</th>\n",
              "      <th>Rooms</th>\n",
              "      <th>Baths</th>\n",
              "      <th>Garage</th>\n",
              "    </tr>\n",
              "  </thead>\n",
              "  <tbody>\n",
              "    <tr>\n",
              "      <th>0</th>\n",
              "      <td>25</td>\n",
              "      <td>M</td>\n",
              "      <td>Grad</td>\n",
              "      <td>50</td>\n",
              "      <td>700.0</td>\n",
              "      <td>GlenCove</td>\n",
              "      <td>0.229700</td>\n",
              "      <td>2448</td>\n",
              "      <td>8.000000</td>\n",
              "      <td>3.5</td>\n",
              "      <td>2</td>\n",
              "    </tr>\n",
              "    <tr>\n",
              "      <th>1</th>\n",
              "      <td>52</td>\n",
              "      <td>F</td>\n",
              "      <td>PostGrad</td>\n",
              "      <td>95</td>\n",
              "      <td>364.0</td>\n",
              "      <td>GlenCove</td>\n",
              "      <td>0.219200</td>\n",
              "      <td>1942</td>\n",
              "      <td>7.000000</td>\n",
              "      <td>2.5</td>\n",
              "      <td>1</td>\n",
              "    </tr>\n",
              "    <tr>\n",
              "      <th>2</th>\n",
              "      <td>26</td>\n",
              "      <td>F</td>\n",
              "      <td>PostGrad</td>\n",
              "      <td>65</td>\n",
              "      <td>600.0</td>\n",
              "      <td>GlenCove</td>\n",
              "      <td>0.163000</td>\n",
              "      <td>2073</td>\n",
              "      <td>7.000000</td>\n",
              "      <td>3.0</td>\n",
              "      <td>2</td>\n",
              "    </tr>\n",
              "    <tr>\n",
              "      <th>3</th>\n",
              "      <td>45</td>\n",
              "      <td>F</td>\n",
              "      <td>Grad</td>\n",
              "      <td>99</td>\n",
              "      <td>548.4</td>\n",
              "      <td>LongBeach</td>\n",
              "      <td>0.361008</td>\n",
              "      <td>2707</td>\n",
              "      <td>8.000000</td>\n",
              "      <td>2.5</td>\n",
              "      <td>1</td>\n",
              "    </tr>\n",
              "    <tr>\n",
              "      <th>4</th>\n",
              "      <td>42</td>\n",
              "      <td>M</td>\n",
              "      <td>Grad</td>\n",
              "      <td>77</td>\n",
              "      <td>405.9</td>\n",
              "      <td>LongBeach</td>\n",
              "      <td>0.254900</td>\n",
              "      <td>2042</td>\n",
              "      <td>7.166667</td>\n",
              "      <td>1.5</td>\n",
              "      <td>1</td>\n",
              "    </tr>\n",
              "  </tbody>\n",
              "</table>\n",
              "</div>"
            ],
            "text/plain": [
              "   Age Gender Education  Salary  AppraisedValue   Location  Landacres  \\\n",
              "0   25      M      Grad      50           700.0   GlenCove   0.229700   \n",
              "1   52      F  PostGrad      95           364.0   GlenCove   0.219200   \n",
              "2   26      F  PostGrad      65           600.0   GlenCove   0.163000   \n",
              "3   45      F      Grad      99           548.4  LongBeach   0.361008   \n",
              "4   42      M      Grad      77           405.9  LongBeach   0.254900   \n",
              "\n",
              "   HouseSizesqrft     Rooms  Baths  Garage  \n",
              "0            2448  8.000000    3.5       2  \n",
              "1            1942  7.000000    2.5       1  \n",
              "2            2073  7.000000    3.0       2  \n",
              "3            2707  8.000000    2.5       1  \n",
              "4            2042  7.166667    1.5       1  "
            ]
          },
          "execution_count": 64,
          "metadata": {},
          "output_type": "execute_result"
        }
      ],
      "source": [
        "eda.head()"
      ]
    },
    {
      "cell_type": "markdown",
      "metadata": {
        "id": "40DUQ_DfZ6_B"
      },
      "source": [
        "## Dummy Variables"
      ]
    },
    {
      "cell_type": "code",
      "execution_count": null,
      "metadata": {
        "id": "MapOzGMPZ6_B"
      },
      "outputs": [],
      "source": [
        "eda_clean=pd.get_dummies(eda,drop_first=True)\n"
      ]
    },
    {
      "cell_type": "code",
      "execution_count": null,
      "metadata": {
        "id": "-B6TpgUeZ6_B",
        "outputId": "b15c2156-d210-4b6b-8fd5-06b04a53b7de"
      },
      "outputs": [
        {
          "data": {
            "text/html": [
              "<div>\n",
              "<style scoped>\n",
              "    .dataframe tbody tr th:only-of-type {\n",
              "        vertical-align: middle;\n",
              "    }\n",
              "\n",
              "    .dataframe tbody tr th {\n",
              "        vertical-align: top;\n",
              "    }\n",
              "\n",
              "    .dataframe thead th {\n",
              "        text-align: right;\n",
              "    }\n",
              "</style>\n",
              "<table border=\"1\" class=\"dataframe\">\n",
              "  <thead>\n",
              "    <tr style=\"text-align: right;\">\n",
              "      <th></th>\n",
              "      <th>Age</th>\n",
              "      <th>Salary</th>\n",
              "      <th>AppraisedValue</th>\n",
              "      <th>Landacres</th>\n",
              "      <th>HouseSizesqrft</th>\n",
              "      <th>Rooms</th>\n",
              "      <th>Baths</th>\n",
              "      <th>Garage</th>\n",
              "      <th>Gender_M</th>\n",
              "      <th>Education_PostGrad</th>\n",
              "      <th>Location_LongBeach</th>\n",
              "      <th>Location_Roslyn</th>\n",
              "    </tr>\n",
              "  </thead>\n",
              "  <tbody>\n",
              "    <tr>\n",
              "      <th>0</th>\n",
              "      <td>25</td>\n",
              "      <td>50</td>\n",
              "      <td>700.0</td>\n",
              "      <td>0.229700</td>\n",
              "      <td>2448</td>\n",
              "      <td>8.000000</td>\n",
              "      <td>3.5</td>\n",
              "      <td>2</td>\n",
              "      <td>1</td>\n",
              "      <td>0</td>\n",
              "      <td>0</td>\n",
              "      <td>0</td>\n",
              "    </tr>\n",
              "    <tr>\n",
              "      <th>1</th>\n",
              "      <td>52</td>\n",
              "      <td>95</td>\n",
              "      <td>364.0</td>\n",
              "      <td>0.219200</td>\n",
              "      <td>1942</td>\n",
              "      <td>7.000000</td>\n",
              "      <td>2.5</td>\n",
              "      <td>1</td>\n",
              "      <td>0</td>\n",
              "      <td>1</td>\n",
              "      <td>0</td>\n",
              "      <td>0</td>\n",
              "    </tr>\n",
              "    <tr>\n",
              "      <th>2</th>\n",
              "      <td>26</td>\n",
              "      <td>65</td>\n",
              "      <td>600.0</td>\n",
              "      <td>0.163000</td>\n",
              "      <td>2073</td>\n",
              "      <td>7.000000</td>\n",
              "      <td>3.0</td>\n",
              "      <td>2</td>\n",
              "      <td>0</td>\n",
              "      <td>1</td>\n",
              "      <td>0</td>\n",
              "      <td>0</td>\n",
              "    </tr>\n",
              "    <tr>\n",
              "      <th>3</th>\n",
              "      <td>45</td>\n",
              "      <td>99</td>\n",
              "      <td>548.4</td>\n",
              "      <td>0.361008</td>\n",
              "      <td>2707</td>\n",
              "      <td>8.000000</td>\n",
              "      <td>2.5</td>\n",
              "      <td>1</td>\n",
              "      <td>0</td>\n",
              "      <td>0</td>\n",
              "      <td>1</td>\n",
              "      <td>0</td>\n",
              "    </tr>\n",
              "    <tr>\n",
              "      <th>4</th>\n",
              "      <td>42</td>\n",
              "      <td>77</td>\n",
              "      <td>405.9</td>\n",
              "      <td>0.254900</td>\n",
              "      <td>2042</td>\n",
              "      <td>7.166667</td>\n",
              "      <td>1.5</td>\n",
              "      <td>1</td>\n",
              "      <td>1</td>\n",
              "      <td>0</td>\n",
              "      <td>1</td>\n",
              "      <td>0</td>\n",
              "    </tr>\n",
              "    <tr>\n",
              "      <th>5</th>\n",
              "      <td>62</td>\n",
              "      <td>118</td>\n",
              "      <td>374.1</td>\n",
              "      <td>0.229000</td>\n",
              "      <td>2089</td>\n",
              "      <td>7.000000</td>\n",
              "      <td>2.0</td>\n",
              "      <td>0</td>\n",
              "      <td>1</td>\n",
              "      <td>1</td>\n",
              "      <td>0</td>\n",
              "      <td>0</td>\n",
              "    </tr>\n",
              "    <tr>\n",
              "      <th>6</th>\n",
              "      <td>51</td>\n",
              "      <td>101</td>\n",
              "      <td>600.0</td>\n",
              "      <td>0.171400</td>\n",
              "      <td>1344</td>\n",
              "      <td>8.000000</td>\n",
              "      <td>1.0</td>\n",
              "      <td>0</td>\n",
              "      <td>1</td>\n",
              "      <td>0</td>\n",
              "      <td>0</td>\n",
              "      <td>0</td>\n",
              "    </tr>\n",
              "    <tr>\n",
              "      <th>7</th>\n",
              "      <td>43</td>\n",
              "      <td>108</td>\n",
              "      <td>299.0</td>\n",
              "      <td>0.175000</td>\n",
              "      <td>1120</td>\n",
              "      <td>5.000000</td>\n",
              "      <td>1.5</td>\n",
              "      <td>0</td>\n",
              "      <td>1</td>\n",
              "      <td>0</td>\n",
              "      <td>0</td>\n",
              "      <td>1</td>\n",
              "    </tr>\n",
              "    <tr>\n",
              "      <th>8</th>\n",
              "      <td>24</td>\n",
              "      <td>51</td>\n",
              "      <td>471.0</td>\n",
              "      <td>0.213000</td>\n",
              "      <td>1817</td>\n",
              "      <td>6.000000</td>\n",
              "      <td>2.0</td>\n",
              "      <td>0</td>\n",
              "      <td>0</td>\n",
              "      <td>1</td>\n",
              "      <td>0</td>\n",
              "      <td>1</td>\n",
              "    </tr>\n",
              "    <tr>\n",
              "      <th>9</th>\n",
              "      <td>25</td>\n",
              "      <td>68</td>\n",
              "      <td>510.7</td>\n",
              "      <td>0.137700</td>\n",
              "      <td>2496</td>\n",
              "      <td>7.166667</td>\n",
              "      <td>2.0</td>\n",
              "      <td>1</td>\n",
              "      <td>1</td>\n",
              "      <td>1</td>\n",
              "      <td>0</td>\n",
              "      <td>1</td>\n",
              "    </tr>\n",
              "    <tr>\n",
              "      <th>10</th>\n",
              "      <td>41</td>\n",
              "      <td>86</td>\n",
              "      <td>517.7</td>\n",
              "      <td>0.249700</td>\n",
              "      <td>1615</td>\n",
              "      <td>7.000000</td>\n",
              "      <td>2.0</td>\n",
              "      <td>1</td>\n",
              "      <td>1</td>\n",
              "      <td>0</td>\n",
              "      <td>1</td>\n",
              "      <td>0</td>\n",
              "    </tr>\n",
              "    <tr>\n",
              "      <th>11</th>\n",
              "      <td>51</td>\n",
              "      <td>122</td>\n",
              "      <td>850.0</td>\n",
              "      <td>0.344819</td>\n",
              "      <td>4067</td>\n",
              "      <td>9.000000</td>\n",
              "      <td>4.0</td>\n",
              "      <td>1</td>\n",
              "      <td>0</td>\n",
              "      <td>0</td>\n",
              "      <td>1</td>\n",
              "      <td>0</td>\n",
              "    </tr>\n",
              "    <tr>\n",
              "      <th>12</th>\n",
              "      <td>49</td>\n",
              "      <td>112</td>\n",
              "      <td>700.0</td>\n",
              "      <td>0.337200</td>\n",
              "      <td>3130</td>\n",
              "      <td>8.000000</td>\n",
              "      <td>3.0</td>\n",
              "      <td>1</td>\n",
              "      <td>0</td>\n",
              "      <td>1</td>\n",
              "      <td>0</td>\n",
              "      <td>1</td>\n",
              "    </tr>\n",
              "    <tr>\n",
              "      <th>13</th>\n",
              "      <td>32</td>\n",
              "      <td>85</td>\n",
              "      <td>374.8</td>\n",
              "      <td>0.150300</td>\n",
              "      <td>1423</td>\n",
              "      <td>7.166667</td>\n",
              "      <td>2.0</td>\n",
              "      <td>0</td>\n",
              "      <td>0</td>\n",
              "      <td>0</td>\n",
              "      <td>0</td>\n",
              "      <td>1</td>\n",
              "    </tr>\n",
              "    <tr>\n",
              "      <th>14</th>\n",
              "      <td>37</td>\n",
              "      <td>90</td>\n",
              "      <td>543.0</td>\n",
              "      <td>0.234800</td>\n",
              "      <td>1799</td>\n",
              "      <td>6.000000</td>\n",
              "      <td>2.5</td>\n",
              "      <td>1</td>\n",
              "      <td>1</td>\n",
              "      <td>0</td>\n",
              "      <td>1</td>\n",
              "      <td>0</td>\n",
              "    </tr>\n",
              "  </tbody>\n",
              "</table>\n",
              "</div>"
            ],
            "text/plain": [
              "    Age  Salary  AppraisedValue  Landacres  HouseSizesqrft     Rooms  Baths  \\\n",
              "0    25      50           700.0   0.229700            2448  8.000000    3.5   \n",
              "1    52      95           364.0   0.219200            1942  7.000000    2.5   \n",
              "2    26      65           600.0   0.163000            2073  7.000000    3.0   \n",
              "3    45      99           548.4   0.361008            2707  8.000000    2.5   \n",
              "4    42      77           405.9   0.254900            2042  7.166667    1.5   \n",
              "5    62     118           374.1   0.229000            2089  7.000000    2.0   \n",
              "6    51     101           600.0   0.171400            1344  8.000000    1.0   \n",
              "7    43     108           299.0   0.175000            1120  5.000000    1.5   \n",
              "8    24      51           471.0   0.213000            1817  6.000000    2.0   \n",
              "9    25      68           510.7   0.137700            2496  7.166667    2.0   \n",
              "10   41      86           517.7   0.249700            1615  7.000000    2.0   \n",
              "11   51     122           850.0   0.344819            4067  9.000000    4.0   \n",
              "12   49     112           700.0   0.337200            3130  8.000000    3.0   \n",
              "13   32      85           374.8   0.150300            1423  7.166667    2.0   \n",
              "14   37      90           543.0   0.234800            1799  6.000000    2.5   \n",
              "\n",
              "    Garage  Gender_M  Education_PostGrad  Location_LongBeach  Location_Roslyn  \n",
              "0        2         1                   0                   0                0  \n",
              "1        1         0                   1                   0                0  \n",
              "2        2         0                   1                   0                0  \n",
              "3        1         0                   0                   1                0  \n",
              "4        1         1                   0                   1                0  \n",
              "5        0         1                   1                   0                0  \n",
              "6        0         1                   0                   0                0  \n",
              "7        0         1                   0                   0                1  \n",
              "8        0         0                   1                   0                1  \n",
              "9        1         1                   1                   0                1  \n",
              "10       1         1                   0                   1                0  \n",
              "11       1         0                   0                   1                0  \n",
              "12       1         0                   1                   0                1  \n",
              "13       0         0                   0                   0                1  \n",
              "14       1         1                   0                   1                0  "
            ]
          },
          "execution_count": 66,
          "metadata": {},
          "output_type": "execute_result"
        }
      ],
      "source": [
        "eda_clean"
      ]
    },
    {
      "cell_type": "markdown",
      "metadata": {
        "id": "jLzLCd18Z6_C"
      },
      "source": [
        "### Dummy Variable will be :\n",
        "### NUMBER OF OPTIONS - 1\n",
        "### EG : Gender (2-1)\n",
        "### Location (3-1)"
      ]
    },
    {
      "cell_type": "code",
      "execution_count": null,
      "metadata": {
        "id": "-DHcVjdNZ6_C",
        "outputId": "7506508e-e0b1-41ad-c838-28ca64a646d8"
      },
      "outputs": [
        {
          "name": "stdout",
          "output_type": "stream",
          "text": [
            "<class 'pandas.core.frame.DataFrame'>\n",
            "RangeIndex: 15 entries, 0 to 14\n",
            "Data columns (total 12 columns):\n",
            " #   Column              Non-Null Count  Dtype  \n",
            "---  ------              --------------  -----  \n",
            " 0   Age                 15 non-null     int64  \n",
            " 1   Salary              15 non-null     int64  \n",
            " 2   AppraisedValue      15 non-null     float64\n",
            " 3   Landacres           15 non-null     float64\n",
            " 4   HouseSizesqrft      15 non-null     int64  \n",
            " 5   Rooms               15 non-null     float64\n",
            " 6   Baths               15 non-null     float64\n",
            " 7   Garage              15 non-null     int64  \n",
            " 8   Gender_M            15 non-null     uint8  \n",
            " 9   Education_PostGrad  15 non-null     uint8  \n",
            " 10  Location_LongBeach  15 non-null     uint8  \n",
            " 11  Location_Roslyn     15 non-null     uint8  \n",
            "dtypes: float64(4), int64(4), uint8(4)\n",
            "memory usage: 1.1 KB\n"
          ]
        }
      ],
      "source": [
        "eda_clean.info()"
      ]
    },
    {
      "cell_type": "code",
      "execution_count": null,
      "metadata": {
        "id": "TXu2DzEVZ6_C"
      },
      "outputs": [],
      "source": [
        "eda_clean['Price_Per_Sqft']=eda_clean['AppraisedValue']/eda_clean['HouseSizesqrft']"
      ]
    },
    {
      "cell_type": "code",
      "execution_count": null,
      "metadata": {
        "id": "HYko3kFNZ6_C",
        "outputId": "c2ee2a5f-a009-4cfb-9af8-5a6ecbab91f1"
      },
      "outputs": [
        {
          "data": {
            "text/html": [
              "<div>\n",
              "<style scoped>\n",
              "    .dataframe tbody tr th:only-of-type {\n",
              "        vertical-align: middle;\n",
              "    }\n",
              "\n",
              "    .dataframe tbody tr th {\n",
              "        vertical-align: top;\n",
              "    }\n",
              "\n",
              "    .dataframe thead th {\n",
              "        text-align: right;\n",
              "    }\n",
              "</style>\n",
              "<table border=\"1\" class=\"dataframe\">\n",
              "  <thead>\n",
              "    <tr style=\"text-align: right;\">\n",
              "      <th></th>\n",
              "      <th>Age</th>\n",
              "      <th>Salary</th>\n",
              "      <th>AppraisedValue</th>\n",
              "      <th>Landacres</th>\n",
              "      <th>HouseSizesqrft</th>\n",
              "      <th>Rooms</th>\n",
              "      <th>Baths</th>\n",
              "      <th>Garage</th>\n",
              "      <th>Gender_M</th>\n",
              "      <th>Education_PostGrad</th>\n",
              "      <th>Location_LongBeach</th>\n",
              "      <th>Location_Roslyn</th>\n",
              "      <th>Price_Per_Sqft</th>\n",
              "    </tr>\n",
              "  </thead>\n",
              "  <tbody>\n",
              "    <tr>\n",
              "      <th>0</th>\n",
              "      <td>25</td>\n",
              "      <td>50</td>\n",
              "      <td>700.0</td>\n",
              "      <td>0.229700</td>\n",
              "      <td>2448</td>\n",
              "      <td>8.000000</td>\n",
              "      <td>3.5</td>\n",
              "      <td>2</td>\n",
              "      <td>1</td>\n",
              "      <td>0</td>\n",
              "      <td>0</td>\n",
              "      <td>0</td>\n",
              "      <td>0.285948</td>\n",
              "    </tr>\n",
              "    <tr>\n",
              "      <th>1</th>\n",
              "      <td>52</td>\n",
              "      <td>95</td>\n",
              "      <td>364.0</td>\n",
              "      <td>0.219200</td>\n",
              "      <td>1942</td>\n",
              "      <td>7.000000</td>\n",
              "      <td>2.5</td>\n",
              "      <td>1</td>\n",
              "      <td>0</td>\n",
              "      <td>1</td>\n",
              "      <td>0</td>\n",
              "      <td>0</td>\n",
              "      <td>0.187436</td>\n",
              "    </tr>\n",
              "    <tr>\n",
              "      <th>2</th>\n",
              "      <td>26</td>\n",
              "      <td>65</td>\n",
              "      <td>600.0</td>\n",
              "      <td>0.163000</td>\n",
              "      <td>2073</td>\n",
              "      <td>7.000000</td>\n",
              "      <td>3.0</td>\n",
              "      <td>2</td>\n",
              "      <td>0</td>\n",
              "      <td>1</td>\n",
              "      <td>0</td>\n",
              "      <td>0</td>\n",
              "      <td>0.289436</td>\n",
              "    </tr>\n",
              "    <tr>\n",
              "      <th>3</th>\n",
              "      <td>45</td>\n",
              "      <td>99</td>\n",
              "      <td>548.4</td>\n",
              "      <td>0.361008</td>\n",
              "      <td>2707</td>\n",
              "      <td>8.000000</td>\n",
              "      <td>2.5</td>\n",
              "      <td>1</td>\n",
              "      <td>0</td>\n",
              "      <td>0</td>\n",
              "      <td>1</td>\n",
              "      <td>0</td>\n",
              "      <td>0.202586</td>\n",
              "    </tr>\n",
              "    <tr>\n",
              "      <th>4</th>\n",
              "      <td>42</td>\n",
              "      <td>77</td>\n",
              "      <td>405.9</td>\n",
              "      <td>0.254900</td>\n",
              "      <td>2042</td>\n",
              "      <td>7.166667</td>\n",
              "      <td>1.5</td>\n",
              "      <td>1</td>\n",
              "      <td>1</td>\n",
              "      <td>0</td>\n",
              "      <td>1</td>\n",
              "      <td>0</td>\n",
              "      <td>0.198776</td>\n",
              "    </tr>\n",
              "  </tbody>\n",
              "</table>\n",
              "</div>"
            ],
            "text/plain": [
              "   Age  Salary  AppraisedValue  Landacres  HouseSizesqrft     Rooms  Baths  \\\n",
              "0   25      50           700.0   0.229700            2448  8.000000    3.5   \n",
              "1   52      95           364.0   0.219200            1942  7.000000    2.5   \n",
              "2   26      65           600.0   0.163000            2073  7.000000    3.0   \n",
              "3   45      99           548.4   0.361008            2707  8.000000    2.5   \n",
              "4   42      77           405.9   0.254900            2042  7.166667    1.5   \n",
              "\n",
              "   Garage  Gender_M  Education_PostGrad  Location_LongBeach  Location_Roslyn  \\\n",
              "0       2         1                   0                   0                0   \n",
              "1       1         0                   1                   0                0   \n",
              "2       2         0                   1                   0                0   \n",
              "3       1         0                   0                   1                0   \n",
              "4       1         1                   0                   1                0   \n",
              "\n",
              "   Price_Per_Sqft  \n",
              "0        0.285948  \n",
              "1        0.187436  \n",
              "2        0.289436  \n",
              "3        0.202586  \n",
              "4        0.198776  "
            ]
          },
          "execution_count": 69,
          "metadata": {},
          "output_type": "execute_result"
        }
      ],
      "source": [
        "eda_clean.head()"
      ]
    },
    {
      "cell_type": "markdown",
      "metadata": {
        "id": "PQwaZJIKZ6_C"
      },
      "source": [
        "# VARIABLE TRANSFORMATION"
      ]
    },
    {
      "cell_type": "code",
      "execution_count": null,
      "metadata": {
        "id": "t9_OaApsZ6_C",
        "outputId": "117f9bb7-5074-4d26-aaf5-b87c96216920"
      },
      "outputs": [
        {
          "data": {
            "text/html": [
              "<div>\n",
              "<style scoped>\n",
              "    .dataframe tbody tr th:only-of-type {\n",
              "        vertical-align: middle;\n",
              "    }\n",
              "\n",
              "    .dataframe tbody tr th {\n",
              "        vertical-align: top;\n",
              "    }\n",
              "\n",
              "    .dataframe thead th {\n",
              "        text-align: right;\n",
              "    }\n",
              "</style>\n",
              "<table border=\"1\" class=\"dataframe\">\n",
              "  <thead>\n",
              "    <tr style=\"text-align: right;\">\n",
              "      <th></th>\n",
              "      <th>Age</th>\n",
              "      <th>Salary</th>\n",
              "      <th>AppraisedValue</th>\n",
              "      <th>Landacres</th>\n",
              "      <th>HouseSizesqrft</th>\n",
              "      <th>Rooms</th>\n",
              "      <th>Baths</th>\n",
              "      <th>Garage</th>\n",
              "      <th>Gender_M</th>\n",
              "      <th>Education_PostGrad</th>\n",
              "      <th>Location_LongBeach</th>\n",
              "      <th>Location_Roslyn</th>\n",
              "      <th>Price_Per_Sqft</th>\n",
              "    </tr>\n",
              "  </thead>\n",
              "  <tbody>\n",
              "    <tr>\n",
              "      <th>0</th>\n",
              "      <td>25</td>\n",
              "      <td>50</td>\n",
              "      <td>700.0</td>\n",
              "      <td>0.229700</td>\n",
              "      <td>2448</td>\n",
              "      <td>8.000000</td>\n",
              "      <td>3.5</td>\n",
              "      <td>2</td>\n",
              "      <td>1</td>\n",
              "      <td>0</td>\n",
              "      <td>0</td>\n",
              "      <td>0</td>\n",
              "      <td>0.285948</td>\n",
              "    </tr>\n",
              "    <tr>\n",
              "      <th>1</th>\n",
              "      <td>52</td>\n",
              "      <td>95</td>\n",
              "      <td>364.0</td>\n",
              "      <td>0.219200</td>\n",
              "      <td>1942</td>\n",
              "      <td>7.000000</td>\n",
              "      <td>2.5</td>\n",
              "      <td>1</td>\n",
              "      <td>0</td>\n",
              "      <td>1</td>\n",
              "      <td>0</td>\n",
              "      <td>0</td>\n",
              "      <td>0.187436</td>\n",
              "    </tr>\n",
              "    <tr>\n",
              "      <th>2</th>\n",
              "      <td>26</td>\n",
              "      <td>65</td>\n",
              "      <td>600.0</td>\n",
              "      <td>0.163000</td>\n",
              "      <td>2073</td>\n",
              "      <td>7.000000</td>\n",
              "      <td>3.0</td>\n",
              "      <td>2</td>\n",
              "      <td>0</td>\n",
              "      <td>1</td>\n",
              "      <td>0</td>\n",
              "      <td>0</td>\n",
              "      <td>0.289436</td>\n",
              "    </tr>\n",
              "    <tr>\n",
              "      <th>3</th>\n",
              "      <td>45</td>\n",
              "      <td>99</td>\n",
              "      <td>548.4</td>\n",
              "      <td>0.361008</td>\n",
              "      <td>2707</td>\n",
              "      <td>8.000000</td>\n",
              "      <td>2.5</td>\n",
              "      <td>1</td>\n",
              "      <td>0</td>\n",
              "      <td>0</td>\n",
              "      <td>1</td>\n",
              "      <td>0</td>\n",
              "      <td>0.202586</td>\n",
              "    </tr>\n",
              "    <tr>\n",
              "      <th>4</th>\n",
              "      <td>42</td>\n",
              "      <td>77</td>\n",
              "      <td>405.9</td>\n",
              "      <td>0.254900</td>\n",
              "      <td>2042</td>\n",
              "      <td>7.166667</td>\n",
              "      <td>1.5</td>\n",
              "      <td>1</td>\n",
              "      <td>1</td>\n",
              "      <td>0</td>\n",
              "      <td>1</td>\n",
              "      <td>0</td>\n",
              "      <td>0.198776</td>\n",
              "    </tr>\n",
              "  </tbody>\n",
              "</table>\n",
              "</div>"
            ],
            "text/plain": [
              "   Age  Salary  AppraisedValue  Landacres  HouseSizesqrft     Rooms  Baths  \\\n",
              "0   25      50           700.0   0.229700            2448  8.000000    3.5   \n",
              "1   52      95           364.0   0.219200            1942  7.000000    2.5   \n",
              "2   26      65           600.0   0.163000            2073  7.000000    3.0   \n",
              "3   45      99           548.4   0.361008            2707  8.000000    2.5   \n",
              "4   42      77           405.9   0.254900            2042  7.166667    1.5   \n",
              "\n",
              "   Garage  Gender_M  Education_PostGrad  Location_LongBeach  Location_Roslyn  \\\n",
              "0       2         1                   0                   0                0   \n",
              "1       1         0                   1                   0                0   \n",
              "2       2         0                   1                   0                0   \n",
              "3       1         0                   0                   1                0   \n",
              "4       1         1                   0                   1                0   \n",
              "\n",
              "   Price_Per_Sqft  \n",
              "0        0.285948  \n",
              "1        0.187436  \n",
              "2        0.289436  \n",
              "3        0.202586  \n",
              "4        0.198776  "
            ]
          },
          "execution_count": 70,
          "metadata": {},
          "output_type": "execute_result"
        }
      ],
      "source": [
        "eda_clean.head()"
      ]
    },
    {
      "cell_type": "code",
      "execution_count": null,
      "metadata": {
        "id": "Mbe98omHZ6_C"
      },
      "outputs": [],
      "source": [
        ""
      ]
    },
    {
      "cell_type": "code",
      "execution_count": null,
      "metadata": {
        "id": "UHDZX9ChZ6_D"
      },
      "outputs": [],
      "source": [
        ""
      ]
    },
    {
      "cell_type": "code",
      "execution_count": null,
      "metadata": {
        "id": "ayNvRp-CZ6_D"
      },
      "outputs": [],
      "source": [
        ""
      ]
    },
    {
      "cell_type": "code",
      "execution_count": null,
      "metadata": {
        "id": "tAlW-JXzZ6_D"
      },
      "outputs": [],
      "source": [
        ""
      ]
    }
  ],
  "metadata": {
    "kernelspec": {
      "display_name": "Python 3",
      "language": "python",
      "name": "python3"
    },
    "language_info": {
      "codemirror_mode": {
        "name": "ipython",
        "version": 3
      },
      "file_extension": ".py",
      "mimetype": "text/x-python",
      "name": "python",
      "nbconvert_exporter": "python",
      "pygments_lexer": "ipython3",
      "version": "3.8.5"
    },
    "colab": {
      "name": "07 EDA.ipynb",
      "provenance": [],
      "include_colab_link": true
    }
  },
  "nbformat": 4,
  "nbformat_minor": 0
}